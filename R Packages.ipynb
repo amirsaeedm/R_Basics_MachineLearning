{
 "cells": [
  {
   "cell_type": "markdown",
   "id": "2e963b02",
   "metadata": {},
   "source": [
    "help(\"aggregate\") <br />\n",
    "?aggregate"
   ]
  },
  {
   "cell_type": "markdown",
   "id": "6c2366e8",
   "metadata": {},
   "source": [
    "- For Reading Excel Files <br />\n",
    "install.packages(\"readxl\")"
   ]
  },
  {
   "cell_type": "markdown",
   "id": "6c172f74",
   "metadata": {},
   "source": [
    "- For DataFrame manipulation Functions <br />\n",
    "install.packages(\"dplyr\")"
   ]
  },
  {
   "cell_type": "markdown",
   "id": "85d4b83c",
   "metadata": {},
   "source": [
    "- For 3D PieChart <br />\n",
    "install.packages(\"plotrix\")"
   ]
  },
  {
   "cell_type": "markdown",
   "id": "d96179ce",
   "metadata": {},
   "source": [
    "- For Visualizations <br />\n",
    "install.packages(\"ggplot2\")"
   ]
  },
  {
   "cell_type": "markdown",
   "id": "109833ee",
   "metadata": {},
   "source": []
  },
  {
   "cell_type": "markdown",
   "id": "035b7fef",
   "metadata": {},
   "source": []
  },
  {
   "cell_type": "markdown",
   "id": "b0716d35",
   "metadata": {},
   "source": []
  },
  {
   "cell_type": "markdown",
   "id": "01191e83",
   "metadata": {},
   "source": []
  },
  {
   "cell_type": "markdown",
   "id": "5918c97c",
   "metadata": {},
   "source": []
  },
  {
   "cell_type": "markdown",
   "id": "2f351b92",
   "metadata": {},
   "source": []
  },
  {
   "cell_type": "markdown",
   "id": "ff41177a",
   "metadata": {},
   "source": []
  },
  {
   "cell_type": "markdown",
   "id": "1846318b",
   "metadata": {},
   "source": []
  },
  {
   "cell_type": "markdown",
   "id": "9bcafc8f",
   "metadata": {},
   "source": []
  }
 ],
 "metadata": {
  "kernelspec": {
   "display_name": "R",
   "language": "R",
   "name": "ir"
  },
  "language_info": {
   "codemirror_mode": "r",
   "file_extension": ".r",
   "mimetype": "text/x-r-source",
   "name": "R",
   "pygments_lexer": "r",
   "version": "3.6.1"
  }
 },
 "nbformat": 4,
 "nbformat_minor": 5
}
