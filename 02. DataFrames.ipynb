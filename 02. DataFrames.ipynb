{
 "cells": [
  {
   "cell_type": "markdown",
   "id": "f6c67fc7",
   "metadata": {},
   "source": [
    "# 1. Create DataFrame"
   ]
  },
  {
   "cell_type": "code",
   "execution_count": 1,
   "id": "9c94e2d4",
   "metadata": {},
   "outputs": [],
   "source": [
    "maths = c(89,78,56,90,92,95)\n",
    "science <- c(83,89,80,96,91,76)\n",
    "first_name <- c('first1','first2','first3','first4','first5','first6')\n",
    "last_name <- c('last1','last2','last3','last4','last5','last6')\n",
    "student_id <- c(1,2,3,4,5,6)"
   ]
  },
  {
   "cell_type": "code",
   "execution_count": 2,
   "id": "066026c0",
   "metadata": {},
   "outputs": [],
   "source": [
    "class_total <- data.frame(student_id,first_name,last_name,maths, science)"
   ]
  },
  {
   "cell_type": "code",
   "execution_count": 3,
   "id": "477c4554",
   "metadata": {
    "scrolled": true
   },
   "outputs": [
    {
     "data": {
      "text/html": [
       "<table>\n",
       "<thead><tr><th scope=col>student_id</th><th scope=col>first_name</th><th scope=col>last_name</th><th scope=col>maths</th><th scope=col>science</th></tr></thead>\n",
       "<tbody>\n",
       "\t<tr><td>1     </td><td>first1</td><td>last1 </td><td>89    </td><td>83    </td></tr>\n",
       "\t<tr><td>2     </td><td>first2</td><td>last2 </td><td>78    </td><td>89    </td></tr>\n",
       "\t<tr><td>3     </td><td>first3</td><td>last3 </td><td>56    </td><td>80    </td></tr>\n",
       "\t<tr><td>4     </td><td>first4</td><td>last4 </td><td>90    </td><td>96    </td></tr>\n",
       "\t<tr><td>5     </td><td>first5</td><td>last5 </td><td>92    </td><td>91    </td></tr>\n",
       "\t<tr><td>6     </td><td>first6</td><td>last6 </td><td>95    </td><td>76    </td></tr>\n",
       "</tbody>\n",
       "</table>\n"
      ],
      "text/latex": [
       "\\begin{tabular}{r|lllll}\n",
       " student\\_id & first\\_name & last\\_name & maths & science\\\\\n",
       "\\hline\n",
       "\t 1      & first1 & last1  & 89     & 83    \\\\\n",
       "\t 2      & first2 & last2  & 78     & 89    \\\\\n",
       "\t 3      & first3 & last3  & 56     & 80    \\\\\n",
       "\t 4      & first4 & last4  & 90     & 96    \\\\\n",
       "\t 5      & first5 & last5  & 92     & 91    \\\\\n",
       "\t 6      & first6 & last6  & 95     & 76    \\\\\n",
       "\\end{tabular}\n"
      ],
      "text/markdown": [
       "\n",
       "| student_id | first_name | last_name | maths | science |\n",
       "|---|---|---|---|---|\n",
       "| 1      | first1 | last1  | 89     | 83     |\n",
       "| 2      | first2 | last2  | 78     | 89     |\n",
       "| 3      | first3 | last3  | 56     | 80     |\n",
       "| 4      | first4 | last4  | 90     | 96     |\n",
       "| 5      | first5 | last5  | 92     | 91     |\n",
       "| 6      | first6 | last6  | 95     | 76     |\n",
       "\n"
      ],
      "text/plain": [
       "  student_id first_name last_name maths science\n",
       "1 1          first1     last1     89    83     \n",
       "2 2          first2     last2     78    89     \n",
       "3 3          first3     last3     56    80     \n",
       "4 4          first4     last4     90    96     \n",
       "5 5          first5     last5     92    91     \n",
       "6 6          first6     last6     95    76     "
      ]
     },
     "metadata": {},
     "output_type": "display_data"
    }
   ],
   "source": [
    "class_total"
   ]
  },
  {
   "cell_type": "markdown",
   "id": "1becb3eb",
   "metadata": {},
   "source": [
    "## 2. Concatenate Dataframe columns from vector"
   ]
  },
  {
   "cell_type": "code",
   "execution_count": 4,
   "id": "a7d1466a",
   "metadata": {},
   "outputs": [],
   "source": [
    "# concatenates DataFrame columns\n",
    "class_total <- cbind(class_total, maths, science)"
   ]
  },
  {
   "cell_type": "code",
   "execution_count": 5,
   "id": "46be0ab5",
   "metadata": {},
   "outputs": [
    {
     "data": {
      "text/html": [
       "<table>\n",
       "<thead><tr><th scope=col>student_id</th><th scope=col>first_name</th><th scope=col>last_name</th><th scope=col>maths</th><th scope=col>science</th><th scope=col>maths</th><th scope=col>science</th></tr></thead>\n",
       "<tbody>\n",
       "\t<tr><td>1     </td><td>first1</td><td>last1 </td><td>89    </td><td>83    </td><td>89    </td><td>83    </td></tr>\n",
       "\t<tr><td>2     </td><td>first2</td><td>last2 </td><td>78    </td><td>89    </td><td>78    </td><td>89    </td></tr>\n",
       "\t<tr><td>3     </td><td>first3</td><td>last3 </td><td>56    </td><td>80    </td><td>56    </td><td>80    </td></tr>\n",
       "\t<tr><td>4     </td><td>first4</td><td>last4 </td><td>90    </td><td>96    </td><td>90    </td><td>96    </td></tr>\n",
       "\t<tr><td>5     </td><td>first5</td><td>last5 </td><td>92    </td><td>91    </td><td>92    </td><td>91    </td></tr>\n",
       "\t<tr><td>6     </td><td>first6</td><td>last6 </td><td>95    </td><td>76    </td><td>95    </td><td>76    </td></tr>\n",
       "</tbody>\n",
       "</table>\n"
      ],
      "text/latex": [
       "\\begin{tabular}{r|lllllll}\n",
       " student\\_id & first\\_name & last\\_name & maths & science & maths & science\\\\\n",
       "\\hline\n",
       "\t 1      & first1 & last1  & 89     & 83     & 89     & 83    \\\\\n",
       "\t 2      & first2 & last2  & 78     & 89     & 78     & 89    \\\\\n",
       "\t 3      & first3 & last3  & 56     & 80     & 56     & 80    \\\\\n",
       "\t 4      & first4 & last4  & 90     & 96     & 90     & 96    \\\\\n",
       "\t 5      & first5 & last5  & 92     & 91     & 92     & 91    \\\\\n",
       "\t 6      & first6 & last6  & 95     & 76     & 95     & 76    \\\\\n",
       "\\end{tabular}\n"
      ],
      "text/markdown": [
       "\n",
       "| student_id | first_name | last_name | maths | science | maths | science |\n",
       "|---|---|---|---|---|---|---|\n",
       "| 1      | first1 | last1  | 89     | 83     | 89     | 83     |\n",
       "| 2      | first2 | last2  | 78     | 89     | 78     | 89     |\n",
       "| 3      | first3 | last3  | 56     | 80     | 56     | 80     |\n",
       "| 4      | first4 | last4  | 90     | 96     | 90     | 96     |\n",
       "| 5      | first5 | last5  | 92     | 91     | 92     | 91     |\n",
       "| 6      | first6 | last6  | 95     | 76     | 95     | 76     |\n",
       "\n"
      ],
      "text/plain": [
       "  student_id first_name last_name maths science maths science\n",
       "1 1          first1     last1     89    83      89    83     \n",
       "2 2          first2     last2     78    89      78    89     \n",
       "3 3          first3     last3     56    80      56    80     \n",
       "4 4          first4     last4     90    96      90    96     \n",
       "5 5          first5     last5     92    91      92    91     \n",
       "6 6          first6     last6     95    76      95    76     "
      ]
     },
     "metadata": {},
     "output_type": "display_data"
    }
   ],
   "source": [
    "class_total"
   ]
  },
  {
   "cell_type": "markdown",
   "id": "6fef1287",
   "metadata": {},
   "source": [
    "# 3. Merge"
   ]
  },
  {
   "cell_type": "code",
   "execution_count": 6,
   "id": "10536ec3",
   "metadata": {},
   "outputs": [],
   "source": [
    "student_id <- c(3,4,6,2,1,5)\n",
    "history <- c(56,76,68,86,45,49)\n",
    "english <- c(66,55,88,77,61,64)"
   ]
  },
  {
   "cell_type": "code",
   "execution_count": 7,
   "id": "bf2b5044",
   "metadata": {},
   "outputs": [
    {
     "data": {
      "text/html": [
       "<table>\n",
       "<thead><tr><th scope=col>student_id</th><th scope=col>history</th><th scope=col>english</th></tr></thead>\n",
       "<tbody>\n",
       "\t<tr><td>3 </td><td>56</td><td>66</td></tr>\n",
       "\t<tr><td>4 </td><td>76</td><td>55</td></tr>\n",
       "\t<tr><td>6 </td><td>68</td><td>88</td></tr>\n",
       "\t<tr><td>2 </td><td>86</td><td>77</td></tr>\n",
       "\t<tr><td>1 </td><td>45</td><td>61</td></tr>\n",
       "\t<tr><td>5 </td><td>49</td><td>64</td></tr>\n",
       "</tbody>\n",
       "</table>\n"
      ],
      "text/latex": [
       "\\begin{tabular}{r|lll}\n",
       " student\\_id & history & english\\\\\n",
       "\\hline\n",
       "\t 3  & 56 & 66\\\\\n",
       "\t 4  & 76 & 55\\\\\n",
       "\t 6  & 68 & 88\\\\\n",
       "\t 2  & 86 & 77\\\\\n",
       "\t 1  & 45 & 61\\\\\n",
       "\t 5  & 49 & 64\\\\\n",
       "\\end{tabular}\n"
      ],
      "text/markdown": [
       "\n",
       "| student_id | history | english |\n",
       "|---|---|---|\n",
       "| 3  | 56 | 66 |\n",
       "| 4  | 76 | 55 |\n",
       "| 6  | 68 | 88 |\n",
       "| 2  | 86 | 77 |\n",
       "| 1  | 45 | 61 |\n",
       "| 5  | 49 | 64 |\n",
       "\n"
      ],
      "text/plain": [
       "  student_id history english\n",
       "1 3          56      66     \n",
       "2 4          76      55     \n",
       "3 6          68      88     \n",
       "4 2          86      77     \n",
       "5 1          45      61     \n",
       "6 5          49      64     "
      ]
     },
     "metadata": {},
     "output_type": "display_data"
    }
   ],
   "source": [
    "class3 <- data.frame(student_id,history,english, stringsAsFactors = F)\n",
    "class3"
   ]
  },
  {
   "cell_type": "code",
   "execution_count": 8,
   "id": "14a17c48",
   "metadata": {},
   "outputs": [
    {
     "data": {
      "text/html": [
       "<table>\n",
       "<thead><tr><th scope=col>student_id</th><th scope=col>scores</th></tr></thead>\n",
       "<tbody>\n",
       "\t<tr><td>3  </td><td> 56</td></tr>\n",
       "\t<tr><td>1  </td><td> 76</td></tr>\n",
       "\t<tr><td>6  </td><td> 68</td></tr>\n",
       "\t<tr><td>9  </td><td>100</td></tr>\n",
       "</tbody>\n",
       "</table>\n"
      ],
      "text/latex": [
       "\\begin{tabular}{r|ll}\n",
       " student\\_id & scores\\\\\n",
       "\\hline\n",
       "\t 3   &  56\\\\\n",
       "\t 1   &  76\\\\\n",
       "\t 6   &  68\\\\\n",
       "\t 9   & 100\\\\\n",
       "\\end{tabular}\n"
      ],
      "text/markdown": [
       "\n",
       "| student_id | scores |\n",
       "|---|---|\n",
       "| 3   |  56 |\n",
       "| 1   |  76 |\n",
       "| 6   |  68 |\n",
       "| 9   | 100 |\n",
       "\n"
      ],
      "text/plain": [
       "  student_id scores\n",
       "1 3           56   \n",
       "2 1           76   \n",
       "3 6           68   \n",
       "4 9          100   "
      ]
     },
     "metadata": {},
     "output_type": "display_data"
    }
   ],
   "source": [
    "student_id <- c(3,1,6, 9)\n",
    "scores <- c(56,76,68, 100)\n",
    "exam_ext <- data.frame(student_id,scores)\n",
    "exam_ext"
   ]
  },
  {
   "cell_type": "markdown",
   "id": "47b81474",
   "metadata": {},
   "source": [
    "### 3.1 Merge"
   ]
  },
  {
   "cell_type": "code",
   "execution_count": 9,
   "id": "8864ccc3",
   "metadata": {},
   "outputs": [
    {
     "name": "stderr",
     "output_type": "stream",
     "text": [
      "Warning message in merge.data.frame(class_total, class3, by = \"student_id\"):\n",
      "\"column names 'maths', 'science' are duplicated in the result\""
     ]
    },
    {
     "data": {
      "text/html": [
       "<table>\n",
       "<thead><tr><th scope=col>student_id</th><th scope=col>first_name</th><th scope=col>last_name</th><th scope=col>maths</th><th scope=col>science</th><th scope=col>maths</th><th scope=col>science</th><th scope=col>history</th><th scope=col>english</th></tr></thead>\n",
       "<tbody>\n",
       "\t<tr><td>1     </td><td>first1</td><td>last1 </td><td>89    </td><td>83    </td><td>89    </td><td>83    </td><td>45    </td><td>61    </td></tr>\n",
       "\t<tr><td>2     </td><td>first2</td><td>last2 </td><td>78    </td><td>89    </td><td>78    </td><td>89    </td><td>86    </td><td>77    </td></tr>\n",
       "\t<tr><td>3     </td><td>first3</td><td>last3 </td><td>56    </td><td>80    </td><td>56    </td><td>80    </td><td>56    </td><td>66    </td></tr>\n",
       "\t<tr><td>4     </td><td>first4</td><td>last4 </td><td>90    </td><td>96    </td><td>90    </td><td>96    </td><td>76    </td><td>55    </td></tr>\n",
       "\t<tr><td>5     </td><td>first5</td><td>last5 </td><td>92    </td><td>91    </td><td>92    </td><td>91    </td><td>49    </td><td>64    </td></tr>\n",
       "\t<tr><td>6     </td><td>first6</td><td>last6 </td><td>95    </td><td>76    </td><td>95    </td><td>76    </td><td>68    </td><td>88    </td></tr>\n",
       "</tbody>\n",
       "</table>\n"
      ],
      "text/latex": [
       "\\begin{tabular}{r|lllllllll}\n",
       " student\\_id & first\\_name & last\\_name & maths & science & maths & science & history & english\\\\\n",
       "\\hline\n",
       "\t 1      & first1 & last1  & 89     & 83     & 89     & 83     & 45     & 61    \\\\\n",
       "\t 2      & first2 & last2  & 78     & 89     & 78     & 89     & 86     & 77    \\\\\n",
       "\t 3      & first3 & last3  & 56     & 80     & 56     & 80     & 56     & 66    \\\\\n",
       "\t 4      & first4 & last4  & 90     & 96     & 90     & 96     & 76     & 55    \\\\\n",
       "\t 5      & first5 & last5  & 92     & 91     & 92     & 91     & 49     & 64    \\\\\n",
       "\t 6      & first6 & last6  & 95     & 76     & 95     & 76     & 68     & 88    \\\\\n",
       "\\end{tabular}\n"
      ],
      "text/markdown": [
       "\n",
       "| student_id | first_name | last_name | maths | science | maths | science | history | english |\n",
       "|---|---|---|---|---|---|---|---|---|\n",
       "| 1      | first1 | last1  | 89     | 83     | 89     | 83     | 45     | 61     |\n",
       "| 2      | first2 | last2  | 78     | 89     | 78     | 89     | 86     | 77     |\n",
       "| 3      | first3 | last3  | 56     | 80     | 56     | 80     | 56     | 66     |\n",
       "| 4      | first4 | last4  | 90     | 96     | 90     | 96     | 76     | 55     |\n",
       "| 5      | first5 | last5  | 92     | 91     | 92     | 91     | 49     | 64     |\n",
       "| 6      | first6 | last6  | 95     | 76     | 95     | 76     | 68     | 88     |\n",
       "\n"
      ],
      "text/plain": [
       "  student_id first_name last_name maths science maths science history english\n",
       "1 1          first1     last1     89    83      89    83      45      61     \n",
       "2 2          first2     last2     78    89      78    89      86      77     \n",
       "3 3          first3     last3     56    80      56    80      56      66     \n",
       "4 4          first4     last4     90    96      90    96      76      55     \n",
       "5 5          first5     last5     92    91      92    91      49      64     \n",
       "6 6          first6     last6     95    76      95    76      68      88     "
      ]
     },
     "metadata": {},
     "output_type": "display_data"
    }
   ],
   "source": [
    "class_total_m <- merge(class_total, class3, by='student_id')\n",
    "class_total_m"
   ]
  },
  {
   "cell_type": "markdown",
   "id": "1fcbc4d7",
   "metadata": {},
   "source": [
    "### 3.2 Left Merge"
   ]
  },
  {
   "cell_type": "code",
   "execution_count": 10,
   "id": "221b065a",
   "metadata": {},
   "outputs": [
    {
     "name": "stderr",
     "output_type": "stream",
     "text": [
      "Warning message in merge.data.frame(class_total, class3, by = \"student_id\", all.x = TRUE):\n",
      "\"column names 'maths', 'science' are duplicated in the result\""
     ]
    },
    {
     "data": {
      "text/html": [
       "<table>\n",
       "<thead><tr><th scope=col>student_id</th><th scope=col>first_name</th><th scope=col>last_name</th><th scope=col>maths</th><th scope=col>science</th><th scope=col>maths</th><th scope=col>science</th><th scope=col>history</th><th scope=col>english</th></tr></thead>\n",
       "<tbody>\n",
       "\t<tr><td>1     </td><td>first1</td><td>last1 </td><td>89    </td><td>83    </td><td>89    </td><td>83    </td><td>45    </td><td>61    </td></tr>\n",
       "\t<tr><td>2     </td><td>first2</td><td>last2 </td><td>78    </td><td>89    </td><td>78    </td><td>89    </td><td>86    </td><td>77    </td></tr>\n",
       "\t<tr><td>3     </td><td>first3</td><td>last3 </td><td>56    </td><td>80    </td><td>56    </td><td>80    </td><td>56    </td><td>66    </td></tr>\n",
       "\t<tr><td>4     </td><td>first4</td><td>last4 </td><td>90    </td><td>96    </td><td>90    </td><td>96    </td><td>76    </td><td>55    </td></tr>\n",
       "\t<tr><td>5     </td><td>first5</td><td>last5 </td><td>92    </td><td>91    </td><td>92    </td><td>91    </td><td>49    </td><td>64    </td></tr>\n",
       "\t<tr><td>6     </td><td>first6</td><td>last6 </td><td>95    </td><td>76    </td><td>95    </td><td>76    </td><td>68    </td><td>88    </td></tr>\n",
       "</tbody>\n",
       "</table>\n"
      ],
      "text/latex": [
       "\\begin{tabular}{r|lllllllll}\n",
       " student\\_id & first\\_name & last\\_name & maths & science & maths & science & history & english\\\\\n",
       "\\hline\n",
       "\t 1      & first1 & last1  & 89     & 83     & 89     & 83     & 45     & 61    \\\\\n",
       "\t 2      & first2 & last2  & 78     & 89     & 78     & 89     & 86     & 77    \\\\\n",
       "\t 3      & first3 & last3  & 56     & 80     & 56     & 80     & 56     & 66    \\\\\n",
       "\t 4      & first4 & last4  & 90     & 96     & 90     & 96     & 76     & 55    \\\\\n",
       "\t 5      & first5 & last5  & 92     & 91     & 92     & 91     & 49     & 64    \\\\\n",
       "\t 6      & first6 & last6  & 95     & 76     & 95     & 76     & 68     & 88    \\\\\n",
       "\\end{tabular}\n"
      ],
      "text/markdown": [
       "\n",
       "| student_id | first_name | last_name | maths | science | maths | science | history | english |\n",
       "|---|---|---|---|---|---|---|---|---|\n",
       "| 1      | first1 | last1  | 89     | 83     | 89     | 83     | 45     | 61     |\n",
       "| 2      | first2 | last2  | 78     | 89     | 78     | 89     | 86     | 77     |\n",
       "| 3      | first3 | last3  | 56     | 80     | 56     | 80     | 56     | 66     |\n",
       "| 4      | first4 | last4  | 90     | 96     | 90     | 96     | 76     | 55     |\n",
       "| 5      | first5 | last5  | 92     | 91     | 92     | 91     | 49     | 64     |\n",
       "| 6      | first6 | last6  | 95     | 76     | 95     | 76     | 68     | 88     |\n",
       "\n"
      ],
      "text/plain": [
       "  student_id first_name last_name maths science maths science history english\n",
       "1 1          first1     last1     89    83      89    83      45      61     \n",
       "2 2          first2     last2     78    89      78    89      86      77     \n",
       "3 3          first3     last3     56    80      56    80      56      66     \n",
       "4 4          first4     last4     90    96      90    96      76      55     \n",
       "5 5          first5     last5     92    91      92    91      49      64     \n",
       "6 6          first6     last6     95    76      95    76      68      88     "
      ]
     },
     "metadata": {},
     "output_type": "display_data"
    }
   ],
   "source": [
    "class_total_l <- merge(class_total, class3, by='student_id', all.x = TRUE)\n",
    "class_total_l"
   ]
  },
  {
   "cell_type": "markdown",
   "id": "436c85b3",
   "metadata": {},
   "source": [
    "### 3.3 Right Merge"
   ]
  },
  {
   "cell_type": "code",
   "execution_count": 11,
   "id": "857701cc",
   "metadata": {},
   "outputs": [
    {
     "name": "stderr",
     "output_type": "stream",
     "text": [
      "Warning message in merge.data.frame(class_total, exam_ext, by = \"student_id\", all.y = TRUE):\n",
      "\"column names 'maths', 'science' are duplicated in the result\""
     ]
    },
    {
     "data": {
      "text/html": [
       "<table>\n",
       "<thead><tr><th scope=col>student_id</th><th scope=col>first_name</th><th scope=col>last_name</th><th scope=col>maths</th><th scope=col>science</th><th scope=col>maths</th><th scope=col>science</th><th scope=col>scores</th></tr></thead>\n",
       "<tbody>\n",
       "\t<tr><td>1     </td><td>first1</td><td>last1 </td><td>89    </td><td>83    </td><td>89    </td><td>83    </td><td> 76   </td></tr>\n",
       "\t<tr><td>3     </td><td>first3</td><td>last3 </td><td>56    </td><td>80    </td><td>56    </td><td>80    </td><td> 56   </td></tr>\n",
       "\t<tr><td>6     </td><td>first6</td><td>last6 </td><td>95    </td><td>76    </td><td>95    </td><td>76    </td><td> 68   </td></tr>\n",
       "\t<tr><td>9     </td><td>NA    </td><td>NA    </td><td>NA    </td><td>NA    </td><td>NA    </td><td>NA    </td><td>100   </td></tr>\n",
       "</tbody>\n",
       "</table>\n"
      ],
      "text/latex": [
       "\\begin{tabular}{r|llllllll}\n",
       " student\\_id & first\\_name & last\\_name & maths & science & maths & science & scores\\\\\n",
       "\\hline\n",
       "\t 1      & first1 & last1  & 89     & 83     & 89     & 83     &  76   \\\\\n",
       "\t 3      & first3 & last3  & 56     & 80     & 56     & 80     &  56   \\\\\n",
       "\t 6      & first6 & last6  & 95     & 76     & 95     & 76     &  68   \\\\\n",
       "\t 9      & NA     & NA     & NA     & NA     & NA     & NA     & 100   \\\\\n",
       "\\end{tabular}\n"
      ],
      "text/markdown": [
       "\n",
       "| student_id | first_name | last_name | maths | science | maths | science | scores |\n",
       "|---|---|---|---|---|---|---|---|\n",
       "| 1      | first1 | last1  | 89     | 83     | 89     | 83     |  76    |\n",
       "| 3      | first3 | last3  | 56     | 80     | 56     | 80     |  56    |\n",
       "| 6      | first6 | last6  | 95     | 76     | 95     | 76     |  68    |\n",
       "| 9      | NA     | NA     | NA     | NA     | NA     | NA     | 100    |\n",
       "\n"
      ],
      "text/plain": [
       "  student_id first_name last_name maths science maths science scores\n",
       "1 1          first1     last1     89    83      89    83       76   \n",
       "2 3          first3     last3     56    80      56    80       56   \n",
       "3 6          first6     last6     95    76      95    76       68   \n",
       "4 9          NA         NA        NA    NA      NA    NA      100   "
      ]
     },
     "metadata": {},
     "output_type": "display_data"
    }
   ],
   "source": [
    "class_total_r <- merge(class_total, exam_ext, by='student_id', all.y=TRUE)\n",
    "class_total_r"
   ]
  },
  {
   "cell_type": "markdown",
   "id": "14590cfe",
   "metadata": {},
   "source": [
    "### 3.4 Full Merge"
   ]
  },
  {
   "cell_type": "code",
   "execution_count": 12,
   "id": "172a714d",
   "metadata": {
    "scrolled": true
   },
   "outputs": [
    {
     "name": "stderr",
     "output_type": "stream",
     "text": [
      "Warning message in merge.data.frame(class_total, exam_ext, by = \"student_id\", all.x = TRUE, :\n",
      "\"column names 'maths', 'science' are duplicated in the result\""
     ]
    },
    {
     "data": {
      "text/html": [
       "<table>\n",
       "<thead><tr><th scope=col>student_id</th><th scope=col>first_name</th><th scope=col>last_name</th><th scope=col>maths</th><th scope=col>science</th><th scope=col>maths</th><th scope=col>science</th><th scope=col>scores</th></tr></thead>\n",
       "<tbody>\n",
       "\t<tr><td>1     </td><td>first1</td><td>last1 </td><td>89    </td><td>83    </td><td>89    </td><td>83    </td><td> 76   </td></tr>\n",
       "\t<tr><td>2     </td><td>first2</td><td>last2 </td><td>78    </td><td>89    </td><td>78    </td><td>89    </td><td> NA   </td></tr>\n",
       "\t<tr><td>3     </td><td>first3</td><td>last3 </td><td>56    </td><td>80    </td><td>56    </td><td>80    </td><td> 56   </td></tr>\n",
       "\t<tr><td>4     </td><td>first4</td><td>last4 </td><td>90    </td><td>96    </td><td>90    </td><td>96    </td><td> NA   </td></tr>\n",
       "\t<tr><td>5     </td><td>first5</td><td>last5 </td><td>92    </td><td>91    </td><td>92    </td><td>91    </td><td> NA   </td></tr>\n",
       "\t<tr><td>6     </td><td>first6</td><td>last6 </td><td>95    </td><td>76    </td><td>95    </td><td>76    </td><td> 68   </td></tr>\n",
       "\t<tr><td>9     </td><td>NA    </td><td>NA    </td><td>NA    </td><td>NA    </td><td>NA    </td><td>NA    </td><td>100   </td></tr>\n",
       "</tbody>\n",
       "</table>\n"
      ],
      "text/latex": [
       "\\begin{tabular}{r|llllllll}\n",
       " student\\_id & first\\_name & last\\_name & maths & science & maths & science & scores\\\\\n",
       "\\hline\n",
       "\t 1      & first1 & last1  & 89     & 83     & 89     & 83     &  76   \\\\\n",
       "\t 2      & first2 & last2  & 78     & 89     & 78     & 89     &  NA   \\\\\n",
       "\t 3      & first3 & last3  & 56     & 80     & 56     & 80     &  56   \\\\\n",
       "\t 4      & first4 & last4  & 90     & 96     & 90     & 96     &  NA   \\\\\n",
       "\t 5      & first5 & last5  & 92     & 91     & 92     & 91     &  NA   \\\\\n",
       "\t 6      & first6 & last6  & 95     & 76     & 95     & 76     &  68   \\\\\n",
       "\t 9      & NA     & NA     & NA     & NA     & NA     & NA     & 100   \\\\\n",
       "\\end{tabular}\n"
      ],
      "text/markdown": [
       "\n",
       "| student_id | first_name | last_name | maths | science | maths | science | scores |\n",
       "|---|---|---|---|---|---|---|---|\n",
       "| 1      | first1 | last1  | 89     | 83     | 89     | 83     |  76    |\n",
       "| 2      | first2 | last2  | 78     | 89     | 78     | 89     |  NA    |\n",
       "| 3      | first3 | last3  | 56     | 80     | 56     | 80     |  56    |\n",
       "| 4      | first4 | last4  | 90     | 96     | 90     | 96     |  NA    |\n",
       "| 5      | first5 | last5  | 92     | 91     | 92     | 91     |  NA    |\n",
       "| 6      | first6 | last6  | 95     | 76     | 95     | 76     |  68    |\n",
       "| 9      | NA     | NA     | NA     | NA     | NA     | NA     | 100    |\n",
       "\n"
      ],
      "text/plain": [
       "  student_id first_name last_name maths science maths science scores\n",
       "1 1          first1     last1     89    83      89    83       76   \n",
       "2 2          first2     last2     78    89      78    89       NA   \n",
       "3 3          first3     last3     56    80      56    80       56   \n",
       "4 4          first4     last4     90    96      90    96       NA   \n",
       "5 5          first5     last5     92    91      92    91       NA   \n",
       "6 6          first6     last6     95    76      95    76       68   \n",
       "7 9          NA         NA        NA    NA      NA    NA      100   "
      ]
     },
     "metadata": {},
     "output_type": "display_data"
    }
   ],
   "source": [
    "class_total_f <- merge(class_total, exam_ext, by='student_id', all.x = TRUE, all.y=TRUE)\n",
    "class_total_f"
   ]
  },
  {
   "cell_type": "markdown",
   "id": "647eedac",
   "metadata": {},
   "source": [
    "# 4. Read from Files as DataFrame"
   ]
  },
  {
   "cell_type": "code",
   "execution_count": 1,
   "id": "5114ad23",
   "metadata": {},
   "outputs": [
    {
     "data": {
      "text/html": [
       "'E:/PG Data Science/Live Class Materials/03. Data Science with R/Data from Teacher'"
      ],
      "text/latex": [
       "'E:/PG Data Science/Live Class Materials/03. Data Science with R/Data from Teacher'"
      ],
      "text/markdown": [
       "'E:/PG Data Science/Live Class Materials/03. Data Science with R/Data from Teacher'"
      ],
      "text/plain": [
       "[1] \"E:/PG Data Science/Live Class Materials/03. Data Science with R/Data from Teacher\""
      ]
     },
     "metadata": {},
     "output_type": "display_data"
    }
   ],
   "source": [
    "getwd()"
   ]
  },
  {
   "cell_type": "markdown",
   "id": "3329b36b",
   "metadata": {},
   "source": [
    "### 4.1 Read from Excel"
   ]
  },
  {
   "cell_type": "code",
   "execution_count": 2,
   "id": "c40dabeb",
   "metadata": {},
   "outputs": [],
   "source": [
    "library(readxl)"
   ]
  },
  {
   "cell_type": "code",
   "execution_count": 3,
   "id": "99fe5e9b",
   "metadata": {},
   "outputs": [],
   "source": [
    "df <- read_excel('Demo_Excel.xlsx')"
   ]
  },
  {
   "cell_type": "code",
   "execution_count": 4,
   "id": "8415e68e",
   "metadata": {},
   "outputs": [
    {
     "data": {
      "text/html": [
       "<table>\n",
       "<thead><tr><th scope=col>age</th><th scope=col>job</th><th scope=col>marital</th><th scope=col>education</th><th scope=col>default</th><th scope=col>housing</th><th scope=col>loan</th><th scope=col>contact</th><th scope=col>month</th><th scope=col>day</th><th scope=col>duration</th><th scope=col>campaign</th><th scope=col>pdays</th><th scope=col>previous</th><th scope=col>poutcome</th></tr></thead>\n",
       "<tbody>\n",
       "\t<tr><td>30        </td><td>unemployed</td><td>married   </td><td>primary   </td><td>no        </td><td>no        </td><td>no        </td><td>cellular  </td><td>oct       </td><td>19        </td><td> 79       </td><td>1         </td><td> -1       </td><td>0         </td><td>unknown   </td></tr>\n",
       "\t<tr><td>33        </td><td>services  </td><td>married   </td><td>secondary </td><td>no        </td><td>yes       </td><td>yes       </td><td>cellular  </td><td>may       </td><td>11        </td><td>220       </td><td>1         </td><td>339       </td><td>4         </td><td>failure   </td></tr>\n",
       "</tbody>\n",
       "</table>\n"
      ],
      "text/latex": [
       "\\begin{tabular}{r|lllllllllllllll}\n",
       " age & job & marital & education & default & housing & loan & contact & month & day & duration & campaign & pdays & previous & poutcome\\\\\n",
       "\\hline\n",
       "\t 30         & unemployed & married    & primary    & no         & no         & no         & cellular   & oct        & 19         &  79        & 1          &  -1        & 0          & unknown   \\\\\n",
       "\t 33         & services   & married    & secondary  & no         & yes        & yes        & cellular   & may        & 11         & 220        & 1          & 339        & 4          & failure   \\\\\n",
       "\\end{tabular}\n"
      ],
      "text/markdown": [
       "\n",
       "| age | job | marital | education | default | housing | loan | contact | month | day | duration | campaign | pdays | previous | poutcome |\n",
       "|---|---|---|---|---|---|---|---|---|---|---|---|---|---|---|\n",
       "| 30         | unemployed | married    | primary    | no         | no         | no         | cellular   | oct        | 19         |  79        | 1          |  -1        | 0          | unknown    |\n",
       "| 33         | services   | married    | secondary  | no         | yes        | yes        | cellular   | may        | 11         | 220        | 1          | 339        | 4          | failure    |\n",
       "\n"
      ],
      "text/plain": [
       "  age job        marital education default housing loan contact  month day\n",
       "1 30  unemployed married primary   no      no      no   cellular oct   19 \n",
       "2 33  services   married secondary no      yes     yes  cellular may   11 \n",
       "  duration campaign pdays previous poutcome\n",
       "1  79      1         -1   0        unknown \n",
       "2 220      1        339   4        failure "
      ]
     },
     "metadata": {},
     "output_type": "display_data"
    }
   ],
   "source": [
    "head(df, 2)"
   ]
  },
  {
   "cell_type": "markdown",
   "id": "e1aebab4",
   "metadata": {},
   "source": [
    "### 4.2 Read from Tab Separated File"
   ]
  },
  {
   "cell_type": "code",
   "execution_count": 5,
   "id": "000c40b3",
   "metadata": {},
   "outputs": [
    {
     "data": {
      "text/html": [
       "<table>\n",
       "<thead><tr><th scope=col>id</th><th scope=col>name</th></tr></thead>\n",
       "<tbody>\n",
       "\t<tr><td>1     </td><td>fname1</td></tr>\n",
       "\t<tr><td>2     </td><td>fname2</td></tr>\n",
       "\t<tr><td>3     </td><td>fname3</td></tr>\n",
       "\t<tr><td>4     </td><td>fname4</td></tr>\n",
       "\t<tr><td>5     </td><td>fname5</td></tr>\n",
       "</tbody>\n",
       "</table>\n"
      ],
      "text/latex": [
       "\\begin{tabular}{r|ll}\n",
       " id & name\\\\\n",
       "\\hline\n",
       "\t 1      & fname1\\\\\n",
       "\t 2      & fname2\\\\\n",
       "\t 3      & fname3\\\\\n",
       "\t 4      & fname4\\\\\n",
       "\t 5      & fname5\\\\\n",
       "\\end{tabular}\n"
      ],
      "text/markdown": [
       "\n",
       "| id | name |\n",
       "|---|---|\n",
       "| 1      | fname1 |\n",
       "| 2      | fname2 |\n",
       "| 3      | fname3 |\n",
       "| 4      | fname4 |\n",
       "| 5      | fname5 |\n",
       "\n"
      ],
      "text/plain": [
       "  id name  \n",
       "1 1  fname1\n",
       "2 2  fname2\n",
       "3 3  fname3\n",
       "4 4  fname4\n",
       "5 5  fname5"
      ]
     },
     "metadata": {},
     "output_type": "display_data"
    }
   ],
   "source": [
    "df_tab <- read.table('table_data.txt', header = TRUE)\n",
    "head(df_tab)"
   ]
  },
  {
   "cell_type": "markdown",
   "id": "27c74909",
   "metadata": {},
   "source": [
    "### 4.3 Read from csv file"
   ]
  },
  {
   "cell_type": "code",
   "execution_count": 6,
   "id": "585847db",
   "metadata": {},
   "outputs": [
    {
     "data": {
      "text/html": [
       "<table>\n",
       "<thead><tr><th scope=col>ï..</th><th scope=col>price</th><th scope=col>brand</th><th scope=col>model</th><th scope=col>year</th><th scope=col>title_status</th><th scope=col>mileage</th><th scope=col>color</th><th scope=col>vin</th><th scope=col>lot</th><th scope=col>state</th><th scope=col>country</th><th scope=col>condition</th></tr></thead>\n",
       "<tbody>\n",
       "\t<tr><td>0                </td><td>6300             </td><td>toyota           </td><td>cruiser          </td><td>2008             </td><td>clean vehicle    </td><td>274117           </td><td>black            </td><td>jtezu11f88k007763</td><td>159348797        </td><td>new jersey       </td><td>usa              </td><td>10 days left     </td></tr>\n",
       "\t<tr><td>1                </td><td>2899             </td><td>ford             </td><td>se               </td><td>2011             </td><td>clean vehicle    </td><td>190552           </td><td>silver           </td><td>2fmdk3gc4bbb02217</td><td>166951262        </td><td>tennessee        </td><td>usa              </td><td>6 days left      </td></tr>\n",
       "</tbody>\n",
       "</table>\n"
      ],
      "text/latex": [
       "\\begin{tabular}{r|lllllllllllll}\n",
       " ï.. & price & brand & model & year & title\\_status & mileage & color & vin & lot & state & country & condition\\\\\n",
       "\\hline\n",
       "\t 0                 & 6300              & toyota            & cruiser           & 2008              & clean vehicle     & 274117            & black             & jtezu11f88k007763 & 159348797         & new jersey        & usa               & 10 days left     \\\\\n",
       "\t 1                 & 2899              & ford              & se                & 2011              & clean vehicle     & 190552            & silver            & 2fmdk3gc4bbb02217 & 166951262         & tennessee         & usa               & 6 days left      \\\\\n",
       "\\end{tabular}\n"
      ],
      "text/markdown": [
       "\n",
       "| ï.. | price | brand | model | year | title_status | mileage | color | vin | lot | state | country | condition |\n",
       "|---|---|---|---|---|---|---|---|---|---|---|---|---|\n",
       "| 0                 | 6300              | toyota            | cruiser           | 2008              | clean vehicle     | 274117            | black             | jtezu11f88k007763 | 159348797         | new jersey        | usa               | 10 days left      |\n",
       "| 1                 | 2899              | ford              | se                | 2011              | clean vehicle     | 190552            | silver            | 2fmdk3gc4bbb02217 | 166951262         | tennessee         | usa               | 6 days left       |\n",
       "\n"
      ],
      "text/plain": [
       "  ï.. price brand  model   year title_status  mileage color  vin              \n",
       "1 0   6300  toyota cruiser 2008 clean vehicle 274117  black  jtezu11f88k007763\n",
       "2 1   2899  ford   se      2011 clean vehicle 190552  silver 2fmdk3gc4bbb02217\n",
       "  lot       state      country condition   \n",
       "1 159348797 new jersey usa     10 days left\n",
       "2 166951262 tennessee  usa     6 days left "
      ]
     },
     "metadata": {},
     "output_type": "display_data"
    }
   ],
   "source": [
    "cars <- read.csv('USA_cars_datasets.csv')\n",
    "head(cars,2)"
   ]
  },
  {
   "cell_type": "code",
   "execution_count": 12,
   "id": "608bb9ce",
   "metadata": {},
   "outputs": [
    {
     "data": {
      "text/html": [
       "<table>\n",
       "<thead><tr><th scope=col>ï..</th><th scope=col>price</th><th scope=col>brand</th><th scope=col>model</th><th scope=col>year</th><th scope=col>title_status</th><th scope=col>mileage</th><th scope=col>color</th><th scope=col>vin</th><th scope=col>lot</th><th scope=col>state</th><th scope=col>country</th><th scope=col>condition</th></tr></thead>\n",
       "<tbody>\n",
       "\t<tr><td>0                </td><td> 6300            </td><td>toyota           </td><td>cruiser          </td><td>2008             </td><td>clean vehicle    </td><td>274117           </td><td>black            </td><td>jtezu11f88k007763</td><td>159348797        </td><td>new jersey       </td><td>usa              </td><td>10 days left     </td></tr>\n",
       "\t<tr><td>1                </td><td> 2899            </td><td>ford             </td><td>se               </td><td>2011             </td><td>clean vehicle    </td><td>190552           </td><td>silver           </td><td>2fmdk3gc4bbb02217</td><td>166951262        </td><td>tennessee        </td><td>usa              </td><td>6 days left      </td></tr>\n",
       "\t<tr><td>2                </td><td> 5350            </td><td>dodge            </td><td>mpv              </td><td>2018             </td><td>clean vehicle    </td><td> 39590           </td><td>silver           </td><td>3c4pdcgg5jt346413</td><td>167655728        </td><td>georgia          </td><td>usa              </td><td>2 days left      </td></tr>\n",
       "\t<tr><td>3                </td><td>25000            </td><td>ford             </td><td>door             </td><td>2014             </td><td>clean vehicle    </td><td> 64146           </td><td>blue             </td><td>1ftfw1et4efc23745</td><td>167753855        </td><td>virginia         </td><td>usa              </td><td>22 hours left    </td></tr>\n",
       "</tbody>\n",
       "</table>\n"
      ],
      "text/latex": [
       "\\begin{tabular}{r|lllllllllllll}\n",
       " ï.. & price & brand & model & year & title\\_status & mileage & color & vin & lot & state & country & condition\\\\\n",
       "\\hline\n",
       "\t 0                 &  6300             & toyota            & cruiser           & 2008              & clean vehicle     & 274117            & black             & jtezu11f88k007763 & 159348797         & new jersey        & usa               & 10 days left     \\\\\n",
       "\t 1                 &  2899             & ford              & se                & 2011              & clean vehicle     & 190552            & silver            & 2fmdk3gc4bbb02217 & 166951262         & tennessee         & usa               & 6 days left      \\\\\n",
       "\t 2                 &  5350             & dodge             & mpv               & 2018              & clean vehicle     &  39590            & silver            & 3c4pdcgg5jt346413 & 167655728         & georgia           & usa               & 2 days left      \\\\\n",
       "\t 3                 & 25000             & ford              & door              & 2014              & clean vehicle     &  64146            & blue              & 1ftfw1et4efc23745 & 167753855         & virginia          & usa               & 22 hours left    \\\\\n",
       "\\end{tabular}\n"
      ],
      "text/markdown": [
       "\n",
       "| ï.. | price | brand | model | year | title_status | mileage | color | vin | lot | state | country | condition |\n",
       "|---|---|---|---|---|---|---|---|---|---|---|---|---|\n",
       "| 0                 |  6300             | toyota            | cruiser           | 2008              | clean vehicle     | 274117            | black             | jtezu11f88k007763 | 159348797         | new jersey        | usa               | 10 days left      |\n",
       "| 1                 |  2899             | ford              | se                | 2011              | clean vehicle     | 190552            | silver            | 2fmdk3gc4bbb02217 | 166951262         | tennessee         | usa               | 6 days left       |\n",
       "| 2                 |  5350             | dodge             | mpv               | 2018              | clean vehicle     |  39590            | silver            | 3c4pdcgg5jt346413 | 167655728         | georgia           | usa               | 2 days left       |\n",
       "| 3                 | 25000             | ford              | door              | 2014              | clean vehicle     |  64146            | blue              | 1ftfw1et4efc23745 | 167753855         | virginia          | usa               | 22 hours left     |\n",
       "\n"
      ],
      "text/plain": [
       "  ï.. price brand  model   year title_status  mileage color  vin              \n",
       "1 0    6300 toyota cruiser 2008 clean vehicle 274117  black  jtezu11f88k007763\n",
       "2 1    2899 ford   se      2011 clean vehicle 190552  silver 2fmdk3gc4bbb02217\n",
       "3 2    5350 dodge  mpv     2018 clean vehicle  39590  silver 3c4pdcgg5jt346413\n",
       "4 3   25000 ford   door    2014 clean vehicle  64146  blue   1ftfw1et4efc23745\n",
       "  lot       state      country condition    \n",
       "1 159348797 new jersey usa     10 days left \n",
       "2 166951262 tennessee  usa     6 days left  \n",
       "3 167655728 georgia    usa     2 days left  \n",
       "4 167753855 virginia   usa     22 hours left"
      ]
     },
     "metadata": {},
     "output_type": "display_data"
    }
   ],
   "source": [
    "# Read without Factors\n",
    "cars <- read.csv('USA_cars_datasets.csv', stringsAsFactors = F)\n",
    "head(cars, 4)"
   ]
  },
  {
   "cell_type": "markdown",
   "id": "3154391e",
   "metadata": {},
   "source": [
    "# 5. Builtin Functions of DataFrame"
   ]
  },
  {
   "cell_type": "markdown",
   "id": "82162436",
   "metadata": {},
   "source": [
    "### 5.1 DataFrame viewing functions"
   ]
  },
  {
   "cell_type": "markdown",
   "id": "b395c68d",
   "metadata": {},
   "source": [
    "- Head\n",
    "- Tail\n",
    "- Dimensions\n",
    "- Structure"
   ]
  },
  {
   "cell_type": "code",
   "execution_count": 28,
   "id": "e4b06b9d",
   "metadata": {
    "scrolled": false
   },
   "outputs": [
    {
     "data": {
      "text/html": [
       "<table>\n",
       "<thead><tr><th scope=col>ï..</th><th scope=col>price</th><th scope=col>brand</th><th scope=col>model</th><th scope=col>year</th><th scope=col>title_status</th><th scope=col>mileage</th><th scope=col>color</th><th scope=col>vin</th><th scope=col>lot</th><th scope=col>state</th><th scope=col>country</th><th scope=col>condition</th></tr></thead>\n",
       "<tbody>\n",
       "\t<tr><td>0                </td><td> 6300            </td><td>toyota           </td><td>cruiser          </td><td>2008             </td><td>clean vehicle    </td><td>274117           </td><td>black            </td><td>jtezu11f88k007763</td><td>159348797        </td><td>new jersey       </td><td>usa              </td><td>10 days left     </td></tr>\n",
       "\t<tr><td>1                </td><td> 2899            </td><td>ford             </td><td>se               </td><td>2011             </td><td>clean vehicle    </td><td>190552           </td><td>silver           </td><td>2fmdk3gc4bbb02217</td><td>166951262        </td><td>tennessee        </td><td>usa              </td><td>6 days left      </td></tr>\n",
       "\t<tr><td>2                </td><td> 5350            </td><td>dodge            </td><td>mpv              </td><td>2018             </td><td>clean vehicle    </td><td> 39590           </td><td>silver           </td><td>3c4pdcgg5jt346413</td><td>167655728        </td><td>georgia          </td><td>usa              </td><td>2 days left      </td></tr>\n",
       "\t<tr><td>3                </td><td>25000            </td><td>ford             </td><td>door             </td><td>2014             </td><td>clean vehicle    </td><td> 64146           </td><td>blue             </td><td>1ftfw1et4efc23745</td><td>167753855        </td><td>virginia         </td><td>usa              </td><td>22 hours left    </td></tr>\n",
       "\t<tr><td>4                </td><td>27700            </td><td>chevrolet        </td><td>1500             </td><td>2018             </td><td>clean vehicle    </td><td>  6654           </td><td>red              </td><td>3gcpcrec2jg473991</td><td>167763266        </td><td>florida          </td><td>usa              </td><td>22 hours left    </td></tr>\n",
       "\t<tr><td>5                </td><td> 5700            </td><td>dodge            </td><td>mpv              </td><td>2018             </td><td>clean vehicle    </td><td> 45561           </td><td>white            </td><td>2c4rdgeg9jr237989</td><td>167655771        </td><td>texas            </td><td>usa              </td><td>2 days left      </td></tr>\n",
       "</tbody>\n",
       "</table>\n"
      ],
      "text/latex": [
       "\\begin{tabular}{r|lllllllllllll}\n",
       " ï.. & price & brand & model & year & title\\_status & mileage & color & vin & lot & state & country & condition\\\\\n",
       "\\hline\n",
       "\t 0                 &  6300             & toyota            & cruiser           & 2008              & clean vehicle     & 274117            & black             & jtezu11f88k007763 & 159348797         & new jersey        & usa               & 10 days left     \\\\\n",
       "\t 1                 &  2899             & ford              & se                & 2011              & clean vehicle     & 190552            & silver            & 2fmdk3gc4bbb02217 & 166951262         & tennessee         & usa               & 6 days left      \\\\\n",
       "\t 2                 &  5350             & dodge             & mpv               & 2018              & clean vehicle     &  39590            & silver            & 3c4pdcgg5jt346413 & 167655728         & georgia           & usa               & 2 days left      \\\\\n",
       "\t 3                 & 25000             & ford              & door              & 2014              & clean vehicle     &  64146            & blue              & 1ftfw1et4efc23745 & 167753855         & virginia          & usa               & 22 hours left    \\\\\n",
       "\t 4                 & 27700             & chevrolet         & 1500              & 2018              & clean vehicle     &   6654            & red               & 3gcpcrec2jg473991 & 167763266         & florida           & usa               & 22 hours left    \\\\\n",
       "\t 5                 &  5700             & dodge             & mpv               & 2018              & clean vehicle     &  45561            & white             & 2c4rdgeg9jr237989 & 167655771         & texas             & usa               & 2 days left      \\\\\n",
       "\\end{tabular}\n"
      ],
      "text/markdown": [
       "\n",
       "| ï.. | price | brand | model | year | title_status | mileage | color | vin | lot | state | country | condition |\n",
       "|---|---|---|---|---|---|---|---|---|---|---|---|---|\n",
       "| 0                 |  6300             | toyota            | cruiser           | 2008              | clean vehicle     | 274117            | black             | jtezu11f88k007763 | 159348797         | new jersey        | usa               | 10 days left      |\n",
       "| 1                 |  2899             | ford              | se                | 2011              | clean vehicle     | 190552            | silver            | 2fmdk3gc4bbb02217 | 166951262         | tennessee         | usa               | 6 days left       |\n",
       "| 2                 |  5350             | dodge             | mpv               | 2018              | clean vehicle     |  39590            | silver            | 3c4pdcgg5jt346413 | 167655728         | georgia           | usa               | 2 days left       |\n",
       "| 3                 | 25000             | ford              | door              | 2014              | clean vehicle     |  64146            | blue              | 1ftfw1et4efc23745 | 167753855         | virginia          | usa               | 22 hours left     |\n",
       "| 4                 | 27700             | chevrolet         | 1500              | 2018              | clean vehicle     |   6654            | red               | 3gcpcrec2jg473991 | 167763266         | florida           | usa               | 22 hours left     |\n",
       "| 5                 |  5700             | dodge             | mpv               | 2018              | clean vehicle     |  45561            | white             | 2c4rdgeg9jr237989 | 167655771         | texas             | usa               | 2 days left       |\n",
       "\n"
      ],
      "text/plain": [
       "  ï.. price brand     model   year title_status  mileage color \n",
       "1 0    6300 toyota    cruiser 2008 clean vehicle 274117  black \n",
       "2 1    2899 ford      se      2011 clean vehicle 190552  silver\n",
       "3 2    5350 dodge     mpv     2018 clean vehicle  39590  silver\n",
       "4 3   25000 ford      door    2014 clean vehicle  64146  blue  \n",
       "5 4   27700 chevrolet 1500    2018 clean vehicle   6654  red   \n",
       "6 5    5700 dodge     mpv     2018 clean vehicle  45561  white \n",
       "  vin               lot       state      country condition    \n",
       "1 jtezu11f88k007763 159348797 new jersey usa     10 days left \n",
       "2 2fmdk3gc4bbb02217 166951262 tennessee  usa     6 days left  \n",
       "3 3c4pdcgg5jt346413 167655728 georgia    usa     2 days left  \n",
       "4 1ftfw1et4efc23745 167753855 virginia   usa     22 hours left\n",
       "5 3gcpcrec2jg473991 167763266 florida    usa     22 hours left\n",
       "6 2c4rdgeg9jr237989 167655771 texas      usa     2 days left  "
      ]
     },
     "metadata": {},
     "output_type": "display_data"
    },
    {
     "data": {
      "text/html": [
       "<table>\n",
       "<thead><tr><th></th><th scope=col>ï..</th><th scope=col>price</th><th scope=col>brand</th><th scope=col>model</th><th scope=col>year</th><th scope=col>title_status</th><th scope=col>mileage</th><th scope=col>color</th><th scope=col>vin</th><th scope=col>lot</th><th scope=col>state</th><th scope=col>country</th><th scope=col>condition</th></tr></thead>\n",
       "<tbody>\n",
       "\t<tr><th scope=row>2494</th><td>2493             </td><td>9200             </td><td>nissan           </td><td>versa            </td><td>2018             </td><td>clean vehicle    </td><td>33027            </td><td>black            </td><td>3n1cn7ap0jl883768</td><td>167762224        </td><td>florida          </td><td>usa              </td><td>21 hours left    </td></tr>\n",
       "\t<tr><th scope=row>2495</th><td>2494             </td><td>7800             </td><td>nissan           </td><td>versa            </td><td>2019             </td><td>clean vehicle    </td><td>23609            </td><td>red              </td><td>3n1cn7ap9kl880319</td><td>167722715        </td><td>california       </td><td>usa              </td><td>1 days left      </td></tr>\n",
       "\t<tr><th scope=row>2496</th><td>2495             </td><td>9200             </td><td>nissan           </td><td>versa            </td><td>2018             </td><td>clean vehicle    </td><td>34553            </td><td>silver           </td><td>3n1cn7ap5jl884088</td><td>167762225        </td><td>florida          </td><td>usa              </td><td>21 hours left    </td></tr>\n",
       "\t<tr><th scope=row>2497</th><td>2496             </td><td>9200             </td><td>nissan           </td><td>versa            </td><td>2018             </td><td>clean vehicle    </td><td>31594            </td><td>silver           </td><td>3n1cn7ap9jl884191</td><td>167762226        </td><td>florida          </td><td>usa              </td><td>21 hours left    </td></tr>\n",
       "\t<tr><th scope=row>2498</th><td>2497             </td><td>9200             </td><td>nissan           </td><td>versa            </td><td>2018             </td><td>clean vehicle    </td><td>32557            </td><td>black            </td><td>3n1cn7ap3jl883263</td><td>167762227        </td><td>florida          </td><td>usa              </td><td>2 days left      </td></tr>\n",
       "\t<tr><th scope=row>2499</th><td>2498             </td><td>9200             </td><td>nissan           </td><td>versa            </td><td>2018             </td><td>clean vehicle    </td><td>31371            </td><td>silver           </td><td>3n1cn7ap4jl884311</td><td>167762228        </td><td>florida          </td><td>usa              </td><td>21 hours left    </td></tr>\n",
       "</tbody>\n",
       "</table>\n"
      ],
      "text/latex": [
       "\\begin{tabular}{r|lllllllllllll}\n",
       "  & ï.. & price & brand & model & year & title\\_status & mileage & color & vin & lot & state & country & condition\\\\\n",
       "\\hline\n",
       "\t2494 & 2493              & 9200              & nissan            & versa             & 2018              & clean vehicle     & 33027             & black             & 3n1cn7ap0jl883768 & 167762224         & florida           & usa               & 21 hours left    \\\\\n",
       "\t2495 & 2494              & 7800              & nissan            & versa             & 2019              & clean vehicle     & 23609             & red               & 3n1cn7ap9kl880319 & 167722715         & california        & usa               & 1 days left      \\\\\n",
       "\t2496 & 2495              & 9200              & nissan            & versa             & 2018              & clean vehicle     & 34553             & silver            & 3n1cn7ap5jl884088 & 167762225         & florida           & usa               & 21 hours left    \\\\\n",
       "\t2497 & 2496              & 9200              & nissan            & versa             & 2018              & clean vehicle     & 31594             & silver            & 3n1cn7ap9jl884191 & 167762226         & florida           & usa               & 21 hours left    \\\\\n",
       "\t2498 & 2497              & 9200              & nissan            & versa             & 2018              & clean vehicle     & 32557             & black             & 3n1cn7ap3jl883263 & 167762227         & florida           & usa               & 2 days left      \\\\\n",
       "\t2499 & 2498              & 9200              & nissan            & versa             & 2018              & clean vehicle     & 31371             & silver            & 3n1cn7ap4jl884311 & 167762228         & florida           & usa               & 21 hours left    \\\\\n",
       "\\end{tabular}\n"
      ],
      "text/markdown": [
       "\n",
       "| <!--/--> | ï.. | price | brand | model | year | title_status | mileage | color | vin | lot | state | country | condition |\n",
       "|---|---|---|---|---|---|---|---|---|---|---|---|---|---|\n",
       "| 2494 | 2493              | 9200              | nissan            | versa             | 2018              | clean vehicle     | 33027             | black             | 3n1cn7ap0jl883768 | 167762224         | florida           | usa               | 21 hours left     |\n",
       "| 2495 | 2494              | 7800              | nissan            | versa             | 2019              | clean vehicle     | 23609             | red               | 3n1cn7ap9kl880319 | 167722715         | california        | usa               | 1 days left       |\n",
       "| 2496 | 2495              | 9200              | nissan            | versa             | 2018              | clean vehicle     | 34553             | silver            | 3n1cn7ap5jl884088 | 167762225         | florida           | usa               | 21 hours left     |\n",
       "| 2497 | 2496              | 9200              | nissan            | versa             | 2018              | clean vehicle     | 31594             | silver            | 3n1cn7ap9jl884191 | 167762226         | florida           | usa               | 21 hours left     |\n",
       "| 2498 | 2497              | 9200              | nissan            | versa             | 2018              | clean vehicle     | 32557             | black             | 3n1cn7ap3jl883263 | 167762227         | florida           | usa               | 2 days left       |\n",
       "| 2499 | 2498              | 9200              | nissan            | versa             | 2018              | clean vehicle     | 31371             | silver            | 3n1cn7ap4jl884311 | 167762228         | florida           | usa               | 21 hours left     |\n",
       "\n"
      ],
      "text/plain": [
       "     ï..  price brand  model year title_status  mileage color \n",
       "2494 2493 9200  nissan versa 2018 clean vehicle 33027   black \n",
       "2495 2494 7800  nissan versa 2019 clean vehicle 23609   red   \n",
       "2496 2495 9200  nissan versa 2018 clean vehicle 34553   silver\n",
       "2497 2496 9200  nissan versa 2018 clean vehicle 31594   silver\n",
       "2498 2497 9200  nissan versa 2018 clean vehicle 32557   black \n",
       "2499 2498 9200  nissan versa 2018 clean vehicle 31371   silver\n",
       "     vin               lot       state      country condition    \n",
       "2494 3n1cn7ap0jl883768 167762224 florida    usa     21 hours left\n",
       "2495 3n1cn7ap9kl880319 167722715 california usa     1 days left  \n",
       "2496 3n1cn7ap5jl884088 167762225 florida    usa     21 hours left\n",
       "2497 3n1cn7ap9jl884191 167762226 florida    usa     21 hours left\n",
       "2498 3n1cn7ap3jl883263 167762227 florida    usa     2 days left  \n",
       "2499 3n1cn7ap4jl884311 167762228 florida    usa     21 hours left"
      ]
     },
     "metadata": {},
     "output_type": "display_data"
    },
    {
     "data": {
      "text/html": [
       "<ol class=list-inline>\n",
       "\t<li>2499</li>\n",
       "\t<li>13</li>\n",
       "</ol>\n"
      ],
      "text/latex": [
       "\\begin{enumerate*}\n",
       "\\item 2499\n",
       "\\item 13\n",
       "\\end{enumerate*}\n"
      ],
      "text/markdown": [
       "1. 2499\n",
       "2. 13\n",
       "\n",
       "\n"
      ],
      "text/plain": [
       "[1] 2499   13"
      ]
     },
     "metadata": {},
     "output_type": "display_data"
    },
    {
     "name": "stdout",
     "output_type": "stream",
     "text": [
      "'data.frame':\t2499 obs. of  13 variables:\n",
      " $ ï..         : int  0 1 2 3 4 5 6 7 8 9 ...\n",
      " $ price       : int  6300 2899 5350 25000 27700 5700 7300 13350 14600 5250 ...\n",
      " $ brand       : Factor w/ 28 levels \"acura\",\"audi\",..: 28 9 8 9 6 8 6 10 6 9 ...\n",
      " $ model       : Factor w/ 127 levels \"1500\",\"2500\",..: 26 93 76 33 1 76 87 33 72 76 ...\n",
      " $ year        : int  2008 2011 2018 2014 2018 2018 2010 2017 2018 2017 ...\n",
      " $ title_status: Factor w/ 2 levels \"clean vehicle\",..: 1 1 1 1 1 1 1 1 1 1 ...\n",
      " $ mileage     : int  274117 190552 39590 64146 6654 45561 149050 23525 9371 63418 ...\n",
      " $ color       : Factor w/ 49 levels \"beige\",\"billet silver metallic clearcoat\",..: 3 40 40 5 35 47 3 16 40 3 ...\n",
      " $ vin         : Factor w/ 2495 levels \"19uua96529a004646\",..: 2393 1666 1886 968 2088 1650 1194 1239 1123 1706 ...\n",
      " $ lot         : int  159348797 166951262 167655728 167753855 167763266 167655771 167753872 167692494 167763267 167656121 ...\n",
      " $ state       : Factor w/ 44 levels \"alabama\",\"arizona\",..: 25 36 8 40 7 37 8 4 7 37 ...\n",
      " $ country     : Factor w/ 2 levels \"canada\",\"usa\": 2 2 2 2 2 2 2 2 2 2 ...\n",
      " $ condition   : Factor w/ 47 levels \"1 days left\",..: 4 40 17 21 21 17 21 19 21 17 ...\n"
     ]
    }
   ],
   "source": [
    "head(cars)   # Show First 6 rows of data\n",
    "tail(cars)   # Show Last 6 rows of data\n",
    "dim(cars)    # Rows and Columns count\n",
    "str(cars)    # Structure of DataFrame"
   ]
  },
  {
   "cell_type": "markdown",
   "id": "bdac1427",
   "metadata": {},
   "source": [
    "### 5.2 Rename Column"
   ]
  },
  {
   "cell_type": "code",
   "execution_count": 14,
   "id": "42115d65",
   "metadata": {},
   "outputs": [
    {
     "data": {
      "text/html": [
       "<ol class=list-inline>\n",
       "\t<li>'ï..'</li>\n",
       "\t<li>'price'</li>\n",
       "\t<li>'brand'</li>\n",
       "\t<li>'model'</li>\n",
       "\t<li>'year'</li>\n",
       "\t<li>'title_status'</li>\n",
       "\t<li>'mileage'</li>\n",
       "\t<li>'color'</li>\n",
       "\t<li>'vin'</li>\n",
       "\t<li>'lot'</li>\n",
       "\t<li>'state'</li>\n",
       "\t<li>'country'</li>\n",
       "\t<li>'condition'</li>\n",
       "</ol>\n"
      ],
      "text/latex": [
       "\\begin{enumerate*}\n",
       "\\item 'ï..'\n",
       "\\item 'price'\n",
       "\\item 'brand'\n",
       "\\item 'model'\n",
       "\\item 'year'\n",
       "\\item 'title\\_status'\n",
       "\\item 'mileage'\n",
       "\\item 'color'\n",
       "\\item 'vin'\n",
       "\\item 'lot'\n",
       "\\item 'state'\n",
       "\\item 'country'\n",
       "\\item 'condition'\n",
       "\\end{enumerate*}\n"
      ],
      "text/markdown": [
       "1. 'ï..'\n",
       "2. 'price'\n",
       "3. 'brand'\n",
       "4. 'model'\n",
       "5. 'year'\n",
       "6. 'title_status'\n",
       "7. 'mileage'\n",
       "8. 'color'\n",
       "9. 'vin'\n",
       "10. 'lot'\n",
       "11. 'state'\n",
       "12. 'country'\n",
       "13. 'condition'\n",
       "\n",
       "\n"
      ],
      "text/plain": [
       " [1] \"ï..\"          \"price\"        \"brand\"        \"model\"        \"year\"        \n",
       " [6] \"title_status\" \"mileage\"      \"color\"        \"vin\"          \"lot\"         \n",
       "[11] \"state\"        \"country\"      \"condition\"   "
      ]
     },
     "metadata": {},
     "output_type": "display_data"
    },
    {
     "data": {
      "text/html": [
       "<ol class=list-inline>\n",
       "\t<li>'Index'</li>\n",
       "\t<li>'price'</li>\n",
       "\t<li>'brand'</li>\n",
       "\t<li>'model'</li>\n",
       "\t<li>'year'</li>\n",
       "\t<li>'title_status'</li>\n",
       "\t<li>'mileage'</li>\n",
       "\t<li>'color'</li>\n",
       "\t<li>'vin'</li>\n",
       "\t<li>'lot'</li>\n",
       "\t<li>'state'</li>\n",
       "\t<li>'country'</li>\n",
       "\t<li>'condition'</li>\n",
       "</ol>\n"
      ],
      "text/latex": [
       "\\begin{enumerate*}\n",
       "\\item 'Index'\n",
       "\\item 'price'\n",
       "\\item 'brand'\n",
       "\\item 'model'\n",
       "\\item 'year'\n",
       "\\item 'title\\_status'\n",
       "\\item 'mileage'\n",
       "\\item 'color'\n",
       "\\item 'vin'\n",
       "\\item 'lot'\n",
       "\\item 'state'\n",
       "\\item 'country'\n",
       "\\item 'condition'\n",
       "\\end{enumerate*}\n"
      ],
      "text/markdown": [
       "1. 'Index'\n",
       "2. 'price'\n",
       "3. 'brand'\n",
       "4. 'model'\n",
       "5. 'year'\n",
       "6. 'title_status'\n",
       "7. 'mileage'\n",
       "8. 'color'\n",
       "9. 'vin'\n",
       "10. 'lot'\n",
       "11. 'state'\n",
       "12. 'country'\n",
       "13. 'condition'\n",
       "\n",
       "\n"
      ],
      "text/plain": [
       " [1] \"Index\"        \"price\"        \"brand\"        \"model\"        \"year\"        \n",
       " [6] \"title_status\" \"mileage\"      \"color\"        \"vin\"          \"lot\"         \n",
       "[11] \"state\"        \"country\"      \"condition\"   "
      ]
     },
     "metadata": {},
     "output_type": "display_data"
    }
   ],
   "source": [
    "# Get Column names and Modify Columns names\n",
    "names(cars)  # Column Names\n",
    "names(cars)[1] <- 'Index'   # Rename a column Name\n",
    "names(cars)"
   ]
  },
  {
   "cell_type": "markdown",
   "id": "cb5d9793",
   "metadata": {},
   "source": [
    "### 5.3 Indexing a DataFrame"
   ]
  },
  {
   "cell_type": "code",
   "execution_count": 16,
   "id": "77006105",
   "metadata": {},
   "outputs": [],
   "source": [
    "cars[, c(1,4,5)]\n",
    "cars[, c('Index','model','year')]\n",
    "cars[10:20, c('Index','model','year')]"
   ]
  },
  {
   "cell_type": "markdown",
   "id": "430a4853",
   "metadata": {},
   "source": [
    "### 5.4 Filter Condition on DataFrame\n",
    "- Extract all rows where brand = Chevrolet or Mazda"
   ]
  },
  {
   "cell_type": "code",
   "execution_count": 35,
   "id": "b965fe90",
   "metadata": {},
   "outputs": [
    {
     "data": {
      "text/html": [
       "<table>\n",
       "<thead><tr><th></th><th scope=col>Index</th><th scope=col>price</th><th scope=col>brand</th><th scope=col>model</th><th scope=col>year</th><th scope=col>title_status</th><th scope=col>mileage</th><th scope=col>color</th><th scope=col>vin</th><th scope=col>lot</th><th scope=col>state</th><th scope=col>country</th><th scope=col>condition</th></tr></thead>\n",
       "<tbody>\n",
       "\t<tr><th scope=row>5</th><td> 4               </td><td>27700            </td><td>chevrolet        </td><td>1500             </td><td>2018             </td><td>clean vehicle    </td><td>  6654           </td><td>red              </td><td>3gcpcrec2jg473991</td><td>167763266        </td><td>florida          </td><td>usa              </td><td>22 hours left    </td></tr>\n",
       "\t<tr><th scope=row>7</th><td> 6               </td><td> 7300            </td><td>chevrolet        </td><td>pk               </td><td>2010             </td><td>clean vehicle    </td><td>149050           </td><td>black            </td><td>1gcsksea1az121133</td><td>167753872        </td><td>georgia          </td><td>usa              </td><td>22 hours left    </td></tr>\n",
       "\t<tr><th scope=row>9</th><td> 8               </td><td>14600            </td><td>chevrolet        </td><td>malibu           </td><td>2018             </td><td>clean vehicle    </td><td>  9371           </td><td>silver           </td><td>1g1zd5st5jf191860</td><td>167763267        </td><td>florida          </td><td>usa              </td><td>22 hours left    </td></tr>\n",
       "\t<tr><th scope=row>13</th><td>12               </td><td>31900            </td><td>chevrolet        </td><td>1500             </td><td>2018             </td><td>clean vehicle    </td><td> 22909           </td><td>black            </td><td>3gcukrec0jg176059</td><td>167763273        </td><td>tennessee        </td><td>usa              </td><td>22 hours left    </td></tr>\n",
       "\t<tr><th scope=row>23</th><td>22               </td><td>15000            </td><td>chevrolet        </td><td>door             </td><td>2015             </td><td>clean vehicle    </td><td> 61578           </td><td>black            </td><td>2gnflhe33f6214023</td><td>167763280        </td><td>ohio             </td><td>usa              </td><td>2 days left      </td></tr>\n",
       "\t<tr><th scope=row>33</th><td>32               </td><td>29800            </td><td>chevrolet        </td><td>camaro           </td><td>1973             </td><td>clean vehicle    </td><td> 46226           </td><td>red              </td><td>1q87t3n166389    </td><td>167763370        </td><td>pennsylvania     </td><td>usa              </td><td>22 hours left    </td></tr>\n",
       "</tbody>\n",
       "</table>\n"
      ],
      "text/latex": [
       "\\begin{tabular}{r|lllllllllllll}\n",
       "  & Index & price & brand & model & year & title\\_status & mileage & color & vin & lot & state & country & condition\\\\\n",
       "\\hline\n",
       "\t5 &  4                & 27700             & chevrolet         & 1500              & 2018              & clean vehicle     &   6654            & red               & 3gcpcrec2jg473991 & 167763266         & florida           & usa               & 22 hours left    \\\\\n",
       "\t7 &  6                &  7300             & chevrolet         & pk                & 2010              & clean vehicle     & 149050            & black             & 1gcsksea1az121133 & 167753872         & georgia           & usa               & 22 hours left    \\\\\n",
       "\t9 &  8                & 14600             & chevrolet         & malibu            & 2018              & clean vehicle     &   9371            & silver            & 1g1zd5st5jf191860 & 167763267         & florida           & usa               & 22 hours left    \\\\\n",
       "\t13 & 12                & 31900             & chevrolet         & 1500              & 2018              & clean vehicle     &  22909            & black             & 3gcukrec0jg176059 & 167763273         & tennessee         & usa               & 22 hours left    \\\\\n",
       "\t23 & 22                & 15000             & chevrolet         & door              & 2015              & clean vehicle     &  61578            & black             & 2gnflhe33f6214023 & 167763280         & ohio              & usa               & 2 days left      \\\\\n",
       "\t33 & 32                & 29800             & chevrolet         & camaro            & 1973              & clean vehicle     &  46226            & red               & 1q87t3n166389     & 167763370         & pennsylvania      & usa               & 22 hours left    \\\\\n",
       "\\end{tabular}\n"
      ],
      "text/markdown": [
       "\n",
       "| <!--/--> | Index | price | brand | model | year | title_status | mileage | color | vin | lot | state | country | condition |\n",
       "|---|---|---|---|---|---|---|---|---|---|---|---|---|---|\n",
       "| 5 |  4                | 27700             | chevrolet         | 1500              | 2018              | clean vehicle     |   6654            | red               | 3gcpcrec2jg473991 | 167763266         | florida           | usa               | 22 hours left     |\n",
       "| 7 |  6                |  7300             | chevrolet         | pk                | 2010              | clean vehicle     | 149050            | black             | 1gcsksea1az121133 | 167753872         | georgia           | usa               | 22 hours left     |\n",
       "| 9 |  8                | 14600             | chevrolet         | malibu            | 2018              | clean vehicle     |   9371            | silver            | 1g1zd5st5jf191860 | 167763267         | florida           | usa               | 22 hours left     |\n",
       "| 13 | 12                | 31900             | chevrolet         | 1500              | 2018              | clean vehicle     |  22909            | black             | 3gcukrec0jg176059 | 167763273         | tennessee         | usa               | 22 hours left     |\n",
       "| 23 | 22                | 15000             | chevrolet         | door              | 2015              | clean vehicle     |  61578            | black             | 2gnflhe33f6214023 | 167763280         | ohio              | usa               | 2 days left       |\n",
       "| 33 | 32                | 29800             | chevrolet         | camaro            | 1973              | clean vehicle     |  46226            | red               | 1q87t3n166389     | 167763370         | pennsylvania      | usa               | 22 hours left     |\n",
       "\n"
      ],
      "text/plain": [
       "   Index price brand     model  year title_status  mileage color \n",
       "5   4    27700 chevrolet 1500   2018 clean vehicle   6654  red   \n",
       "7   6     7300 chevrolet pk     2010 clean vehicle 149050  black \n",
       "9   8    14600 chevrolet malibu 2018 clean vehicle   9371  silver\n",
       "13 12    31900 chevrolet 1500   2018 clean vehicle  22909  black \n",
       "23 22    15000 chevrolet door   2015 clean vehicle  61578  black \n",
       "33 32    29800 chevrolet camaro 1973 clean vehicle  46226  red   \n",
       "   vin               lot       state        country condition    \n",
       "5  3gcpcrec2jg473991 167763266 florida      usa     22 hours left\n",
       "7  1gcsksea1az121133 167753872 georgia      usa     22 hours left\n",
       "9  1g1zd5st5jf191860 167763267 florida      usa     22 hours left\n",
       "13 3gcukrec0jg176059 167763273 tennessee    usa     22 hours left\n",
       "23 2gnflhe33f6214023 167763280 ohio         usa     2 days left  \n",
       "33 1q87t3n166389     167763370 pennsylvania usa     22 hours left"
      ]
     },
     "metadata": {},
     "output_type": "display_data"
    }
   ],
   "source": [
    "chev <- subset(cars, brand == 'chevrolet')\n",
    "head(chev)"
   ]
  },
  {
   "cell_type": "code",
   "execution_count": 17,
   "id": "89739330",
   "metadata": {},
   "outputs": [],
   "source": [
    "mazda <- subset(cars, brand == 'mazda')"
   ]
  },
  {
   "cell_type": "code",
   "execution_count": 18,
   "id": "d0e84299",
   "metadata": {},
   "outputs": [],
   "source": [
    "chev_sel <- subset(cars[, c('Index','model','year')], cars$brand == 'chevrolet')\n",
    "\n",
    "chev_sel2 <- subset(cars, brand == 'chevrolet')[, c('Index','model','year')]\n",
    "\n",
    "chev_sel3 <- subset(cars[10:20, c('Index','model','year', 'brand')], brand == 'chevrolet')"
   ]
  },
  {
   "cell_type": "markdown",
   "id": "a6e51b86",
   "metadata": {},
   "source": [
    "### 5.5 Extract the brand which has the highest price"
   ]
  },
  {
   "cell_type": "code",
   "execution_count": 22,
   "id": "5aa28838",
   "metadata": {},
   "outputs": [
    {
     "data": {
      "text/html": [
       "<table>\n",
       "<thead><tr><th></th><th scope=col>brand</th><th scope=col>price</th></tr></thead>\n",
       "<tbody>\n",
       "\t<tr><th scope=row>503</th><td>mercedes-benz</td><td>84900        </td></tr>\n",
       "</tbody>\n",
       "</table>\n"
      ],
      "text/latex": [
       "\\begin{tabular}{r|ll}\n",
       "  & brand & price\\\\\n",
       "\\hline\n",
       "\t503 & mercedes-benz & 84900        \\\\\n",
       "\\end{tabular}\n"
      ],
      "text/markdown": [
       "\n",
       "| <!--/--> | brand | price |\n",
       "|---|---|---|\n",
       "| 503 | mercedes-benz | 84900         |\n",
       "\n"
      ],
      "text/plain": [
       "    brand         price\n",
       "503 mercedes-benz 84900"
      ]
     },
     "metadata": {},
     "output_type": "display_data"
    },
    {
     "data": {
      "text/html": [
       "<table>\n",
       "<thead><tr><th></th><th scope=col>brand</th><th scope=col>price</th></tr></thead>\n",
       "<tbody>\n",
       "\t<tr><th scope=row>503</th><td>mercedes-benz</td><td>84900        </td></tr>\n",
       "</tbody>\n",
       "</table>\n"
      ],
      "text/latex": [
       "\\begin{tabular}{r|ll}\n",
       "  & brand & price\\\\\n",
       "\\hline\n",
       "\t503 & mercedes-benz & 84900        \\\\\n",
       "\\end{tabular}\n"
      ],
      "text/markdown": [
       "\n",
       "| <!--/--> | brand | price |\n",
       "|---|---|---|\n",
       "| 503 | mercedes-benz | 84900         |\n",
       "\n"
      ],
      "text/plain": [
       "    brand         price\n",
       "503 mercedes-benz 84900"
      ]
     },
     "metadata": {},
     "output_type": "display_data"
    }
   ],
   "source": [
    "cars[order(-cars$price), ][1, c('brand','price')]\n",
    "\n",
    "## OR\n",
    "# which.max(column) returns index of column max value\n",
    "cars[which.max(cars$price), c('brand','price')]"
   ]
  },
  {
   "cell_type": "markdown",
   "id": "0bac3215",
   "metadata": {},
   "source": [
    "### 5.6 Extract the brand which has the 2nd Most expensive"
   ]
  },
  {
   "cell_type": "code",
   "execution_count": 23,
   "id": "10b9e461",
   "metadata": {},
   "outputs": [
    {
     "data": {
      "text/html": [
       "<table>\n",
       "<thead><tr><th></th><th scope=col>brand</th><th scope=col>price</th></tr></thead>\n",
       "<tbody>\n",
       "\t<tr><th scope=row>1341</th><td>ford </td><td>74000</td></tr>\n",
       "</tbody>\n",
       "</table>\n"
      ],
      "text/latex": [
       "\\begin{tabular}{r|ll}\n",
       "  & brand & price\\\\\n",
       "\\hline\n",
       "\t1341 & ford  & 74000\\\\\n",
       "\\end{tabular}\n"
      ],
      "text/markdown": [
       "\n",
       "| <!--/--> | brand | price |\n",
       "|---|---|---|\n",
       "| 1341 | ford  | 74000 |\n",
       "\n"
      ],
      "text/plain": [
       "     brand price\n",
       "1341 ford  74000"
      ]
     },
     "metadata": {},
     "output_type": "display_data"
    }
   ],
   "source": [
    "cars[order(-cars$price),][2,c('brand','price')]"
   ]
  },
  {
   "cell_type": "markdown",
   "id": "8505ccbb",
   "metadata": {},
   "source": [
    "### 5.7 Unique Values"
   ]
  },
  {
   "cell_type": "code",
   "execution_count": 24,
   "id": "06237f87",
   "metadata": {},
   "outputs": [
    {
     "data": {
      "text/html": [
       "<ol class=list-inline>\n",
       "\t<li>'toyota'</li>\n",
       "\t<li>'ford'</li>\n",
       "\t<li>'dodge'</li>\n",
       "\t<li>'chevrolet'</li>\n",
       "\t<li>'gmc'</li>\n",
       "\t<li>'chrysler'</li>\n",
       "\t<li>'kia'</li>\n",
       "\t<li>'buick'</li>\n",
       "\t<li>'infiniti'</li>\n",
       "\t<li>'mercedes-benz'</li>\n",
       "\t<li>'jeep'</li>\n",
       "\t<li>'bmw'</li>\n",
       "\t<li>'cadillac'</li>\n",
       "\t<li>'hyundai'</li>\n",
       "\t<li>'mazda'</li>\n",
       "\t<li>'honda'</li>\n",
       "\t<li>'heartland'</li>\n",
       "\t<li>'jaguar'</li>\n",
       "\t<li>'acura'</li>\n",
       "\t<li>'harley-davidson'</li>\n",
       "\t<li>'audi'</li>\n",
       "\t<li>'lincoln'</li>\n",
       "\t<li>'lexus'</li>\n",
       "\t<li>'nissan'</li>\n",
       "\t<li>'land'</li>\n",
       "\t<li>'maserati'</li>\n",
       "\t<li>'peterbilt'</li>\n",
       "\t<li>'ram'</li>\n",
       "</ol>\n"
      ],
      "text/latex": [
       "\\begin{enumerate*}\n",
       "\\item 'toyota'\n",
       "\\item 'ford'\n",
       "\\item 'dodge'\n",
       "\\item 'chevrolet'\n",
       "\\item 'gmc'\n",
       "\\item 'chrysler'\n",
       "\\item 'kia'\n",
       "\\item 'buick'\n",
       "\\item 'infiniti'\n",
       "\\item 'mercedes-benz'\n",
       "\\item 'jeep'\n",
       "\\item 'bmw'\n",
       "\\item 'cadillac'\n",
       "\\item 'hyundai'\n",
       "\\item 'mazda'\n",
       "\\item 'honda'\n",
       "\\item 'heartland'\n",
       "\\item 'jaguar'\n",
       "\\item 'acura'\n",
       "\\item 'harley-davidson'\n",
       "\\item 'audi'\n",
       "\\item 'lincoln'\n",
       "\\item 'lexus'\n",
       "\\item 'nissan'\n",
       "\\item 'land'\n",
       "\\item 'maserati'\n",
       "\\item 'peterbilt'\n",
       "\\item 'ram'\n",
       "\\end{enumerate*}\n"
      ],
      "text/markdown": [
       "1. 'toyota'\n",
       "2. 'ford'\n",
       "3. 'dodge'\n",
       "4. 'chevrolet'\n",
       "5. 'gmc'\n",
       "6. 'chrysler'\n",
       "7. 'kia'\n",
       "8. 'buick'\n",
       "9. 'infiniti'\n",
       "10. 'mercedes-benz'\n",
       "11. 'jeep'\n",
       "12. 'bmw'\n",
       "13. 'cadillac'\n",
       "14. 'hyundai'\n",
       "15. 'mazda'\n",
       "16. 'honda'\n",
       "17. 'heartland'\n",
       "18. 'jaguar'\n",
       "19. 'acura'\n",
       "20. 'harley-davidson'\n",
       "21. 'audi'\n",
       "22. 'lincoln'\n",
       "23. 'lexus'\n",
       "24. 'nissan'\n",
       "25. 'land'\n",
       "26. 'maserati'\n",
       "27. 'peterbilt'\n",
       "28. 'ram'\n",
       "\n",
       "\n"
      ],
      "text/plain": [
       " [1] \"toyota\"          \"ford\"            \"dodge\"           \"chevrolet\"      \n",
       " [5] \"gmc\"             \"chrysler\"        \"kia\"             \"buick\"          \n",
       " [9] \"infiniti\"        \"mercedes-benz\"   \"jeep\"            \"bmw\"            \n",
       "[13] \"cadillac\"        \"hyundai\"         \"mazda\"           \"honda\"          \n",
       "[17] \"heartland\"       \"jaguar\"          \"acura\"           \"harley-davidson\"\n",
       "[21] \"audi\"            \"lincoln\"         \"lexus\"           \"nissan\"         \n",
       "[25] \"land\"            \"maserati\"        \"peterbilt\"       \"ram\"            "
      ]
     },
     "metadata": {},
     "output_type": "display_data"
    },
    {
     "data": {
      "text/html": [
       "28"
      ],
      "text/latex": [
       "28"
      ],
      "text/markdown": [
       "28"
      ],
      "text/plain": [
       "[1] 28"
      ]
     },
     "metadata": {},
     "output_type": "display_data"
    }
   ],
   "source": [
    "unique(cars$brand)\n",
    "length(unique(cars$brand))"
   ]
  },
  {
   "cell_type": "markdown",
   "id": "6200da1d",
   "metadata": {},
   "source": [
    "### 5.8 Number of Items in a Column with filer condition"
   ]
  },
  {
   "cell_type": "code",
   "execution_count": 25,
   "id": "d8262a66",
   "metadata": {},
   "outputs": [
    {
     "data": {
      "text/html": [
       "13"
      ],
      "text/latex": [
       "13"
      ],
      "text/markdown": [
       "13"
      ],
      "text/plain": [
       "[1] 13"
      ]
     },
     "metadata": {},
     "output_type": "display_data"
    }
   ],
   "source": [
    "length(subset(cars, brand == 'ford'))"
   ]
  },
  {
   "cell_type": "markdown",
   "id": "9d1c4041",
   "metadata": {},
   "source": [
    "### 5.9 Groupby"
   ]
  },
  {
   "cell_type": "code",
   "execution_count": 58,
   "id": "2bd47af7",
   "metadata": {},
   "outputs": [
    {
     "data": {
      "text/html": [
       "<table>\n",
       "<thead><tr><th scope=col>Group.1</th><th scope=col>x</th></tr></thead>\n",
       "<tbody>\n",
       "\t<tr><td>acura          </td><td>   21800       </td></tr>\n",
       "\t<tr><td>audi           </td><td>   55925       </td></tr>\n",
       "\t<tr><td>bmw            </td><td>  448750       </td></tr>\n",
       "\t<tr><td>buick          </td><td>  256305       </td></tr>\n",
       "\t<tr><td>cadillac       </td><td>  249410       </td></tr>\n",
       "\t<tr><td>chevrolet      </td><td> 5544976       </td></tr>\n",
       "\t<tr><td>chrysler       </td><td>  246350       </td></tr>\n",
       "\t<tr><td>dodge          </td><td> 7681819       </td></tr>\n",
       "\t<tr><td>ford           </td><td>26758607       </td></tr>\n",
       "\t<tr><td>gmc            </td><td>  447610       </td></tr>\n",
       "\t<tr><td>harley-davidson</td><td>   54680       </td></tr>\n",
       "\t<tr><td>heartland      </td><td>   14830       </td></tr>\n",
       "\t<tr><td>honda          </td><td>   73530       </td></tr>\n",
       "\t<tr><td>hyundai        </td><td>   78048       </td></tr>\n",
       "\t<tr><td>infiniti       </td><td>  157180       </td></tr>\n",
       "\t<tr><td>jaguar         </td><td>    2800       </td></tr>\n",
       "\t<tr><td>jeep           </td><td>  328015       </td></tr>\n",
       "\t<tr><td>kia            </td><td>  144610       </td></tr>\n",
       "\t<tr><td>land           </td><td>  115600       </td></tr>\n",
       "\t<tr><td>lexus          </td><td>   66440       </td></tr>\n",
       "\t<tr><td>lincoln        </td><td>   36300       </td></tr>\n",
       "\t<tr><td>maserati       </td><td>   30300       </td></tr>\n",
       "\t<tr><td>mazda          </td><td>   16000       </td></tr>\n",
       "\t<tr><td>mercedes-benz  </td><td>  287040       </td></tr>\n",
       "\t<tr><td>nissan         </td><td> 3764536       </td></tr>\n",
       "\t<tr><td>peterbilt      </td><td>    1600       </td></tr>\n",
       "\t<tr><td>ram            </td><td>   11050       </td></tr>\n",
       "\t<tr><td>toyota         </td><td>    6300       </td></tr>\n",
       "</tbody>\n",
       "</table>\n"
      ],
      "text/latex": [
       "\\begin{tabular}{r|ll}\n",
       " Group.1 & x\\\\\n",
       "\\hline\n",
       "\t acura           &    21800       \\\\\n",
       "\t audi            &    55925       \\\\\n",
       "\t bmw             &   448750       \\\\\n",
       "\t buick           &   256305       \\\\\n",
       "\t cadillac        &   249410       \\\\\n",
       "\t chevrolet       &  5544976       \\\\\n",
       "\t chrysler        &   246350       \\\\\n",
       "\t dodge           &  7681819       \\\\\n",
       "\t ford            & 26758607       \\\\\n",
       "\t gmc             &   447610       \\\\\n",
       "\t harley-davidson &    54680       \\\\\n",
       "\t heartland       &    14830       \\\\\n",
       "\t honda           &    73530       \\\\\n",
       "\t hyundai         &    78048       \\\\\n",
       "\t infiniti        &   157180       \\\\\n",
       "\t jaguar          &     2800       \\\\\n",
       "\t jeep            &   328015       \\\\\n",
       "\t kia             &   144610       \\\\\n",
       "\t land            &   115600       \\\\\n",
       "\t lexus           &    66440       \\\\\n",
       "\t lincoln         &    36300       \\\\\n",
       "\t maserati        &    30300       \\\\\n",
       "\t mazda           &    16000       \\\\\n",
       "\t mercedes-benz   &   287040       \\\\\n",
       "\t nissan          &  3764536       \\\\\n",
       "\t peterbilt       &     1600       \\\\\n",
       "\t ram             &    11050       \\\\\n",
       "\t toyota          &     6300       \\\\\n",
       "\\end{tabular}\n"
      ],
      "text/markdown": [
       "\n",
       "| Group.1 | x |\n",
       "|---|---|\n",
       "| acura           |    21800        |\n",
       "| audi            |    55925        |\n",
       "| bmw             |   448750        |\n",
       "| buick           |   256305        |\n",
       "| cadillac        |   249410        |\n",
       "| chevrolet       |  5544976        |\n",
       "| chrysler        |   246350        |\n",
       "| dodge           |  7681819        |\n",
       "| ford            | 26758607        |\n",
       "| gmc             |   447610        |\n",
       "| harley-davidson |    54680        |\n",
       "| heartland       |    14830        |\n",
       "| honda           |    73530        |\n",
       "| hyundai         |    78048        |\n",
       "| infiniti        |   157180        |\n",
       "| jaguar          |     2800        |\n",
       "| jeep            |   328015        |\n",
       "| kia             |   144610        |\n",
       "| land            |   115600        |\n",
       "| lexus           |    66440        |\n",
       "| lincoln         |    36300        |\n",
       "| maserati        |    30300        |\n",
       "| mazda           |    16000        |\n",
       "| mercedes-benz   |   287040        |\n",
       "| nissan          |  3764536        |\n",
       "| peterbilt       |     1600        |\n",
       "| ram             |    11050        |\n",
       "| toyota          |     6300        |\n",
       "\n"
      ],
      "text/plain": [
       "   Group.1         x       \n",
       "1  acura              21800\n",
       "2  audi               55925\n",
       "3  bmw               448750\n",
       "4  buick             256305\n",
       "5  cadillac          249410\n",
       "6  chevrolet        5544976\n",
       "7  chrysler          246350\n",
       "8  dodge            7681819\n",
       "9  ford            26758607\n",
       "10 gmc               447610\n",
       "11 harley-davidson    54680\n",
       "12 heartland          14830\n",
       "13 honda              73530\n",
       "14 hyundai            78048\n",
       "15 infiniti          157180\n",
       "16 jaguar              2800\n",
       "17 jeep              328015\n",
       "18 kia               144610\n",
       "19 land              115600\n",
       "20 lexus              66440\n",
       "21 lincoln            36300\n",
       "22 maserati           30300\n",
       "23 mazda              16000\n",
       "24 mercedes-benz     287040\n",
       "25 nissan           3764536\n",
       "26 peterbilt           1600\n",
       "27 ram                11050\n",
       "28 toyota              6300"
      ]
     },
     "metadata": {},
     "output_type": "display_data"
    }
   ],
   "source": [
    "# FUN can be sum, mean, count\n",
    "grouped_sum <- aggregate(cars$price, by = list(cars$brand), FUN = sum)\n",
    "grouped_sum"
   ]
  },
  {
   "cell_type": "markdown",
   "id": "c9ce8226",
   "metadata": {},
   "source": [
    "### 5.10 Apply functions in DataFrame"
   ]
  },
  {
   "cell_type": "code",
   "execution_count": 59,
   "id": "d3feb7d8",
   "metadata": {},
   "outputs": [
    {
     "data": {
      "text/html": [
       "84900"
      ],
      "text/latex": [
       "84900"
      ],
      "text/markdown": [
       "84900"
      ],
      "text/plain": [
       "[1] 84900"
      ]
     },
     "metadata": {},
     "output_type": "display_data"
    },
    {
     "data": {
      "text/html": [
       "<table>\n",
       "<tbody>\n",
       "\t<tr><th scope=row>Min.</th><td>    0.00</td></tr>\n",
       "\t<tr><th scope=row>1st Qu.</th><td>10200.00</td></tr>\n",
       "\t<tr><th scope=row>Median</th><td>16900.00</td></tr>\n",
       "\t<tr><th scope=row>Mean</th><td>18767.67</td></tr>\n",
       "\t<tr><th scope=row>3rd Qu.</th><td>25555.50</td></tr>\n",
       "\t<tr><th scope=row>Max.</th><td>84900.00</td></tr>\n",
       "</tbody>\n",
       "</table>\n"
      ],
      "text/latex": [
       "\\begin{tabular}{r|l}\n",
       "\tMin. &     0.00\\\\\n",
       "\t1st Qu. & 10200.00\\\\\n",
       "\tMedian & 16900.00\\\\\n",
       "\tMean & 18767.67\\\\\n",
       "\t3rd Qu. & 25555.50\\\\\n",
       "\tMax. & 84900.00\\\\\n",
       "\\end{tabular}\n"
      ],
      "text/markdown": [
       "\n",
       "| Min. |     0.00 |\n",
       "| 1st Qu. | 10200.00 |\n",
       "| Median | 16900.00 |\n",
       "| Mean | 18767.67 |\n",
       "| 3rd Qu. | 25555.50 |\n",
       "| Max. | 84900.00 |\n",
       "\n"
      ],
      "text/plain": [
       "        [,1]    \n",
       "Min.        0.00\n",
       "1st Qu. 10200.00\n",
       "Median  16900.00\n",
       "Mean    18767.67\n",
       "3rd Qu. 25555.50\n",
       "Max.    84900.00"
      ]
     },
     "metadata": {},
     "output_type": "display_data"
    }
   ],
   "source": [
    "sapply(list(cars$price), max)\n",
    "sapply(list(cars$price), summary)"
   ]
  },
  {
   "cell_type": "markdown",
   "id": "eaea2a7f",
   "metadata": {},
   "source": [
    "# 6. DPLYR Functions of DataFrame"
   ]
  },
  {
   "cell_type": "code",
   "execution_count": 26,
   "id": "fe13a219",
   "metadata": {},
   "outputs": [
    {
     "name": "stderr",
     "output_type": "stream",
     "text": [
      "\n",
      "Attaching package: 'dplyr'\n",
      "\n",
      "The following objects are masked from 'package:stats':\n",
      "\n",
      "    filter, lag\n",
      "\n",
      "The following objects are masked from 'package:base':\n",
      "\n",
      "    intersect, setdiff, setequal, union\n",
      "\n"
     ]
    }
   ],
   "source": [
    "library(dplyr)"
   ]
  },
  {
   "cell_type": "markdown",
   "id": "5a5e839a",
   "metadata": {},
   "source": [
    "### 6.1 Filter Condition on DataFrame"
   ]
  },
  {
   "cell_type": "code",
   "execution_count": 90,
   "id": "dc02979a",
   "metadata": {},
   "outputs": [],
   "source": [
    "filter(cars, brand == 'dodge')\n",
    "filter(cars, brand == 'dodge')[, c('model','brand')]\n",
    "filter(cars, brand == 'dodge', model == 'mpv')          # And Condition\n",
    "filter(cars, brand == 'dodge' | brand == 'chevrolet')   # OR Condition"
   ]
  },
  {
   "cell_type": "markdown",
   "id": "b1be4d57",
   "metadata": {},
   "source": [
    "### 6.2 Sort Data"
   ]
  },
  {
   "cell_type": "code",
   "execution_count": 91,
   "id": "dcb53643",
   "metadata": {},
   "outputs": [],
   "source": [
    "arrange(cars, price)\n",
    "arrange(cars, desc(price))\n",
    "arrange(cars, desc(price), desc(mileage))"
   ]
  },
  {
   "cell_type": "markdown",
   "id": "92e9d0ba",
   "metadata": {},
   "source": [
    "### 6.3 Select Function"
   ]
  },
  {
   "cell_type": "code",
   "execution_count": 72,
   "id": "c9161f2d",
   "metadata": {},
   "outputs": [],
   "source": [
    "select(cars, c('model','brand'))\n",
    "select(cars, 1:4)\n",
    "select(cars, 'Index':'model')\n",
    "select(arrange(cars, desc(price), desc(mileage)), c('model','brand', 'price', 'mileage'))"
   ]
  },
  {
   "cell_type": "markdown",
   "id": "3b0845e1",
   "metadata": {},
   "source": [
    "### 6.4 Distinct Function"
   ]
  },
  {
   "cell_type": "code",
   "execution_count": 75,
   "id": "61056f26",
   "metadata": {},
   "outputs": [],
   "source": [
    "distinct(cars, brand)  # Output is a dataFrame\n",
    "unique(cars$brand)     # Output is a vector\n",
    "\n",
    "arrange(distinct(cars, brand, model), brand, model)  # Sort Unique Data"
   ]
  },
  {
   "cell_type": "code",
   "execution_count": 76,
   "id": "dfc17bd8",
   "metadata": {},
   "outputs": [
    {
     "data": {
      "text/html": [
       "'data.frame'"
      ],
      "text/latex": [
       "'data.frame'"
      ],
      "text/markdown": [
       "'data.frame'"
      ],
      "text/plain": [
       "[1] \"data.frame\""
      ]
     },
     "metadata": {},
     "output_type": "display_data"
    },
    {
     "data": {
      "text/html": [
       "<ol class=list-inline>\n",
       "\t<li>180</li>\n",
       "\t<li>2</li>\n",
       "</ol>\n"
      ],
      "text/latex": [
       "\\begin{enumerate*}\n",
       "\\item 180\n",
       "\\item 2\n",
       "\\end{enumerate*}\n"
      ],
      "text/markdown": [
       "1. 180\n",
       "2. 2\n",
       "\n",
       "\n"
      ],
      "text/plain": [
       "[1] 180   2"
      ]
     },
     "metadata": {},
     "output_type": "display_data"
    }
   ],
   "source": [
    "class(arrange(distinct(cars, brand, model), brand, model))\n",
    "dim(arrange(distinct(cars, brand, model), brand, model))"
   ]
  },
  {
   "cell_type": "markdown",
   "id": "f6dac5f2",
   "metadata": {},
   "source": [
    "### 6.5 Mutate Function \n",
    "- used to create derived column"
   ]
  },
  {
   "cell_type": "code",
   "execution_count": 81,
   "id": "1874e61a",
   "metadata": {},
   "outputs": [
    {
     "data": {
      "text/html": [
       "<table>\n",
       "<thead><tr><th scope=col>Index</th><th scope=col>price</th><th scope=col>brand</th><th scope=col>model</th><th scope=col>year</th><th scope=col>title_status</th><th scope=col>mileage</th><th scope=col>color</th><th scope=col>vin</th><th scope=col>lot</th><th scope=col>state</th><th scope=col>country</th><th scope=col>condition</th><th scope=col>brand_model</th></tr></thead>\n",
       "<tbody>\n",
       "\t<tr><td>0                </td><td>6300             </td><td>toyota           </td><td>cruiser          </td><td>2008             </td><td>clean vehicle    </td><td>274117           </td><td>black            </td><td>jtezu11f88k007763</td><td>159348797        </td><td>new jersey       </td><td>usa              </td><td>10 days left     </td><td>toyota _ cruiser </td></tr>\n",
       "\t<tr><td>1                </td><td>2899             </td><td>ford             </td><td>se               </td><td>2011             </td><td>clean vehicle    </td><td>190552           </td><td>silver           </td><td>2fmdk3gc4bbb02217</td><td>166951262        </td><td>tennessee        </td><td>usa              </td><td>6 days left      </td><td>ford _ se        </td></tr>\n",
       "</tbody>\n",
       "</table>\n"
      ],
      "text/latex": [
       "\\begin{tabular}{r|llllllllllllll}\n",
       " Index & price & brand & model & year & title\\_status & mileage & color & vin & lot & state & country & condition & brand\\_model\\\\\n",
       "\\hline\n",
       "\t 0                  & 6300               & toyota             & cruiser            & 2008               & clean vehicle      & 274117             & black              & jtezu11f88k007763  & 159348797          & new jersey         & usa                & 10 days left       & toyota \\_ cruiser\\\\\n",
       "\t 1                  & 2899               & ford               & se                 & 2011               & clean vehicle      & 190552             & silver             & 2fmdk3gc4bbb02217  & 166951262          & tennessee          & usa                & 6 days left        & ford \\_ se       \\\\\n",
       "\\end{tabular}\n"
      ],
      "text/markdown": [
       "\n",
       "| Index | price | brand | model | year | title_status | mileage | color | vin | lot | state | country | condition | brand_model |\n",
       "|---|---|---|---|---|---|---|---|---|---|---|---|---|---|\n",
       "| 0                 | 6300              | toyota            | cruiser           | 2008              | clean vehicle     | 274117            | black             | jtezu11f88k007763 | 159348797         | new jersey        | usa               | 10 days left      | toyota _ cruiser  |\n",
       "| 1                 | 2899              | ford              | se                | 2011              | clean vehicle     | 190552            | silver            | 2fmdk3gc4bbb02217 | 166951262         | tennessee         | usa               | 6 days left       | ford _ se         |\n",
       "\n"
      ],
      "text/plain": [
       "  Index price brand  model   year title_status  mileage color \n",
       "1 0     6300  toyota cruiser 2008 clean vehicle 274117  black \n",
       "2 1     2899  ford   se      2011 clean vehicle 190552  silver\n",
       "  vin               lot       state      country condition    brand_model     \n",
       "1 jtezu11f88k007763 159348797 new jersey usa     10 days left toyota _ cruiser\n",
       "2 2fmdk3gc4bbb02217 166951262 tennessee  usa     6 days left  ford _ se       "
      ]
     },
     "metadata": {},
     "output_type": "display_data"
    }
   ],
   "source": [
    "cars <- mutate(cars, brand_model = paste(brand, '_', model))\n",
    "head(cars,2)"
   ]
  },
  {
   "cell_type": "markdown",
   "id": "a2fc0bc6",
   "metadata": {},
   "source": [
    "### 6.6 Summarize & Groupby Functions"
   ]
  },
  {
   "cell_type": "code",
   "execution_count": 27,
   "id": "e6e3a8d8",
   "metadata": {},
   "outputs": [
    {
     "data": {
      "text/html": [
       "<table>\n",
       "<thead><tr><th scope=col>brand</th><th scope=col>mean(price, na.rm = TRUE)</th></tr></thead>\n",
       "<tbody>\n",
       "\t<tr><td>acura          </td><td> 7266.667      </td></tr>\n",
       "\t<tr><td>audi           </td><td>13981.250      </td></tr>\n",
       "\t<tr><td>bmw            </td><td>26397.059      </td></tr>\n",
       "\t<tr><td>buick          </td><td>19715.769      </td></tr>\n",
       "\t<tr><td>cadillac       </td><td>24941.000      </td></tr>\n",
       "\t<tr><td>chevrolet      </td><td>18669.953      </td></tr>\n",
       "\t<tr><td>chrysler       </td><td>13686.111      </td></tr>\n",
       "\t<tr><td>dodge          </td><td>17781.988      </td></tr>\n",
       "\t<tr><td>ford           </td><td>21666.888      </td></tr>\n",
       "\t<tr><td>gmc            </td><td>10657.381      </td></tr>\n",
       "\t<tr><td>harley-davidson</td><td>54680.000      </td></tr>\n",
       "\t<tr><td>heartland      </td><td> 2966.000      </td></tr>\n",
       "\t<tr><td>honda          </td><td> 6127.500      </td></tr>\n",
       "\t<tr><td>hyundai        </td><td> 5203.200      </td></tr>\n",
       "\t<tr><td>infiniti       </td><td>13098.333      </td></tr>\n",
       "\t<tr><td>jaguar         </td><td> 2800.000      </td></tr>\n",
       "\t<tr><td>jeep           </td><td>10933.833      </td></tr>\n",
       "\t<tr><td>kia            </td><td>11123.846      </td></tr>\n",
       "\t<tr><td>land           </td><td>28900.000      </td></tr>\n",
       "\t<tr><td>lexus          </td><td>33220.000      </td></tr>\n",
       "\t<tr><td>lincoln        </td><td>18150.000      </td></tr>\n",
       "\t<tr><td>maserati       </td><td>30300.000      </td></tr>\n",
       "\t<tr><td>mazda          </td><td> 8000.000      </td></tr>\n",
       "\t<tr><td>mercedes-benz  </td><td>28704.000      </td></tr>\n",
       "\t<tr><td>nissan         </td><td>12065.821      </td></tr>\n",
       "\t<tr><td>peterbilt      </td><td>  400.000      </td></tr>\n",
       "\t<tr><td>ram            </td><td>11050.000      </td></tr>\n",
       "\t<tr><td>toyota         </td><td> 6300.000      </td></tr>\n",
       "</tbody>\n",
       "</table>\n"
      ],
      "text/latex": [
       "\\begin{tabular}{r|ll}\n",
       " brand & mean(price, na.rm = TRUE)\\\\\n",
       "\\hline\n",
       "\t acura           &  7266.667      \\\\\n",
       "\t audi            & 13981.250      \\\\\n",
       "\t bmw             & 26397.059      \\\\\n",
       "\t buick           & 19715.769      \\\\\n",
       "\t cadillac        & 24941.000      \\\\\n",
       "\t chevrolet       & 18669.953      \\\\\n",
       "\t chrysler        & 13686.111      \\\\\n",
       "\t dodge           & 17781.988      \\\\\n",
       "\t ford            & 21666.888      \\\\\n",
       "\t gmc             & 10657.381      \\\\\n",
       "\t harley-davidson & 54680.000      \\\\\n",
       "\t heartland       &  2966.000      \\\\\n",
       "\t honda           &  6127.500      \\\\\n",
       "\t hyundai         &  5203.200      \\\\\n",
       "\t infiniti        & 13098.333      \\\\\n",
       "\t jaguar          &  2800.000      \\\\\n",
       "\t jeep            & 10933.833      \\\\\n",
       "\t kia             & 11123.846      \\\\\n",
       "\t land            & 28900.000      \\\\\n",
       "\t lexus           & 33220.000      \\\\\n",
       "\t lincoln         & 18150.000      \\\\\n",
       "\t maserati        & 30300.000      \\\\\n",
       "\t mazda           &  8000.000      \\\\\n",
       "\t mercedes-benz   & 28704.000      \\\\\n",
       "\t nissan          & 12065.821      \\\\\n",
       "\t peterbilt       &   400.000      \\\\\n",
       "\t ram             & 11050.000      \\\\\n",
       "\t toyota          &  6300.000      \\\\\n",
       "\\end{tabular}\n"
      ],
      "text/markdown": [
       "\n",
       "| brand | mean(price, na.rm = TRUE) |\n",
       "|---|---|\n",
       "| acura           |  7266.667       |\n",
       "| audi            | 13981.250       |\n",
       "| bmw             | 26397.059       |\n",
       "| buick           | 19715.769       |\n",
       "| cadillac        | 24941.000       |\n",
       "| chevrolet       | 18669.953       |\n",
       "| chrysler        | 13686.111       |\n",
       "| dodge           | 17781.988       |\n",
       "| ford            | 21666.888       |\n",
       "| gmc             | 10657.381       |\n",
       "| harley-davidson | 54680.000       |\n",
       "| heartland       |  2966.000       |\n",
       "| honda           |  6127.500       |\n",
       "| hyundai         |  5203.200       |\n",
       "| infiniti        | 13098.333       |\n",
       "| jaguar          |  2800.000       |\n",
       "| jeep            | 10933.833       |\n",
       "| kia             | 11123.846       |\n",
       "| land            | 28900.000       |\n",
       "| lexus           | 33220.000       |\n",
       "| lincoln         | 18150.000       |\n",
       "| maserati        | 30300.000       |\n",
       "| mazda           |  8000.000       |\n",
       "| mercedes-benz   | 28704.000       |\n",
       "| nissan          | 12065.821       |\n",
       "| peterbilt       |   400.000       |\n",
       "| ram             | 11050.000       |\n",
       "| toyota          |  6300.000       |\n",
       "\n"
      ],
      "text/plain": [
       "   brand           mean(price, na.rm = TRUE)\n",
       "1  acura            7266.667                \n",
       "2  audi            13981.250                \n",
       "3  bmw             26397.059                \n",
       "4  buick           19715.769                \n",
       "5  cadillac        24941.000                \n",
       "6  chevrolet       18669.953                \n",
       "7  chrysler        13686.111                \n",
       "8  dodge           17781.988                \n",
       "9  ford            21666.888                \n",
       "10 gmc             10657.381                \n",
       "11 harley-davidson 54680.000                \n",
       "12 heartland        2966.000                \n",
       "13 honda            6127.500                \n",
       "14 hyundai          5203.200                \n",
       "15 infiniti        13098.333                \n",
       "16 jaguar           2800.000                \n",
       "17 jeep            10933.833                \n",
       "18 kia             11123.846                \n",
       "19 land            28900.000                \n",
       "20 lexus           33220.000                \n",
       "21 lincoln         18150.000                \n",
       "22 maserati        30300.000                \n",
       "23 mazda            8000.000                \n",
       "24 mercedes-benz   28704.000                \n",
       "25 nissan          12065.821                \n",
       "26 peterbilt         400.000                \n",
       "27 ram             11050.000                \n",
       "28 toyota           6300.000                "
      ]
     },
     "metadata": {},
     "output_type": "display_data"
    },
    {
     "data": {
      "text/html": [
       "<table>\n",
       "<thead><tr><th scope=col>brand</th><th scope=col>sum(price, na.rm = TRUE)</th></tr></thead>\n",
       "<tbody>\n",
       "\t<tr><td>acura          </td><td>   21800       </td></tr>\n",
       "\t<tr><td>audi           </td><td>   55925       </td></tr>\n",
       "\t<tr><td>bmw            </td><td>  448750       </td></tr>\n",
       "\t<tr><td>buick          </td><td>  256305       </td></tr>\n",
       "\t<tr><td>cadillac       </td><td>  249410       </td></tr>\n",
       "\t<tr><td>chevrolet      </td><td> 5544976       </td></tr>\n",
       "\t<tr><td>chrysler       </td><td>  246350       </td></tr>\n",
       "\t<tr><td>dodge          </td><td> 7681819       </td></tr>\n",
       "\t<tr><td>ford           </td><td>26758607       </td></tr>\n",
       "\t<tr><td>gmc            </td><td>  447610       </td></tr>\n",
       "\t<tr><td>harley-davidson</td><td>   54680       </td></tr>\n",
       "\t<tr><td>heartland      </td><td>   14830       </td></tr>\n",
       "\t<tr><td>honda          </td><td>   73530       </td></tr>\n",
       "\t<tr><td>hyundai        </td><td>   78048       </td></tr>\n",
       "\t<tr><td>infiniti       </td><td>  157180       </td></tr>\n",
       "\t<tr><td>jaguar         </td><td>    2800       </td></tr>\n",
       "\t<tr><td>jeep           </td><td>  328015       </td></tr>\n",
       "\t<tr><td>kia            </td><td>  144610       </td></tr>\n",
       "\t<tr><td>land           </td><td>  115600       </td></tr>\n",
       "\t<tr><td>lexus          </td><td>   66440       </td></tr>\n",
       "\t<tr><td>lincoln        </td><td>   36300       </td></tr>\n",
       "\t<tr><td>maserati       </td><td>   30300       </td></tr>\n",
       "\t<tr><td>mazda          </td><td>   16000       </td></tr>\n",
       "\t<tr><td>mercedes-benz  </td><td>  287040       </td></tr>\n",
       "\t<tr><td>nissan         </td><td> 3764536       </td></tr>\n",
       "\t<tr><td>peterbilt      </td><td>    1600       </td></tr>\n",
       "\t<tr><td>ram            </td><td>   11050       </td></tr>\n",
       "\t<tr><td>toyota         </td><td>    6300       </td></tr>\n",
       "</tbody>\n",
       "</table>\n"
      ],
      "text/latex": [
       "\\begin{tabular}{r|ll}\n",
       " brand & sum(price, na.rm = TRUE)\\\\\n",
       "\\hline\n",
       "\t acura           &    21800       \\\\\n",
       "\t audi            &    55925       \\\\\n",
       "\t bmw             &   448750       \\\\\n",
       "\t buick           &   256305       \\\\\n",
       "\t cadillac        &   249410       \\\\\n",
       "\t chevrolet       &  5544976       \\\\\n",
       "\t chrysler        &   246350       \\\\\n",
       "\t dodge           &  7681819       \\\\\n",
       "\t ford            & 26758607       \\\\\n",
       "\t gmc             &   447610       \\\\\n",
       "\t harley-davidson &    54680       \\\\\n",
       "\t heartland       &    14830       \\\\\n",
       "\t honda           &    73530       \\\\\n",
       "\t hyundai         &    78048       \\\\\n",
       "\t infiniti        &   157180       \\\\\n",
       "\t jaguar          &     2800       \\\\\n",
       "\t jeep            &   328015       \\\\\n",
       "\t kia             &   144610       \\\\\n",
       "\t land            &   115600       \\\\\n",
       "\t lexus           &    66440       \\\\\n",
       "\t lincoln         &    36300       \\\\\n",
       "\t maserati        &    30300       \\\\\n",
       "\t mazda           &    16000       \\\\\n",
       "\t mercedes-benz   &   287040       \\\\\n",
       "\t nissan          &  3764536       \\\\\n",
       "\t peterbilt       &     1600       \\\\\n",
       "\t ram             &    11050       \\\\\n",
       "\t toyota          &     6300       \\\\\n",
       "\\end{tabular}\n"
      ],
      "text/markdown": [
       "\n",
       "| brand | sum(price, na.rm = TRUE) |\n",
       "|---|---|\n",
       "| acura           |    21800        |\n",
       "| audi            |    55925        |\n",
       "| bmw             |   448750        |\n",
       "| buick           |   256305        |\n",
       "| cadillac        |   249410        |\n",
       "| chevrolet       |  5544976        |\n",
       "| chrysler        |   246350        |\n",
       "| dodge           |  7681819        |\n",
       "| ford            | 26758607        |\n",
       "| gmc             |   447610        |\n",
       "| harley-davidson |    54680        |\n",
       "| heartland       |    14830        |\n",
       "| honda           |    73530        |\n",
       "| hyundai         |    78048        |\n",
       "| infiniti        |   157180        |\n",
       "| jaguar          |     2800        |\n",
       "| jeep            |   328015        |\n",
       "| kia             |   144610        |\n",
       "| land            |   115600        |\n",
       "| lexus           |    66440        |\n",
       "| lincoln         |    36300        |\n",
       "| maserati        |    30300        |\n",
       "| mazda           |    16000        |\n",
       "| mercedes-benz   |   287040        |\n",
       "| nissan          |  3764536        |\n",
       "| peterbilt       |     1600        |\n",
       "| ram             |    11050        |\n",
       "| toyota          |     6300        |\n",
       "\n"
      ],
      "text/plain": [
       "   brand           sum(price, na.rm = TRUE)\n",
       "1  acura              21800                \n",
       "2  audi               55925                \n",
       "3  bmw               448750                \n",
       "4  buick             256305                \n",
       "5  cadillac          249410                \n",
       "6  chevrolet        5544976                \n",
       "7  chrysler          246350                \n",
       "8  dodge            7681819                \n",
       "9  ford            26758607                \n",
       "10 gmc               447610                \n",
       "11 harley-davidson    54680                \n",
       "12 heartland          14830                \n",
       "13 honda              73530                \n",
       "14 hyundai            78048                \n",
       "15 infiniti          157180                \n",
       "16 jaguar              2800                \n",
       "17 jeep              328015                \n",
       "18 kia               144610                \n",
       "19 land              115600                \n",
       "20 lexus              66440                \n",
       "21 lincoln            36300                \n",
       "22 maserati           30300                \n",
       "23 mazda              16000                \n",
       "24 mercedes-benz     287040                \n",
       "25 nissan           3764536                \n",
       "26 peterbilt           1600                \n",
       "27 ram                11050                \n",
       "28 toyota              6300                "
      ]
     },
     "metadata": {},
     "output_type": "display_data"
    }
   ],
   "source": [
    "summarise(group_by(cars, brand), mean(price, na.rm = TRUE))\n",
    "summarise(group_by(cars, brand), sum(price, na.rm = TRUE))"
   ]
  },
  {
   "cell_type": "code",
   "execution_count": 28,
   "id": "36d4b14c",
   "metadata": {
    "scrolled": false
   },
   "outputs": [
    {
     "data": {
      "text/html": [
       "<table>\n",
       "<thead><tr><th scope=col>brand</th><th scope=col>model</th><th scope=col>mean(price, na.rm = TRUE)</th></tr></thead>\n",
       "<tbody>\n",
       "\t<tr><td>acura    </td><td>door     </td><td> 2450.000</td></tr>\n",
       "\t<tr><td>acura    </td><td>mdx      </td><td>16900.000</td></tr>\n",
       "\t<tr><td>audi     </td><td>5        </td><td>36400.000</td></tr>\n",
       "\t<tr><td>audi     </td><td>door     </td><td>   12.500</td></tr>\n",
       "\t<tr><td>audi     </td><td>q5       </td><td>19500.000</td></tr>\n",
       "\t<tr><td>bmw      </td><td>coupe    </td><td> 1825.000</td></tr>\n",
       "\t<tr><td>bmw      </td><td>door     </td><td> 9725.000</td></tr>\n",
       "\t<tr><td>bmw      </td><td>m        </td><td>53500.000</td></tr>\n",
       "\t<tr><td>bmw      </td><td>series   </td><td>36962.500</td></tr>\n",
       "\t<tr><td>bmw      </td><td>x3       </td><td>24550.000</td></tr>\n",
       "\t<tr><td>buick    </td><td>door     </td><td>18575.625</td></tr>\n",
       "\t<tr><td>buick    </td><td>enclave  </td><td>32250.000</td></tr>\n",
       "\t<tr><td>buick    </td><td>encore   </td><td>14400.000</td></tr>\n",
       "\t<tr><td>cadillac </td><td>coupe    </td><td>    0.000</td></tr>\n",
       "\t<tr><td>cadillac </td><td>door     </td><td>26701.333</td></tr>\n",
       "\t<tr><td>cadillac </td><td>esv      </td><td>33300.000</td></tr>\n",
       "\t<tr><td>cadillac </td><td>srx      </td><td>18402.000</td></tr>\n",
       "\t<tr><td>cadillac </td><td>xt5      </td><td>37500.000</td></tr>\n",
       "\t<tr><td>chevrolet</td><td>1500     </td><td>26706.316</td></tr>\n",
       "\t<tr><td>chevrolet</td><td>2500     </td><td>31612.750</td></tr>\n",
       "\t<tr><td>chevrolet</td><td>3500     </td><td>38325.000</td></tr>\n",
       "\t<tr><td>chevrolet</td><td>cab      </td><td>10440.000</td></tr>\n",
       "\t<tr><td>chevrolet</td><td>camaro   </td><td>25916.667</td></tr>\n",
       "\t<tr><td>chevrolet</td><td>colorado </td><td>19642.833</td></tr>\n",
       "\t<tr><td>chevrolet</td><td>corvette </td><td>52025.000</td></tr>\n",
       "\t<tr><td>chevrolet</td><td>coupe    </td><td> 2306.667</td></tr>\n",
       "\t<tr><td>chevrolet</td><td>cruze    </td><td> 6000.000</td></tr>\n",
       "\t<tr><td>chevrolet</td><td>cutaway  </td><td>16100.000</td></tr>\n",
       "\t<tr><td>chevrolet</td><td>door     </td><td>12314.212</td></tr>\n",
       "\t<tr><td>chevrolet</td><td>equinox  </td><td>15438.889</td></tr>\n",
       "\t<tr><td>...</td><td>...</td><td>...</td></tr>\n",
       "\t<tr><td>mercedes-benz</td><td>glc          </td><td>24900.000    </td></tr>\n",
       "\t<tr><td>mercedes-benz</td><td>gle          </td><td>34000.000    </td></tr>\n",
       "\t<tr><td>mercedes-benz</td><td>sl-class     </td><td>84900.000    </td></tr>\n",
       "\t<tr><td>mercedes-benz</td><td>vans         </td><td>16600.000    </td></tr>\n",
       "\t<tr><td>nissan       </td><td>altima       </td><td>13923.810    </td></tr>\n",
       "\t<tr><td>nissan       </td><td>armada       </td><td>25825.000    </td></tr>\n",
       "\t<tr><td>nissan       </td><td>cab          </td><td> 8350.000    </td></tr>\n",
       "\t<tr><td>nissan       </td><td>cargo        </td><td>19000.000    </td></tr>\n",
       "\t<tr><td>nissan       </td><td>door         </td><td> 6329.184    </td></tr>\n",
       "\t<tr><td>nissan       </td><td>doors        </td><td> 5810.524    </td></tr>\n",
       "\t<tr><td>nissan       </td><td>frontier     </td><td>18107.143    </td></tr>\n",
       "\t<tr><td>nissan       </td><td>juke         </td><td> 8400.000    </td></tr>\n",
       "\t<tr><td>nissan       </td><td>kicks        </td><td>15300.000    </td></tr>\n",
       "\t<tr><td>nissan       </td><td>maxima       </td><td>15900.000    </td></tr>\n",
       "\t<tr><td>nissan       </td><td>mpv          </td><td> 4755.000    </td></tr>\n",
       "\t<tr><td>nissan       </td><td>murano       </td><td>20765.000    </td></tr>\n",
       "\t<tr><td>nissan       </td><td>note         </td><td> 6050.000    </td></tr>\n",
       "\t<tr><td>nissan       </td><td>nvp          </td><td>22700.000    </td></tr>\n",
       "\t<tr><td>nissan       </td><td>pathfinder   </td><td>18622.727    </td></tr>\n",
       "\t<tr><td>nissan       </td><td>rogue        </td><td>15094.444    </td></tr>\n",
       "\t<tr><td>nissan       </td><td>sedan        </td><td> 7825.000    </td></tr>\n",
       "\t<tr><td>nissan       </td><td>sentra       </td><td> 9573.214    </td></tr>\n",
       "\t<tr><td>nissan       </td><td>sport        </td><td>12477.027    </td></tr>\n",
       "\t<tr><td>nissan       </td><td>titan        </td><td>24120.000    </td></tr>\n",
       "\t<tr><td>nissan       </td><td>versa        </td><td> 8438.235    </td></tr>\n",
       "\t<tr><td>nissan       </td><td>xd           </td><td>36300.000    </td></tr>\n",
       "\t<tr><td>nissan       </td><td>xterra       </td><td> 6700.000    </td></tr>\n",
       "\t<tr><td>peterbilt    </td><td>truck        </td><td>  400.000    </td></tr>\n",
       "\t<tr><td>ram          </td><td>door         </td><td>11050.000    </td></tr>\n",
       "\t<tr><td>toyota       </td><td>cruiser      </td><td> 6300.000    </td></tr>\n",
       "</tbody>\n",
       "</table>\n"
      ],
      "text/latex": [
       "\\begin{tabular}{r|lll}\n",
       " brand & model & mean(price, na.rm = TRUE)\\\\\n",
       "\\hline\n",
       "\t acura     & door      &  2450.000\\\\\n",
       "\t acura     & mdx       & 16900.000\\\\\n",
       "\t audi      & 5         & 36400.000\\\\\n",
       "\t audi      & door      &    12.500\\\\\n",
       "\t audi      & q5        & 19500.000\\\\\n",
       "\t bmw       & coupe     &  1825.000\\\\\n",
       "\t bmw       & door      &  9725.000\\\\\n",
       "\t bmw       & m         & 53500.000\\\\\n",
       "\t bmw       & series    & 36962.500\\\\\n",
       "\t bmw       & x3        & 24550.000\\\\\n",
       "\t buick     & door      & 18575.625\\\\\n",
       "\t buick     & enclave   & 32250.000\\\\\n",
       "\t buick     & encore    & 14400.000\\\\\n",
       "\t cadillac  & coupe     &     0.000\\\\\n",
       "\t cadillac  & door      & 26701.333\\\\\n",
       "\t cadillac  & esv       & 33300.000\\\\\n",
       "\t cadillac  & srx       & 18402.000\\\\\n",
       "\t cadillac  & xt5       & 37500.000\\\\\n",
       "\t chevrolet & 1500      & 26706.316\\\\\n",
       "\t chevrolet & 2500      & 31612.750\\\\\n",
       "\t chevrolet & 3500      & 38325.000\\\\\n",
       "\t chevrolet & cab       & 10440.000\\\\\n",
       "\t chevrolet & camaro    & 25916.667\\\\\n",
       "\t chevrolet & colorado  & 19642.833\\\\\n",
       "\t chevrolet & corvette  & 52025.000\\\\\n",
       "\t chevrolet & coupe     &  2306.667\\\\\n",
       "\t chevrolet & cruze     &  6000.000\\\\\n",
       "\t chevrolet & cutaway   & 16100.000\\\\\n",
       "\t chevrolet & door      & 12314.212\\\\\n",
       "\t chevrolet & equinox   & 15438.889\\\\\n",
       "\t ... & ... & ...\\\\\n",
       "\t mercedes-benz & glc           & 24900.000    \\\\\n",
       "\t mercedes-benz & gle           & 34000.000    \\\\\n",
       "\t mercedes-benz & sl-class      & 84900.000    \\\\\n",
       "\t mercedes-benz & vans          & 16600.000    \\\\\n",
       "\t nissan        & altima        & 13923.810    \\\\\n",
       "\t nissan        & armada        & 25825.000    \\\\\n",
       "\t nissan        & cab           &  8350.000    \\\\\n",
       "\t nissan        & cargo         & 19000.000    \\\\\n",
       "\t nissan        & door          &  6329.184    \\\\\n",
       "\t nissan        & doors         &  5810.524    \\\\\n",
       "\t nissan        & frontier      & 18107.143    \\\\\n",
       "\t nissan        & juke          &  8400.000    \\\\\n",
       "\t nissan        & kicks         & 15300.000    \\\\\n",
       "\t nissan        & maxima        & 15900.000    \\\\\n",
       "\t nissan        & mpv           &  4755.000    \\\\\n",
       "\t nissan        & murano        & 20765.000    \\\\\n",
       "\t nissan        & note          &  6050.000    \\\\\n",
       "\t nissan        & nvp           & 22700.000    \\\\\n",
       "\t nissan        & pathfinder    & 18622.727    \\\\\n",
       "\t nissan        & rogue         & 15094.444    \\\\\n",
       "\t nissan        & sedan         &  7825.000    \\\\\n",
       "\t nissan        & sentra        &  9573.214    \\\\\n",
       "\t nissan        & sport         & 12477.027    \\\\\n",
       "\t nissan        & titan         & 24120.000    \\\\\n",
       "\t nissan        & versa         &  8438.235    \\\\\n",
       "\t nissan        & xd            & 36300.000    \\\\\n",
       "\t nissan        & xterra        &  6700.000    \\\\\n",
       "\t peterbilt     & truck         &   400.000    \\\\\n",
       "\t ram           & door          & 11050.000    \\\\\n",
       "\t toyota        & cruiser       &  6300.000    \\\\\n",
       "\\end{tabular}\n"
      ],
      "text/markdown": [
       "\n",
       "| brand | model | mean(price, na.rm = TRUE) |\n",
       "|---|---|---|\n",
       "| acura     | door      |  2450.000 |\n",
       "| acura     | mdx       | 16900.000 |\n",
       "| audi      | 5         | 36400.000 |\n",
       "| audi      | door      |    12.500 |\n",
       "| audi      | q5        | 19500.000 |\n",
       "| bmw       | coupe     |  1825.000 |\n",
       "| bmw       | door      |  9725.000 |\n",
       "| bmw       | m         | 53500.000 |\n",
       "| bmw       | series    | 36962.500 |\n",
       "| bmw       | x3        | 24550.000 |\n",
       "| buick     | door      | 18575.625 |\n",
       "| buick     | enclave   | 32250.000 |\n",
       "| buick     | encore    | 14400.000 |\n",
       "| cadillac  | coupe     |     0.000 |\n",
       "| cadillac  | door      | 26701.333 |\n",
       "| cadillac  | esv       | 33300.000 |\n",
       "| cadillac  | srx       | 18402.000 |\n",
       "| cadillac  | xt5       | 37500.000 |\n",
       "| chevrolet | 1500      | 26706.316 |\n",
       "| chevrolet | 2500      | 31612.750 |\n",
       "| chevrolet | 3500      | 38325.000 |\n",
       "| chevrolet | cab       | 10440.000 |\n",
       "| chevrolet | camaro    | 25916.667 |\n",
       "| chevrolet | colorado  | 19642.833 |\n",
       "| chevrolet | corvette  | 52025.000 |\n",
       "| chevrolet | coupe     |  2306.667 |\n",
       "| chevrolet | cruze     |  6000.000 |\n",
       "| chevrolet | cutaway   | 16100.000 |\n",
       "| chevrolet | door      | 12314.212 |\n",
       "| chevrolet | equinox   | 15438.889 |\n",
       "| ... | ... | ... |\n",
       "| mercedes-benz | glc           | 24900.000     |\n",
       "| mercedes-benz | gle           | 34000.000     |\n",
       "| mercedes-benz | sl-class      | 84900.000     |\n",
       "| mercedes-benz | vans          | 16600.000     |\n",
       "| nissan        | altima        | 13923.810     |\n",
       "| nissan        | armada        | 25825.000     |\n",
       "| nissan        | cab           |  8350.000     |\n",
       "| nissan        | cargo         | 19000.000     |\n",
       "| nissan        | door          |  6329.184     |\n",
       "| nissan        | doors         |  5810.524     |\n",
       "| nissan        | frontier      | 18107.143     |\n",
       "| nissan        | juke          |  8400.000     |\n",
       "| nissan        | kicks         | 15300.000     |\n",
       "| nissan        | maxima        | 15900.000     |\n",
       "| nissan        | mpv           |  4755.000     |\n",
       "| nissan        | murano        | 20765.000     |\n",
       "| nissan        | note          |  6050.000     |\n",
       "| nissan        | nvp           | 22700.000     |\n",
       "| nissan        | pathfinder    | 18622.727     |\n",
       "| nissan        | rogue         | 15094.444     |\n",
       "| nissan        | sedan         |  7825.000     |\n",
       "| nissan        | sentra        |  9573.214     |\n",
       "| nissan        | sport         | 12477.027     |\n",
       "| nissan        | titan         | 24120.000     |\n",
       "| nissan        | versa         |  8438.235     |\n",
       "| nissan        | xd            | 36300.000     |\n",
       "| nissan        | xterra        |  6700.000     |\n",
       "| peterbilt     | truck         |   400.000     |\n",
       "| ram           | door          | 11050.000     |\n",
       "| toyota        | cruiser       |  6300.000     |\n",
       "\n"
      ],
      "text/plain": [
       "    brand         model      mean(price, na.rm = TRUE)\n",
       "1   acura         door        2450.000                \n",
       "2   acura         mdx        16900.000                \n",
       "3   audi          5          36400.000                \n",
       "4   audi          door          12.500                \n",
       "5   audi          q5         19500.000                \n",
       "6   bmw           coupe       1825.000                \n",
       "7   bmw           door        9725.000                \n",
       "8   bmw           m          53500.000                \n",
       "9   bmw           series     36962.500                \n",
       "10  bmw           x3         24550.000                \n",
       "11  buick         door       18575.625                \n",
       "12  buick         enclave    32250.000                \n",
       "13  buick         encore     14400.000                \n",
       "14  cadillac      coupe          0.000                \n",
       "15  cadillac      door       26701.333                \n",
       "16  cadillac      esv        33300.000                \n",
       "17  cadillac      srx        18402.000                \n",
       "18  cadillac      xt5        37500.000                \n",
       "19  chevrolet     1500       26706.316                \n",
       "20  chevrolet     2500       31612.750                \n",
       "21  chevrolet     3500       38325.000                \n",
       "22  chevrolet     cab        10440.000                \n",
       "23  chevrolet     camaro     25916.667                \n",
       "24  chevrolet     colorado   19642.833                \n",
       "25  chevrolet     corvette   52025.000                \n",
       "26  chevrolet     coupe       2306.667                \n",
       "27  chevrolet     cruze       6000.000                \n",
       "28  chevrolet     cutaway    16100.000                \n",
       "29  chevrolet     door       12314.212                \n",
       "30  chevrolet     equinox    15438.889                \n",
       "... ...           ...        ...                      \n",
       "151 mercedes-benz glc        24900.000                \n",
       "152 mercedes-benz gle        34000.000                \n",
       "153 mercedes-benz sl-class   84900.000                \n",
       "154 mercedes-benz vans       16600.000                \n",
       "155 nissan        altima     13923.810                \n",
       "156 nissan        armada     25825.000                \n",
       "157 nissan        cab         8350.000                \n",
       "158 nissan        cargo      19000.000                \n",
       "159 nissan        door        6329.184                \n",
       "160 nissan        doors       5810.524                \n",
       "161 nissan        frontier   18107.143                \n",
       "162 nissan        juke        8400.000                \n",
       "163 nissan        kicks      15300.000                \n",
       "164 nissan        maxima     15900.000                \n",
       "165 nissan        mpv         4755.000                \n",
       "166 nissan        murano     20765.000                \n",
       "167 nissan        note        6050.000                \n",
       "168 nissan        nvp        22700.000                \n",
       "169 nissan        pathfinder 18622.727                \n",
       "170 nissan        rogue      15094.444                \n",
       "171 nissan        sedan       7825.000                \n",
       "172 nissan        sentra      9573.214                \n",
       "173 nissan        sport      12477.027                \n",
       "174 nissan        titan      24120.000                \n",
       "175 nissan        versa       8438.235                \n",
       "176 nissan        xd         36300.000                \n",
       "177 nissan        xterra      6700.000                \n",
       "178 peterbilt     truck        400.000                \n",
       "179 ram           door       11050.000                \n",
       "180 toyota        cruiser     6300.000                "
      ]
     },
     "metadata": {},
     "output_type": "display_data"
    },
    {
     "data": {
      "text/html": [
       "<table>\n",
       "<thead><tr><th scope=col>brand</th><th scope=col>model</th><th scope=col>sum(price, na.rm = TRUE)</th></tr></thead>\n",
       "<tbody>\n",
       "\t<tr><td>acura    </td><td>door     </td><td>   4900  </td></tr>\n",
       "\t<tr><td>acura    </td><td>mdx      </td><td>  16900  </td></tr>\n",
       "\t<tr><td>audi     </td><td>5        </td><td>  36400  </td></tr>\n",
       "\t<tr><td>audi     </td><td>door     </td><td>     25  </td></tr>\n",
       "\t<tr><td>audi     </td><td>q5       </td><td>  19500  </td></tr>\n",
       "\t<tr><td>bmw      </td><td>coupe    </td><td>   1825  </td></tr>\n",
       "\t<tr><td>bmw      </td><td>door     </td><td>  48625  </td></tr>\n",
       "\t<tr><td>bmw      </td><td>m        </td><td>  53500  </td></tr>\n",
       "\t<tr><td>bmw      </td><td>series   </td><td> 295700  </td></tr>\n",
       "\t<tr><td>bmw      </td><td>x3       </td><td>  49100  </td></tr>\n",
       "\t<tr><td>buick    </td><td>door     </td><td> 148605  </td></tr>\n",
       "\t<tr><td>buick    </td><td>enclave  </td><td>  64500  </td></tr>\n",
       "\t<tr><td>buick    </td><td>encore   </td><td>  43200  </td></tr>\n",
       "\t<tr><td>cadillac </td><td>coupe    </td><td>      0  </td></tr>\n",
       "\t<tr><td>cadillac </td><td>door     </td><td> 160208  </td></tr>\n",
       "\t<tr><td>cadillac </td><td>esv      </td><td>  33300  </td></tr>\n",
       "\t<tr><td>cadillac </td><td>srx      </td><td>  18402  </td></tr>\n",
       "\t<tr><td>cadillac </td><td>xt5      </td><td>  37500  </td></tr>\n",
       "\t<tr><td>chevrolet</td><td>1500     </td><td>1014840  </td></tr>\n",
       "\t<tr><td>chevrolet</td><td>2500     </td><td> 252902  </td></tr>\n",
       "\t<tr><td>chevrolet</td><td>3500     </td><td> 153300  </td></tr>\n",
       "\t<tr><td>chevrolet</td><td>cab      </td><td>  10440  </td></tr>\n",
       "\t<tr><td>chevrolet</td><td>camaro   </td><td> 155500  </td></tr>\n",
       "\t<tr><td>chevrolet</td><td>colorado </td><td> 235714  </td></tr>\n",
       "\t<tr><td>chevrolet</td><td>corvette </td><td> 208100  </td></tr>\n",
       "\t<tr><td>chevrolet</td><td>coupe    </td><td>   6920  </td></tr>\n",
       "\t<tr><td>chevrolet</td><td>cruze    </td><td>  12000  </td></tr>\n",
       "\t<tr><td>chevrolet</td><td>cutaway  </td><td>  32200  </td></tr>\n",
       "\t<tr><td>chevrolet</td><td>door     </td><td>1219107  </td></tr>\n",
       "\t<tr><td>chevrolet</td><td>equinox  </td><td> 277900  </td></tr>\n",
       "\t<tr><td>...</td><td>...</td><td>...</td></tr>\n",
       "\t<tr><td>mercedes-benz</td><td>glc          </td><td> 24900       </td></tr>\n",
       "\t<tr><td>mercedes-benz</td><td>gle          </td><td> 68000       </td></tr>\n",
       "\t<tr><td>mercedes-benz</td><td>sl-class     </td><td> 84900       </td></tr>\n",
       "\t<tr><td>mercedes-benz</td><td>vans         </td><td> 33200       </td></tr>\n",
       "\t<tr><td>nissan       </td><td>altima       </td><td>292400       </td></tr>\n",
       "\t<tr><td>nissan       </td><td>armada       </td><td>103300       </td></tr>\n",
       "\t<tr><td>nissan       </td><td>cab          </td><td>  8350       </td></tr>\n",
       "\t<tr><td>nissan       </td><td>cargo        </td><td> 19000       </td></tr>\n",
       "\t<tr><td>nissan       </td><td>door         </td><td>310130       </td></tr>\n",
       "\t<tr><td>nissan       </td><td>doors        </td><td>122021       </td></tr>\n",
       "\t<tr><td>nissan       </td><td>frontier     </td><td>253500       </td></tr>\n",
       "\t<tr><td>nissan       </td><td>juke         </td><td>  8400       </td></tr>\n",
       "\t<tr><td>nissan       </td><td>kicks        </td><td> 15300       </td></tr>\n",
       "\t<tr><td>nissan       </td><td>maxima       </td><td> 47700       </td></tr>\n",
       "\t<tr><td>nissan       </td><td>mpv          </td><td>  9510       </td></tr>\n",
       "\t<tr><td>nissan       </td><td>murano       </td><td>103825       </td></tr>\n",
       "\t<tr><td>nissan       </td><td>note         </td><td> 12100       </td></tr>\n",
       "\t<tr><td>nissan       </td><td>nvp          </td><td> 22700       </td></tr>\n",
       "\t<tr><td>nissan       </td><td>pathfinder   </td><td>409700       </td></tr>\n",
       "\t<tr><td>nissan       </td><td>rogue        </td><td>815100       </td></tr>\n",
       "\t<tr><td>nissan       </td><td>sedan        </td><td> 31300       </td></tr>\n",
       "\t<tr><td>nissan       </td><td>sentra       </td><td>268050       </td></tr>\n",
       "\t<tr><td>nissan       </td><td>sport        </td><td>461650       </td></tr>\n",
       "\t<tr><td>nissan       </td><td>titan        </td><td>120600       </td></tr>\n",
       "\t<tr><td>nissan       </td><td>versa        </td><td>286900       </td></tr>\n",
       "\t<tr><td>nissan       </td><td>xd           </td><td> 36300       </td></tr>\n",
       "\t<tr><td>nissan       </td><td>xterra       </td><td>  6700       </td></tr>\n",
       "\t<tr><td>peterbilt    </td><td>truck        </td><td>  1600       </td></tr>\n",
       "\t<tr><td>ram          </td><td>door         </td><td> 11050       </td></tr>\n",
       "\t<tr><td>toyota       </td><td>cruiser      </td><td>  6300       </td></tr>\n",
       "</tbody>\n",
       "</table>\n"
      ],
      "text/latex": [
       "\\begin{tabular}{r|lll}\n",
       " brand & model & sum(price, na.rm = TRUE)\\\\\n",
       "\\hline\n",
       "\t acura     & door      &    4900  \\\\\n",
       "\t acura     & mdx       &   16900  \\\\\n",
       "\t audi      & 5         &   36400  \\\\\n",
       "\t audi      & door      &      25  \\\\\n",
       "\t audi      & q5        &   19500  \\\\\n",
       "\t bmw       & coupe     &    1825  \\\\\n",
       "\t bmw       & door      &   48625  \\\\\n",
       "\t bmw       & m         &   53500  \\\\\n",
       "\t bmw       & series    &  295700  \\\\\n",
       "\t bmw       & x3        &   49100  \\\\\n",
       "\t buick     & door      &  148605  \\\\\n",
       "\t buick     & enclave   &   64500  \\\\\n",
       "\t buick     & encore    &   43200  \\\\\n",
       "\t cadillac  & coupe     &       0  \\\\\n",
       "\t cadillac  & door      &  160208  \\\\\n",
       "\t cadillac  & esv       &   33300  \\\\\n",
       "\t cadillac  & srx       &   18402  \\\\\n",
       "\t cadillac  & xt5       &   37500  \\\\\n",
       "\t chevrolet & 1500      & 1014840  \\\\\n",
       "\t chevrolet & 2500      &  252902  \\\\\n",
       "\t chevrolet & 3500      &  153300  \\\\\n",
       "\t chevrolet & cab       &   10440  \\\\\n",
       "\t chevrolet & camaro    &  155500  \\\\\n",
       "\t chevrolet & colorado  &  235714  \\\\\n",
       "\t chevrolet & corvette  &  208100  \\\\\n",
       "\t chevrolet & coupe     &    6920  \\\\\n",
       "\t chevrolet & cruze     &   12000  \\\\\n",
       "\t chevrolet & cutaway   &   32200  \\\\\n",
       "\t chevrolet & door      & 1219107  \\\\\n",
       "\t chevrolet & equinox   &  277900  \\\\\n",
       "\t ... & ... & ...\\\\\n",
       "\t mercedes-benz & glc           &  24900       \\\\\n",
       "\t mercedes-benz & gle           &  68000       \\\\\n",
       "\t mercedes-benz & sl-class      &  84900       \\\\\n",
       "\t mercedes-benz & vans          &  33200       \\\\\n",
       "\t nissan        & altima        & 292400       \\\\\n",
       "\t nissan        & armada        & 103300       \\\\\n",
       "\t nissan        & cab           &   8350       \\\\\n",
       "\t nissan        & cargo         &  19000       \\\\\n",
       "\t nissan        & door          & 310130       \\\\\n",
       "\t nissan        & doors         & 122021       \\\\\n",
       "\t nissan        & frontier      & 253500       \\\\\n",
       "\t nissan        & juke          &   8400       \\\\\n",
       "\t nissan        & kicks         &  15300       \\\\\n",
       "\t nissan        & maxima        &  47700       \\\\\n",
       "\t nissan        & mpv           &   9510       \\\\\n",
       "\t nissan        & murano        & 103825       \\\\\n",
       "\t nissan        & note          &  12100       \\\\\n",
       "\t nissan        & nvp           &  22700       \\\\\n",
       "\t nissan        & pathfinder    & 409700       \\\\\n",
       "\t nissan        & rogue         & 815100       \\\\\n",
       "\t nissan        & sedan         &  31300       \\\\\n",
       "\t nissan        & sentra        & 268050       \\\\\n",
       "\t nissan        & sport         & 461650       \\\\\n",
       "\t nissan        & titan         & 120600       \\\\\n",
       "\t nissan        & versa         & 286900       \\\\\n",
       "\t nissan        & xd            &  36300       \\\\\n",
       "\t nissan        & xterra        &   6700       \\\\\n",
       "\t peterbilt     & truck         &   1600       \\\\\n",
       "\t ram           & door          &  11050       \\\\\n",
       "\t toyota        & cruiser       &   6300       \\\\\n",
       "\\end{tabular}\n"
      ],
      "text/markdown": [
       "\n",
       "| brand | model | sum(price, na.rm = TRUE) |\n",
       "|---|---|---|\n",
       "| acura     | door      |    4900   |\n",
       "| acura     | mdx       |   16900   |\n",
       "| audi      | 5         |   36400   |\n",
       "| audi      | door      |      25   |\n",
       "| audi      | q5        |   19500   |\n",
       "| bmw       | coupe     |    1825   |\n",
       "| bmw       | door      |   48625   |\n",
       "| bmw       | m         |   53500   |\n",
       "| bmw       | series    |  295700   |\n",
       "| bmw       | x3        |   49100   |\n",
       "| buick     | door      |  148605   |\n",
       "| buick     | enclave   |   64500   |\n",
       "| buick     | encore    |   43200   |\n",
       "| cadillac  | coupe     |       0   |\n",
       "| cadillac  | door      |  160208   |\n",
       "| cadillac  | esv       |   33300   |\n",
       "| cadillac  | srx       |   18402   |\n",
       "| cadillac  | xt5       |   37500   |\n",
       "| chevrolet | 1500      | 1014840   |\n",
       "| chevrolet | 2500      |  252902   |\n",
       "| chevrolet | 3500      |  153300   |\n",
       "| chevrolet | cab       |   10440   |\n",
       "| chevrolet | camaro    |  155500   |\n",
       "| chevrolet | colorado  |  235714   |\n",
       "| chevrolet | corvette  |  208100   |\n",
       "| chevrolet | coupe     |    6920   |\n",
       "| chevrolet | cruze     |   12000   |\n",
       "| chevrolet | cutaway   |   32200   |\n",
       "| chevrolet | door      | 1219107   |\n",
       "| chevrolet | equinox   |  277900   |\n",
       "| ... | ... | ... |\n",
       "| mercedes-benz | glc           |  24900        |\n",
       "| mercedes-benz | gle           |  68000        |\n",
       "| mercedes-benz | sl-class      |  84900        |\n",
       "| mercedes-benz | vans          |  33200        |\n",
       "| nissan        | altima        | 292400        |\n",
       "| nissan        | armada        | 103300        |\n",
       "| nissan        | cab           |   8350        |\n",
       "| nissan        | cargo         |  19000        |\n",
       "| nissan        | door          | 310130        |\n",
       "| nissan        | doors         | 122021        |\n",
       "| nissan        | frontier      | 253500        |\n",
       "| nissan        | juke          |   8400        |\n",
       "| nissan        | kicks         |  15300        |\n",
       "| nissan        | maxima        |  47700        |\n",
       "| nissan        | mpv           |   9510        |\n",
       "| nissan        | murano        | 103825        |\n",
       "| nissan        | note          |  12100        |\n",
       "| nissan        | nvp           |  22700        |\n",
       "| nissan        | pathfinder    | 409700        |\n",
       "| nissan        | rogue         | 815100        |\n",
       "| nissan        | sedan         |  31300        |\n",
       "| nissan        | sentra        | 268050        |\n",
       "| nissan        | sport         | 461650        |\n",
       "| nissan        | titan         | 120600        |\n",
       "| nissan        | versa         | 286900        |\n",
       "| nissan        | xd            |  36300        |\n",
       "| nissan        | xterra        |   6700        |\n",
       "| peterbilt     | truck         |   1600        |\n",
       "| ram           | door          |  11050        |\n",
       "| toyota        | cruiser       |   6300        |\n",
       "\n"
      ],
      "text/plain": [
       "    brand         model      sum(price, na.rm = TRUE)\n",
       "1   acura         door          4900                 \n",
       "2   acura         mdx          16900                 \n",
       "3   audi          5            36400                 \n",
       "4   audi          door            25                 \n",
       "5   audi          q5           19500                 \n",
       "6   bmw           coupe         1825                 \n",
       "7   bmw           door         48625                 \n",
       "8   bmw           m            53500                 \n",
       "9   bmw           series      295700                 \n",
       "10  bmw           x3           49100                 \n",
       "11  buick         door        148605                 \n",
       "12  buick         enclave      64500                 \n",
       "13  buick         encore       43200                 \n",
       "14  cadillac      coupe            0                 \n",
       "15  cadillac      door        160208                 \n",
       "16  cadillac      esv          33300                 \n",
       "17  cadillac      srx          18402                 \n",
       "18  cadillac      xt5          37500                 \n",
       "19  chevrolet     1500       1014840                 \n",
       "20  chevrolet     2500        252902                 \n",
       "21  chevrolet     3500        153300                 \n",
       "22  chevrolet     cab          10440                 \n",
       "23  chevrolet     camaro      155500                 \n",
       "24  chevrolet     colorado    235714                 \n",
       "25  chevrolet     corvette    208100                 \n",
       "26  chevrolet     coupe         6920                 \n",
       "27  chevrolet     cruze        12000                 \n",
       "28  chevrolet     cutaway      32200                 \n",
       "29  chevrolet     door       1219107                 \n",
       "30  chevrolet     equinox     277900                 \n",
       "... ...           ...        ...                     \n",
       "151 mercedes-benz glc         24900                  \n",
       "152 mercedes-benz gle         68000                  \n",
       "153 mercedes-benz sl-class    84900                  \n",
       "154 mercedes-benz vans        33200                  \n",
       "155 nissan        altima     292400                  \n",
       "156 nissan        armada     103300                  \n",
       "157 nissan        cab          8350                  \n",
       "158 nissan        cargo       19000                  \n",
       "159 nissan        door       310130                  \n",
       "160 nissan        doors      122021                  \n",
       "161 nissan        frontier   253500                  \n",
       "162 nissan        juke         8400                  \n",
       "163 nissan        kicks       15300                  \n",
       "164 nissan        maxima      47700                  \n",
       "165 nissan        mpv          9510                  \n",
       "166 nissan        murano     103825                  \n",
       "167 nissan        note        12100                  \n",
       "168 nissan        nvp         22700                  \n",
       "169 nissan        pathfinder 409700                  \n",
       "170 nissan        rogue      815100                  \n",
       "171 nissan        sedan       31300                  \n",
       "172 nissan        sentra     268050                  \n",
       "173 nissan        sport      461650                  \n",
       "174 nissan        titan      120600                  \n",
       "175 nissan        versa      286900                  \n",
       "176 nissan        xd          36300                  \n",
       "177 nissan        xterra       6700                  \n",
       "178 peterbilt     truck        1600                  \n",
       "179 ram           door        11050                  \n",
       "180 toyota        cruiser      6300                  "
      ]
     },
     "metadata": {},
     "output_type": "display_data"
    }
   ],
   "source": [
    "brand_groups <- group_by(cars, brand, model)\n",
    "summarise(brand_groups, mean(price, na.rm = TRUE))\n",
    "summarise(brand_groups, sum(price, na.rm = TRUE))"
   ]
  },
  {
   "cell_type": "code",
   "execution_count": null,
   "id": "bfe5aa3d",
   "metadata": {},
   "outputs": [],
   "source": []
  }
 ],
 "metadata": {
  "kernelspec": {
   "display_name": "R",
   "language": "R",
   "name": "ir"
  },
  "language_info": {
   "codemirror_mode": "r",
   "file_extension": ".r",
   "mimetype": "text/x-r-source",
   "name": "R",
   "pygments_lexer": "r",
   "version": "3.6.1"
  }
 },
 "nbformat": 4,
 "nbformat_minor": 5
}
