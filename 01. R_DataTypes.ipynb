{
 "cells": [
  {
   "cell_type": "markdown",
   "id": "01241175",
   "metadata": {
    "slideshow": {
     "slide_type": "slide"
    }
   },
   "source": [
    "# 1. Numeric .. Logical .. Character"
   ]
  },
  {
   "cell_type": "markdown",
   "id": "45d58b1d",
   "metadata": {
    "slideshow": {
     "slide_type": "fragment"
    }
   },
   "source": [
    "- Both Character and String are considered as Character class in R <br />\n",
    "- Both integer and float both are considered as numeric class in R"
   ]
  },
  {
   "cell_type": "code",
   "execution_count": 37,
   "id": "71d5f6c8",
   "metadata": {
    "slideshow": {
     "slide_type": "fragment"
    },
    "vscode": {
     "languageId": "r"
    }
   },
   "outputs": [
    {
     "data": {
      "text/html": [
       "'numeric'"
      ],
      "text/latex": [
       "'numeric'"
      ],
      "text/markdown": [
       "'numeric'"
      ],
      "text/plain": [
       "[1] \"numeric\""
      ]
     },
     "metadata": {},
     "output_type": "display_data"
    }
   ],
   "source": [
    "i = 12\n",
    "class(i)"
   ]
  },
  {
   "cell_type": "code",
   "execution_count": 38,
   "id": "0baf1140",
   "metadata": {
    "slideshow": {
     "slide_type": "fragment"
    },
    "vscode": {
     "languageId": "r"
    }
   },
   "outputs": [
    {
     "data": {
      "text/html": [
       "'numeric'"
      ],
      "text/latex": [
       "'numeric'"
      ],
      "text/markdown": [
       "'numeric'"
      ],
      "text/plain": [
       "[1] \"numeric\""
      ]
     },
     "metadata": {},
     "output_type": "display_data"
    }
   ],
   "source": [
    "f = 3.1427\n",
    "class(f)"
   ]
  },
  {
   "cell_type": "code",
   "execution_count": 39,
   "id": "38149b71",
   "metadata": {
    "slideshow": {
     "slide_type": "fragment"
    },
    "vscode": {
     "languageId": "r"
    }
   },
   "outputs": [
    {
     "data": {
      "text/html": [
       "'character'"
      ],
      "text/latex": [
       "'character'"
      ],
      "text/markdown": [
       "'character'"
      ],
      "text/plain": [
       "[1] \"character\""
      ]
     },
     "metadata": {},
     "output_type": "display_data"
    }
   ],
   "source": [
    "z = 'a'\n",
    "class(z)"
   ]
  },
  {
   "cell_type": "code",
   "execution_count": 40,
   "id": "0cdeca6c",
   "metadata": {
    "scrolled": true,
    "slideshow": {
     "slide_type": "fragment"
    },
    "vscode": {
     "languageId": "r"
    }
   },
   "outputs": [
    {
     "data": {
      "text/html": [
       "'character'"
      ],
      "text/latex": [
       "'character'"
      ],
      "text/markdown": [
       "'character'"
      ],
      "text/plain": [
       "[1] \"character\""
      ]
     },
     "metadata": {},
     "output_type": "display_data"
    }
   ],
   "source": [
    "z = 'aslam'\n",
    "class(z)"
   ]
  },
  {
   "cell_type": "code",
   "execution_count": 41,
   "id": "589a2d28",
   "metadata": {
    "scrolled": true,
    "slideshow": {
     "slide_type": "fragment"
    },
    "vscode": {
     "languageId": "r"
    }
   },
   "outputs": [
    {
     "data": {
      "text/html": [
       "'logical'"
      ],
      "text/latex": [
       "'logical'"
      ],
      "text/markdown": [
       "'logical'"
      ],
      "text/plain": [
       "[1] \"logical\""
      ]
     },
     "metadata": {},
     "output_type": "display_data"
    }
   ],
   "source": [
    "b= TRUE\n",
    "class(b)"
   ]
  },
  {
   "cell_type": "markdown",
   "id": "93e060d8",
   "metadata": {
    "slideshow": {
     "slide_type": "slide"
    }
   },
   "source": [
    "# 2. Vectors"
   ]
  },
  {
   "cell_type": "markdown",
   "id": "b3d4d588",
   "metadata": {
    "slideshow": {
     "slide_type": "fragment"
    }
   },
   "source": [
    "- Vector can contain any kind of element but its class type will be determined by below and all elements will be converted to that data type. <br /> <br />\n",
    " **Hierarchy of Mixed Vectors**\n",
    "1. Character\n",
    "2. Numeric/Integer\n",
    "3. Logical"
   ]
  },
  {
   "cell_type": "code",
   "execution_count": 42,
   "id": "c84455ab",
   "metadata": {
    "vscode": {
     "languageId": "r"
    }
   },
   "outputs": [
    {
     "name": "stdout",
     "output_type": "stream",
     "text": [
      "[1] 1.56 1.00 3.00\n"
     ]
    },
    {
     "data": {
      "text/html": [
       "'numeric'"
      ],
      "text/latex": [
       "'numeric'"
      ],
      "text/markdown": [
       "'numeric'"
      ],
      "text/plain": [
       "[1] \"numeric\""
      ]
     },
     "metadata": {},
     "output_type": "display_data"
    }
   ],
   "source": [
    "mv1 = c(1.56, 1, 3)\n",
    "print(mv1)\n",
    "class(mv1)"
   ]
  },
  {
   "cell_type": "code",
   "execution_count": 43,
   "id": "58d08e7f",
   "metadata": {
    "vscode": {
     "languageId": "r"
    }
   },
   "outputs": [
    {
     "name": "stdout",
     "output_type": "stream",
     "text": [
      "[1] 1.56 1.00 3.00 1.00\n"
     ]
    },
    {
     "data": {
      "text/html": [
       "'numeric'"
      ],
      "text/latex": [
       "'numeric'"
      ],
      "text/markdown": [
       "'numeric'"
      ],
      "text/plain": [
       "[1] \"numeric\""
      ]
     },
     "metadata": {},
     "output_type": "display_data"
    }
   ],
   "source": [
    "mv2 = c(1.56, 1, 3, TRUE)\n",
    "print(mv2)\n",
    "class(mv2)"
   ]
  },
  {
   "cell_type": "code",
   "execution_count": 44,
   "id": "943fb1c4",
   "metadata": {
    "scrolled": true,
    "vscode": {
     "languageId": "r"
    }
   },
   "outputs": [
    {
     "name": "stdout",
     "output_type": "stream",
     "text": [
      "[1] \"1.56\" \"1\"    \"3\"    \"Test\"\n"
     ]
    },
    {
     "data": {
      "text/html": [
       "'character'"
      ],
      "text/latex": [
       "'character'"
      ],
      "text/markdown": [
       "'character'"
      ],
      "text/plain": [
       "[1] \"character\""
      ]
     },
     "metadata": {},
     "output_type": "display_data"
    }
   ],
   "source": [
    "mv3 = c(1.56, 1, 3, \"Test\")\n",
    "print(mv3)\n",
    "class(mv3)"
   ]
  },
  {
   "cell_type": "markdown",
   "id": "fefaa9a8",
   "metadata": {},
   "source": [
    "### 2.1 Structure of Vector"
   ]
  },
  {
   "cell_type": "code",
   "execution_count": 45,
   "id": "ba90014b",
   "metadata": {
    "vscode": {
     "languageId": "r"
    }
   },
   "outputs": [
    {
     "name": "stdout",
     "output_type": "stream",
     "text": [
      " chr [1:4] \"1.56\" \"1\" \"3\" \"Test\"\n"
     ]
    }
   ],
   "source": [
    "str(mv3)"
   ]
  },
  {
   "cell_type": "markdown",
   "id": "323f88ff",
   "metadata": {},
   "source": [
    "### 2.2 Length of Vector"
   ]
  },
  {
   "cell_type": "code",
   "execution_count": 46,
   "id": "0bbd0f4b",
   "metadata": {
    "vscode": {
     "languageId": "r"
    }
   },
   "outputs": [
    {
     "data": {
      "text/html": [
       "4"
      ],
      "text/latex": [
       "4"
      ],
      "text/markdown": [
       "4"
      ],
      "text/plain": [
       "[1] 4"
      ]
     },
     "metadata": {},
     "output_type": "display_data"
    }
   ],
   "source": [
    "length(mv3)"
   ]
  },
  {
   "cell_type": "markdown",
   "id": "ec722e61",
   "metadata": {},
   "source": [
    "### 2.3 Indexing Elements of Vector"
   ]
  },
  {
   "cell_type": "code",
   "execution_count": 47,
   "id": "7cb45f48",
   "metadata": {
    "vscode": {
     "languageId": "r"
    }
   },
   "outputs": [
    {
     "data": {
      "text/html": [
       "18"
      ],
      "text/latex": [
       "18"
      ],
      "text/markdown": [
       "18"
      ],
      "text/plain": [
       "[1] 18"
      ]
     },
     "metadata": {},
     "output_type": "display_data"
    }
   ],
   "source": [
    "vc1 = c(10,20,30,40,50,60,70,80,90,11,22,33,44,55,66,77,88,99)\n",
    "length(vc1)"
   ]
  },
  {
   "cell_type": "code",
   "execution_count": 48,
   "id": "7a396b92",
   "metadata": {
    "vscode": {
     "languageId": "r"
    }
   },
   "outputs": [
    {
     "data": {
      "text/html": [
       "10"
      ],
      "text/latex": [
       "10"
      ],
      "text/markdown": [
       "10"
      ],
      "text/plain": [
       "[1] 10"
      ]
     },
     "metadata": {},
     "output_type": "display_data"
    }
   ],
   "source": [
    "vc1[1]"
   ]
  },
  {
   "cell_type": "code",
   "execution_count": 49,
   "id": "de51c47e",
   "metadata": {
    "vscode": {
     "languageId": "r"
    }
   },
   "outputs": [
    {
     "data": {
      "text/html": [
       "<ol class=list-inline>\n",
       "\t<li>30</li>\n",
       "\t<li>40</li>\n",
       "\t<li>50</li>\n",
       "\t<li>60</li>\n",
       "\t<li>70</li>\n",
       "\t<li>80</li>\n",
       "</ol>\n"
      ],
      "text/latex": [
       "\\begin{enumerate*}\n",
       "\\item 30\n",
       "\\item 40\n",
       "\\item 50\n",
       "\\item 60\n",
       "\\item 70\n",
       "\\item 80\n",
       "\\end{enumerate*}\n"
      ],
      "text/markdown": [
       "1. 30\n",
       "2. 40\n",
       "3. 50\n",
       "4. 60\n",
       "5. 70\n",
       "6. 80\n",
       "\n",
       "\n"
      ],
      "text/plain": [
       "[1] 30 40 50 60 70 80"
      ]
     },
     "metadata": {},
     "output_type": "display_data"
    }
   ],
   "source": [
    "vc1[3:8]"
   ]
  },
  {
   "cell_type": "code",
   "execution_count": 50,
   "id": "225e5c70",
   "metadata": {
    "vscode": {
     "languageId": "r"
    }
   },
   "outputs": [
    {
     "data": {
      "text/html": [
       "<ol class=list-inline>\n",
       "\t<li>10</li>\n",
       "\t<li>60</li>\n",
       "\t<li>90</li>\n",
       "\t<li>55</li>\n",
       "</ol>\n"
      ],
      "text/latex": [
       "\\begin{enumerate*}\n",
       "\\item 10\n",
       "\\item 60\n",
       "\\item 90\n",
       "\\item 55\n",
       "\\end{enumerate*}\n"
      ],
      "text/markdown": [
       "1. 10\n",
       "2. 60\n",
       "3. 90\n",
       "4. 55\n",
       "\n",
       "\n"
      ],
      "text/plain": [
       "[1] 10 60 90 55"
      ]
     },
     "metadata": {},
     "output_type": "display_data"
    }
   ],
   "source": [
    "vc1[c(1,6,9,14)]"
   ]
  },
  {
   "cell_type": "markdown",
   "id": "1aad36b2",
   "metadata": {},
   "source": [
    "### 2.4 Drop Elements from Vector"
   ]
  },
  {
   "cell_type": "code",
   "execution_count": 51,
   "id": "05d0e954",
   "metadata": {
    "vscode": {
     "languageId": "r"
    }
   },
   "outputs": [
    {
     "data": {
      "text/html": [
       "<ol class=list-inline>\n",
       "\t<li>10</li>\n",
       "\t<li>20</li>\n",
       "\t<li>40</li>\n",
       "\t<li>50</li>\n",
       "\t<li>60</li>\n",
       "\t<li>70</li>\n",
       "\t<li>80</li>\n",
       "\t<li>90</li>\n",
       "\t<li>11</li>\n",
       "\t<li>22</li>\n",
       "\t<li>33</li>\n",
       "\t<li>44</li>\n",
       "\t<li>55</li>\n",
       "\t<li>66</li>\n",
       "\t<li>77</li>\n",
       "\t<li>88</li>\n",
       "\t<li>99</li>\n",
       "</ol>\n"
      ],
      "text/latex": [
       "\\begin{enumerate*}\n",
       "\\item 10\n",
       "\\item 20\n",
       "\\item 40\n",
       "\\item 50\n",
       "\\item 60\n",
       "\\item 70\n",
       "\\item 80\n",
       "\\item 90\n",
       "\\item 11\n",
       "\\item 22\n",
       "\\item 33\n",
       "\\item 44\n",
       "\\item 55\n",
       "\\item 66\n",
       "\\item 77\n",
       "\\item 88\n",
       "\\item 99\n",
       "\\end{enumerate*}\n"
      ],
      "text/markdown": [
       "1. 10\n",
       "2. 20\n",
       "3. 40\n",
       "4. 50\n",
       "5. 60\n",
       "6. 70\n",
       "7. 80\n",
       "8. 90\n",
       "9. 11\n",
       "10. 22\n",
       "11. 33\n",
       "12. 44\n",
       "13. 55\n",
       "14. 66\n",
       "15. 77\n",
       "16. 88\n",
       "17. 99\n",
       "\n",
       "\n"
      ],
      "text/plain": [
       " [1] 10 20 40 50 60 70 80 90 11 22 33 44 55 66 77 88 99"
      ]
     },
     "metadata": {},
     "output_type": "display_data"
    }
   ],
   "source": [
    "# Drop element at 3 (Does not change the Original Vector)\n",
    "vc1[-3]"
   ]
  },
  {
   "cell_type": "code",
   "execution_count": 52,
   "id": "0c79cd45",
   "metadata": {
    "vscode": {
     "languageId": "r"
    }
   },
   "outputs": [
    {
     "data": {
      "text/html": [
       "<ol class=list-inline>\n",
       "\t<li>10</li>\n",
       "\t<li>20</li>\n",
       "\t<li>80</li>\n",
       "\t<li>90</li>\n",
       "\t<li>11</li>\n",
       "\t<li>22</li>\n",
       "\t<li>33</li>\n",
       "\t<li>44</li>\n",
       "\t<li>55</li>\n",
       "\t<li>66</li>\n",
       "\t<li>77</li>\n",
       "\t<li>88</li>\n",
       "\t<li>99</li>\n",
       "</ol>\n"
      ],
      "text/latex": [
       "\\begin{enumerate*}\n",
       "\\item 10\n",
       "\\item 20\n",
       "\\item 80\n",
       "\\item 90\n",
       "\\item 11\n",
       "\\item 22\n",
       "\\item 33\n",
       "\\item 44\n",
       "\\item 55\n",
       "\\item 66\n",
       "\\item 77\n",
       "\\item 88\n",
       "\\item 99\n",
       "\\end{enumerate*}\n"
      ],
      "text/markdown": [
       "1. 10\n",
       "2. 20\n",
       "3. 80\n",
       "4. 90\n",
       "5. 11\n",
       "6. 22\n",
       "7. 33\n",
       "8. 44\n",
       "9. 55\n",
       "10. 66\n",
       "11. 77\n",
       "12. 88\n",
       "13. 99\n",
       "\n",
       "\n"
      ],
      "text/plain": [
       " [1] 10 20 80 90 11 22 33 44 55 66 77 88 99"
      ]
     },
     "metadata": {},
     "output_type": "display_data"
    }
   ],
   "source": [
    "# drop elements at 3 to 7 (Does not change the Original Vector)\n",
    "\n",
    "vc1[-(3:7)]  #or vc1[-3:-7] "
   ]
  },
  {
   "cell_type": "markdown",
   "id": "eb09d65c",
   "metadata": {},
   "source": [
    "### 2.5 Get Last element of Vector"
   ]
  },
  {
   "cell_type": "code",
   "execution_count": 53,
   "id": "f3865896",
   "metadata": {
    "vscode": {
     "languageId": "r"
    }
   },
   "outputs": [
    {
     "data": {
      "text/html": [
       "99"
      ],
      "text/latex": [
       "99"
      ],
      "text/markdown": [
       "99"
      ],
      "text/plain": [
       "[1] 99"
      ]
     },
     "metadata": {},
     "output_type": "display_data"
    }
   ],
   "source": [
    "vc1[length(vc1)]"
   ]
  },
  {
   "cell_type": "code",
   "execution_count": 54,
   "id": "e78ce43b",
   "metadata": {
    "vscode": {
     "languageId": "r"
    }
   },
   "outputs": [
    {
     "data": {
      "text/html": [
       "99"
      ],
      "text/latex": [
       "99"
      ],
      "text/markdown": [
       "99"
      ],
      "text/plain": [
       "[1] 99"
      ]
     },
     "metadata": {},
     "output_type": "display_data"
    }
   ],
   "source": [
    "# Get Last element of Vector by Tail method\n",
    "tail(vc1, 1)"
   ]
  },
  {
   "cell_type": "code",
   "execution_count": 55,
   "id": "4ce4bfa2",
   "metadata": {
    "vscode": {
     "languageId": "r"
    }
   },
   "outputs": [
    {
     "data": {
      "text/html": [
       "<ol class=list-inline>\n",
       "\t<li>77</li>\n",
       "\t<li>88</li>\n",
       "\t<li>99</li>\n",
       "</ol>\n"
      ],
      "text/latex": [
       "\\begin{enumerate*}\n",
       "\\item 77\n",
       "\\item 88\n",
       "\\item 99\n",
       "\\end{enumerate*}\n"
      ],
      "text/markdown": [
       "1. 77\n",
       "2. 88\n",
       "3. 99\n",
       "\n",
       "\n"
      ],
      "text/plain": [
       "[1] 77 88 99"
      ]
     },
     "metadata": {},
     "output_type": "display_data"
    }
   ],
   "source": [
    "# Get last 3 Elements\n",
    "vc1[ (length(vc1)-2) : length(vc1)]"
   ]
  },
  {
   "cell_type": "code",
   "execution_count": 56,
   "id": "863e612e",
   "metadata": {
    "vscode": {
     "languageId": "r"
    }
   },
   "outputs": [
    {
     "data": {
      "text/html": [
       "<ol class=list-inline>\n",
       "\t<li>77</li>\n",
       "\t<li>88</li>\n",
       "\t<li>99</li>\n",
       "</ol>\n"
      ],
      "text/latex": [
       "\\begin{enumerate*}\n",
       "\\item 77\n",
       "\\item 88\n",
       "\\item 99\n",
       "\\end{enumerate*}\n"
      ],
      "text/markdown": [
       "1. 77\n",
       "2. 88\n",
       "3. 99\n",
       "\n",
       "\n"
      ],
      "text/plain": [
       "[1] 77 88 99"
      ]
     },
     "metadata": {},
     "output_type": "display_data"
    }
   ],
   "source": [
    "# Get last 3 Elements by reverse method\n",
    "rev(rev(vc1)[1:3])"
   ]
  },
  {
   "cell_type": "markdown",
   "id": "8285fb9b",
   "metadata": {},
   "source": [
    "### 2.6 Addition to Vectors"
   ]
  },
  {
   "cell_type": "code",
   "execution_count": 57,
   "id": "bbd485e0",
   "metadata": {
    "vscode": {
     "languageId": "r"
    }
   },
   "outputs": [
    {
     "data": {
      "text/html": [
       "<ol class=list-inline>\n",
       "\t<li>15</li>\n",
       "\t<li>25</li>\n",
       "\t<li>35</li>\n",
       "\t<li>45</li>\n",
       "\t<li>55</li>\n",
       "\t<li>65</li>\n",
       "\t<li>75</li>\n",
       "\t<li>85</li>\n",
       "\t<li>95</li>\n",
       "\t<li>16</li>\n",
       "\t<li>27</li>\n",
       "\t<li>38</li>\n",
       "\t<li>49</li>\n",
       "\t<li>60</li>\n",
       "\t<li>71</li>\n",
       "\t<li>82</li>\n",
       "\t<li>93</li>\n",
       "\t<li>104</li>\n",
       "</ol>\n"
      ],
      "text/latex": [
       "\\begin{enumerate*}\n",
       "\\item 15\n",
       "\\item 25\n",
       "\\item 35\n",
       "\\item 45\n",
       "\\item 55\n",
       "\\item 65\n",
       "\\item 75\n",
       "\\item 85\n",
       "\\item 95\n",
       "\\item 16\n",
       "\\item 27\n",
       "\\item 38\n",
       "\\item 49\n",
       "\\item 60\n",
       "\\item 71\n",
       "\\item 82\n",
       "\\item 93\n",
       "\\item 104\n",
       "\\end{enumerate*}\n"
      ],
      "text/markdown": [
       "1. 15\n",
       "2. 25\n",
       "3. 35\n",
       "4. 45\n",
       "5. 55\n",
       "6. 65\n",
       "7. 75\n",
       "8. 85\n",
       "9. 95\n",
       "10. 16\n",
       "11. 27\n",
       "12. 38\n",
       "13. 49\n",
       "14. 60\n",
       "15. 71\n",
       "16. 82\n",
       "17. 93\n",
       "18. 104\n",
       "\n",
       "\n"
      ],
      "text/plain": [
       " [1]  15  25  35  45  55  65  75  85  95  16  27  38  49  60  71  82  93 104"
      ]
     },
     "metadata": {},
     "output_type": "display_data"
    },
    {
     "data": {
      "text/html": [
       "'numeric'"
      ],
      "text/latex": [
       "'numeric'"
      ],
      "text/markdown": [
       "'numeric'"
      ],
      "text/plain": [
       "[1] \"numeric\""
      ]
     },
     "metadata": {},
     "output_type": "display_data"
    }
   ],
   "source": [
    "## Increment each element by 5\n",
    "\n",
    "vc1 + 5\n",
    "class(vc1 + 5)"
   ]
  },
  {
   "cell_type": "code",
   "execution_count": 58,
   "id": "b599b587",
   "metadata": {
    "vscode": {
     "languageId": "r"
    }
   },
   "outputs": [
    {
     "data": {
      "text/html": [
       "<ol class=list-inline>\n",
       "\t<li>23</li>\n",
       "\t<li>43</li>\n",
       "\t<li>63</li>\n",
       "\t<li>83</li>\n",
       "\t<li>103</li>\n",
       "\t<li>123</li>\n",
       "\t<li>143</li>\n",
       "\t<li>163</li>\n",
       "\t<li>183</li>\n",
       "\t<li>22</li>\n",
       "\t<li>44</li>\n",
       "\t<li>66</li>\n",
       "\t<li>88</li>\n",
       "\t<li>110</li>\n",
       "\t<li>132</li>\n",
       "\t<li>154</li>\n",
       "\t<li>176</li>\n",
       "\t<li>198</li>\n",
       "</ol>\n"
      ],
      "text/latex": [
       "\\begin{enumerate*}\n",
       "\\item 23\n",
       "\\item 43\n",
       "\\item 63\n",
       "\\item 83\n",
       "\\item 103\n",
       "\\item 123\n",
       "\\item 143\n",
       "\\item 163\n",
       "\\item 183\n",
       "\\item 22\n",
       "\\item 44\n",
       "\\item 66\n",
       "\\item 88\n",
       "\\item 110\n",
       "\\item 132\n",
       "\\item 154\n",
       "\\item 176\n",
       "\\item 198\n",
       "\\end{enumerate*}\n"
      ],
      "text/markdown": [
       "1. 23\n",
       "2. 43\n",
       "3. 63\n",
       "4. 83\n",
       "5. 103\n",
       "6. 123\n",
       "7. 143\n",
       "8. 163\n",
       "9. 183\n",
       "10. 22\n",
       "11. 44\n",
       "12. 66\n",
       "13. 88\n",
       "14. 110\n",
       "15. 132\n",
       "16. 154\n",
       "17. 176\n",
       "18. 198\n",
       "\n",
       "\n"
      ],
      "text/plain": [
       " [1]  23  43  63  83 103 123 143 163 183  22  44  66  88 110 132 154 176 198"
      ]
     },
     "metadata": {},
     "output_type": "display_data"
    },
    {
     "name": "stdout",
     "output_type": "stream",
     "text": [
      "[1] \"numeric\"\n"
     ]
    }
   ],
   "source": [
    "## Add elements of two vectors of same length\n",
    "\n",
    "vc1 = c(10,20,30,40,50,60,70,80,90,11,22,33,44,55,66,77,88,99)\n",
    "vc2 <-c(13,23,33,43,53,63,73,83,93,11,22,33,44,55,66,77,88,99)\n",
    "vc1 + vc2\n",
    "print(class(vc1 + vc2))"
   ]
  },
  {
   "cell_type": "code",
   "execution_count": 59,
   "id": "73cec56b",
   "metadata": {
    "vscode": {
     "languageId": "r"
    }
   },
   "outputs": [
    {
     "name": "stderr",
     "output_type": "stream",
     "text": [
      "Warning message in vc1 + vc3:\n",
      "\"longer object length is not a multiple of shorter object length\""
     ]
    },
    {
     "data": {
      "text/html": [
       "<ol class=list-inline>\n",
       "\t<li>23</li>\n",
       "\t<li>43</li>\n",
       "\t<li>63</li>\n",
       "\t<li>83</li>\n",
       "\t<li>103</li>\n",
       "\t<li>123</li>\n",
       "\t<li>143</li>\n",
       "\t<li>163</li>\n",
       "\t<li>183</li>\n",
       "\t<li>22</li>\n",
       "\t<li>44</li>\n",
       "\t<li>66</li>\n",
       "\t<li>57</li>\n",
       "\t<li>78</li>\n",
       "\t<li>99</li>\n",
       "\t<li>120</li>\n",
       "\t<li>141</li>\n",
       "\t<li>162</li>\n",
       "</ol>\n"
      ],
      "text/latex": [
       "\\begin{enumerate*}\n",
       "\\item 23\n",
       "\\item 43\n",
       "\\item 63\n",
       "\\item 83\n",
       "\\item 103\n",
       "\\item 123\n",
       "\\item 143\n",
       "\\item 163\n",
       "\\item 183\n",
       "\\item 22\n",
       "\\item 44\n",
       "\\item 66\n",
       "\\item 57\n",
       "\\item 78\n",
       "\\item 99\n",
       "\\item 120\n",
       "\\item 141\n",
       "\\item 162\n",
       "\\end{enumerate*}\n"
      ],
      "text/markdown": [
       "1. 23\n",
       "2. 43\n",
       "3. 63\n",
       "4. 83\n",
       "5. 103\n",
       "6. 123\n",
       "7. 143\n",
       "8. 163\n",
       "9. 183\n",
       "10. 22\n",
       "11. 44\n",
       "12. 66\n",
       "13. 57\n",
       "14. 78\n",
       "15. 99\n",
       "16. 120\n",
       "17. 141\n",
       "18. 162\n",
       "\n",
       "\n"
      ],
      "text/plain": [
       " [1]  23  43  63  83 103 123 143 163 183  22  44  66  57  78  99 120 141 162"
      ]
     },
     "metadata": {},
     "output_type": "display_data"
    }
   ],
   "source": [
    "## Add elements of two vectors of different length \n",
    "## ---(Warning message) ---\n",
    "## After elements of shorter vector finishes, \n",
    "  # remaining elements of longer vector start getting \n",
    "  # added to start of shorter vector\n",
    "\n",
    "vc3 <- c(13,23,33,43,53,63,73,83,93,11,22,33)\n",
    "vc1 + vc3"
   ]
  },
  {
   "cell_type": "code",
   "execution_count": 60,
   "id": "0f314251",
   "metadata": {
    "vscode": {
     "languageId": "r"
    }
   },
   "outputs": [
    {
     "data": {
      "text/html": [
       "9"
      ],
      "text/latex": [
       "9"
      ],
      "text/markdown": [
       "9"
      ],
      "text/plain": [
       "[1] 9"
      ]
     },
     "metadata": {},
     "output_type": "display_data"
    },
    {
     "data": {
      "text/html": [
       "<ol class=list-inline>\n",
       "\t<li>23</li>\n",
       "\t<li>43</li>\n",
       "\t<li>63</li>\n",
       "\t<li>83</li>\n",
       "\t<li>103</li>\n",
       "\t<li>123</li>\n",
       "\t<li>143</li>\n",
       "\t<li>163</li>\n",
       "\t<li>183</li>\n",
       "\t<li>24</li>\n",
       "\t<li>45</li>\n",
       "\t<li>66</li>\n",
       "\t<li>87</li>\n",
       "\t<li>108</li>\n",
       "\t<li>129</li>\n",
       "\t<li>150</li>\n",
       "\t<li>171</li>\n",
       "\t<li>192</li>\n",
       "</ol>\n"
      ],
      "text/latex": [
       "\\begin{enumerate*}\n",
       "\\item 23\n",
       "\\item 43\n",
       "\\item 63\n",
       "\\item 83\n",
       "\\item 103\n",
       "\\item 123\n",
       "\\item 143\n",
       "\\item 163\n",
       "\\item 183\n",
       "\\item 24\n",
       "\\item 45\n",
       "\\item 66\n",
       "\\item 87\n",
       "\\item 108\n",
       "\\item 129\n",
       "\\item 150\n",
       "\\item 171\n",
       "\\item 192\n",
       "\\end{enumerate*}\n"
      ],
      "text/markdown": [
       "1. 23\n",
       "2. 43\n",
       "3. 63\n",
       "4. 83\n",
       "5. 103\n",
       "6. 123\n",
       "7. 143\n",
       "8. 163\n",
       "9. 183\n",
       "10. 24\n",
       "11. 45\n",
       "12. 66\n",
       "13. 87\n",
       "14. 108\n",
       "15. 129\n",
       "16. 150\n",
       "17. 171\n",
       "18. 192\n",
       "\n",
       "\n"
      ],
      "text/plain": [
       " [1]  23  43  63  83 103 123 143 163 183  24  45  66  87 108 129 150 171 192"
      ]
     },
     "metadata": {},
     "output_type": "display_data"
    }
   ],
   "source": [
    "## Add elements of two vectors of different length \n",
    "  ## but length is multiple of each other \n",
    "## --- (No Warning message) ---\n",
    "\n",
    "vc4 <-c(13,23,33,43,53,63,73,83,93)\n",
    "length(vc4)\n",
    "vc1 + vc4"
   ]
  },
  {
   "cell_type": "markdown",
   "id": "d8b1ab98",
   "metadata": {},
   "source": [
    "### 2.7 Built-in Functions Related to Vectors"
   ]
  },
  {
   "cell_type": "code",
   "execution_count": 61,
   "id": "0551044a",
   "metadata": {
    "vscode": {
     "languageId": "r"
    }
   },
   "outputs": [
    {
     "name": "stdout",
     "output_type": "stream",
     "text": [
      "[1] \"Minimum\"\n"
     ]
    },
    {
     "data": {
      "text/html": [
       "10"
      ],
      "text/latex": [
       "10"
      ],
      "text/markdown": [
       "10"
      ],
      "text/plain": [
       "[1] 10"
      ]
     },
     "metadata": {},
     "output_type": "display_data"
    },
    {
     "name": "stdout",
     "output_type": "stream",
     "text": [
      "[1] \"Maximum\"\n"
     ]
    },
    {
     "data": {
      "text/html": [
       "99"
      ],
      "text/latex": [
       "99"
      ],
      "text/markdown": [
       "99"
      ],
      "text/plain": [
       "[1] 99"
      ]
     },
     "metadata": {},
     "output_type": "display_data"
    },
    {
     "name": "stdout",
     "output_type": "stream",
     "text": [
      "[1] \"Sorted Ascending Order\"\n"
     ]
    },
    {
     "data": {
      "text/html": [
       "<ol class=list-inline>\n",
       "\t<li>10</li>\n",
       "\t<li>11</li>\n",
       "\t<li>20</li>\n",
       "\t<li>22</li>\n",
       "\t<li>30</li>\n",
       "\t<li>33</li>\n",
       "\t<li>40</li>\n",
       "\t<li>44</li>\n",
       "\t<li>50</li>\n",
       "\t<li>55</li>\n",
       "\t<li>60</li>\n",
       "\t<li>66</li>\n",
       "\t<li>70</li>\n",
       "\t<li>77</li>\n",
       "\t<li>80</li>\n",
       "\t<li>88</li>\n",
       "\t<li>90</li>\n",
       "\t<li>99</li>\n",
       "</ol>\n"
      ],
      "text/latex": [
       "\\begin{enumerate*}\n",
       "\\item 10\n",
       "\\item 11\n",
       "\\item 20\n",
       "\\item 22\n",
       "\\item 30\n",
       "\\item 33\n",
       "\\item 40\n",
       "\\item 44\n",
       "\\item 50\n",
       "\\item 55\n",
       "\\item 60\n",
       "\\item 66\n",
       "\\item 70\n",
       "\\item 77\n",
       "\\item 80\n",
       "\\item 88\n",
       "\\item 90\n",
       "\\item 99\n",
       "\\end{enumerate*}\n"
      ],
      "text/markdown": [
       "1. 10\n",
       "2. 11\n",
       "3. 20\n",
       "4. 22\n",
       "5. 30\n",
       "6. 33\n",
       "7. 40\n",
       "8. 44\n",
       "9. 50\n",
       "10. 55\n",
       "11. 60\n",
       "12. 66\n",
       "13. 70\n",
       "14. 77\n",
       "15. 80\n",
       "16. 88\n",
       "17. 90\n",
       "18. 99\n",
       "\n",
       "\n"
      ],
      "text/plain": [
       " [1] 10 11 20 22 30 33 40 44 50 55 60 66 70 77 80 88 90 99"
      ]
     },
     "metadata": {},
     "output_type": "display_data"
    },
    {
     "name": "stdout",
     "output_type": "stream",
     "text": [
      "[1] \"Sorted Descending Order\"\n"
     ]
    },
    {
     "data": {
      "text/html": [
       "<ol class=list-inline>\n",
       "\t<li>99</li>\n",
       "\t<li>90</li>\n",
       "\t<li>88</li>\n",
       "\t<li>80</li>\n",
       "\t<li>77</li>\n",
       "\t<li>70</li>\n",
       "\t<li>66</li>\n",
       "\t<li>60</li>\n",
       "\t<li>55</li>\n",
       "\t<li>50</li>\n",
       "\t<li>44</li>\n",
       "\t<li>40</li>\n",
       "\t<li>33</li>\n",
       "\t<li>30</li>\n",
       "\t<li>22</li>\n",
       "\t<li>20</li>\n",
       "\t<li>11</li>\n",
       "\t<li>10</li>\n",
       "</ol>\n"
      ],
      "text/latex": [
       "\\begin{enumerate*}\n",
       "\\item 99\n",
       "\\item 90\n",
       "\\item 88\n",
       "\\item 80\n",
       "\\item 77\n",
       "\\item 70\n",
       "\\item 66\n",
       "\\item 60\n",
       "\\item 55\n",
       "\\item 50\n",
       "\\item 44\n",
       "\\item 40\n",
       "\\item 33\n",
       "\\item 30\n",
       "\\item 22\n",
       "\\item 20\n",
       "\\item 11\n",
       "\\item 10\n",
       "\\end{enumerate*}\n"
      ],
      "text/markdown": [
       "1. 99\n",
       "2. 90\n",
       "3. 88\n",
       "4. 80\n",
       "5. 77\n",
       "6. 70\n",
       "7. 66\n",
       "8. 60\n",
       "9. 55\n",
       "10. 50\n",
       "11. 44\n",
       "12. 40\n",
       "13. 33\n",
       "14. 30\n",
       "15. 22\n",
       "16. 20\n",
       "17. 11\n",
       "18. 10\n",
       "\n",
       "\n"
      ],
      "text/plain": [
       " [1] 99 90 88 80 77 70 66 60 55 50 44 40 33 30 22 20 11 10"
      ]
     },
     "metadata": {},
     "output_type": "display_data"
    },
    {
     "name": "stdout",
     "output_type": "stream",
     "text": [
      "[1] \"Length\"\n"
     ]
    },
    {
     "data": {
      "text/html": [
       "18"
      ],
      "text/latex": [
       "18"
      ],
      "text/markdown": [
       "18"
      ],
      "text/plain": [
       "[1] 18"
      ]
     },
     "metadata": {},
     "output_type": "display_data"
    },
    {
     "name": "stdout",
     "output_type": "stream",
     "text": [
      "[1] \"Mean\"\n"
     ]
    },
    {
     "data": {
      "text/html": [
       "52.5"
      ],
      "text/latex": [
       "52.5"
      ],
      "text/markdown": [
       "52.5"
      ],
      "text/plain": [
       "[1] 52.5"
      ]
     },
     "metadata": {},
     "output_type": "display_data"
    },
    {
     "name": "stdout",
     "output_type": "stream",
     "text": [
      "[1] \"Median\"\n"
     ]
    },
    {
     "data": {
      "text/html": [
       "52.5"
      ],
      "text/latex": [
       "52.5"
      ],
      "text/markdown": [
       "52.5"
      ],
      "text/plain": [
       "[1] 52.5"
      ]
     },
     "metadata": {},
     "output_type": "display_data"
    },
    {
     "name": "stdout",
     "output_type": "stream",
     "text": [
      "[1] \"Range Function\"\n"
     ]
    },
    {
     "data": {
      "text/html": [
       "<ol class=list-inline>\n",
       "\t<li>10</li>\n",
       "\t<li>99</li>\n",
       "</ol>\n"
      ],
      "text/latex": [
       "\\begin{enumerate*}\n",
       "\\item 10\n",
       "\\item 99\n",
       "\\end{enumerate*}\n"
      ],
      "text/markdown": [
       "1. 10\n",
       "2. 99\n",
       "\n",
       "\n"
      ],
      "text/plain": [
       "[1] 10 99"
      ]
     },
     "metadata": {},
     "output_type": "display_data"
    },
    {
     "name": "stdout",
     "output_type": "stream",
     "text": [
      "[1] \"Summary Function\"\n"
     ]
    },
    {
     "data": {
      "text/plain": [
       "   Min. 1st Qu.  Median    Mean 3rd Qu.    Max. \n",
       "  10.00   30.75   52.50   52.50   75.25   99.00 "
      ]
     },
     "metadata": {},
     "output_type": "display_data"
    },
    {
     "name": "stdout",
     "output_type": "stream",
     "text": [
      "[1] \"Quantiles\"\n"
     ]
    },
    {
     "data": {
      "text/html": [
       "<dl class=dl-horizontal>\n",
       "\t<dt>25%</dt>\n",
       "\t\t<dd>30.75</dd>\n",
       "\t<dt>50%</dt>\n",
       "\t\t<dd>52.5</dd>\n",
       "\t<dt>75%</dt>\n",
       "\t\t<dd>75.25</dd>\n",
       "</dl>\n"
      ],
      "text/latex": [
       "\\begin{description*}\n",
       "\\item[25\\textbackslash{}\\%] 30.75\n",
       "\\item[50\\textbackslash{}\\%] 52.5\n",
       "\\item[75\\textbackslash{}\\%] 75.25\n",
       "\\end{description*}\n"
      ],
      "text/markdown": [
       "25%\n",
       ":   30.7550%\n",
       ":   52.575%\n",
       ":   75.25\n",
       "\n"
      ],
      "text/plain": [
       "  25%   50%   75% \n",
       "30.75 52.50 75.25 "
      ]
     },
     "metadata": {},
     "output_type": "display_data"
    },
    {
     "data": {
      "text/html": [
       "<dl class=dl-horizontal>\n",
       "\t<dt>10%</dt>\n",
       "\t\t<dd>17.3</dd>\n",
       "\t<dt>20%</dt>\n",
       "\t\t<dd>25.2</dd>\n",
       "\t<dt>30%</dt>\n",
       "\t\t<dd>33.7</dd>\n",
       "\t<dt>40%</dt>\n",
       "\t\t<dd>43.2</dd>\n",
       "\t<dt>50%</dt>\n",
       "\t\t<dd>52.5</dd>\n",
       "\t<dt>60%</dt>\n",
       "\t\t<dd>61.2</dd>\n",
       "\t<dt>70%</dt>\n",
       "\t\t<dd>69.6</dd>\n",
       "\t<dt>80%</dt>\n",
       "\t\t<dd>78.8</dd>\n",
       "\t<dt>90%</dt>\n",
       "\t\t<dd>88.6</dd>\n",
       "</dl>\n"
      ],
      "text/latex": [
       "\\begin{description*}\n",
       "\\item[10\\textbackslash{}\\%] 17.3\n",
       "\\item[20\\textbackslash{}\\%] 25.2\n",
       "\\item[30\\textbackslash{}\\%] 33.7\n",
       "\\item[40\\textbackslash{}\\%] 43.2\n",
       "\\item[50\\textbackslash{}\\%] 52.5\n",
       "\\item[60\\textbackslash{}\\%] 61.2\n",
       "\\item[70\\textbackslash{}\\%] 69.6\n",
       "\\item[80\\textbackslash{}\\%] 78.8\n",
       "\\item[90\\textbackslash{}\\%] 88.6\n",
       "\\end{description*}\n"
      ],
      "text/markdown": [
       "10%\n",
       ":   17.320%\n",
       ":   25.230%\n",
       ":   33.740%\n",
       ":   43.250%\n",
       ":   52.560%\n",
       ":   61.270%\n",
       ":   69.680%\n",
       ":   78.890%\n",
       ":   88.6\n",
       "\n"
      ],
      "text/plain": [
       " 10%  20%  30%  40%  50%  60%  70%  80%  90% \n",
       "17.3 25.2 33.7 43.2 52.5 61.2 69.6 78.8 88.6 "
      ]
     },
     "metadata": {},
     "output_type": "display_data"
    },
    {
     "data": {
      "text/html": [
       "<dl class=dl-horizontal>\n",
       "\t<dt>0%</dt>\n",
       "\t\t<dd>10</dd>\n",
       "\t<dt>25%</dt>\n",
       "\t\t<dd>30.75</dd>\n",
       "\t<dt>50%</dt>\n",
       "\t\t<dd>52.5</dd>\n",
       "\t<dt>75%</dt>\n",
       "\t\t<dd>75.25</dd>\n",
       "\t<dt>100%</dt>\n",
       "\t\t<dd>99</dd>\n",
       "</dl>\n"
      ],
      "text/latex": [
       "\\begin{description*}\n",
       "\\item[0\\textbackslash{}\\%] 10\n",
       "\\item[25\\textbackslash{}\\%] 30.75\n",
       "\\item[50\\textbackslash{}\\%] 52.5\n",
       "\\item[75\\textbackslash{}\\%] 75.25\n",
       "\\item[100\\textbackslash{}\\%] 99\n",
       "\\end{description*}\n"
      ],
      "text/markdown": [
       "0%\n",
       ":   1025%\n",
       ":   30.7550%\n",
       ":   52.575%\n",
       ":   75.25100%\n",
       ":   99\n",
       "\n"
      ],
      "text/plain": [
       "   0%   25%   50%   75%  100% \n",
       "10.00 30.75 52.50 75.25 99.00 "
      ]
     },
     "metadata": {},
     "output_type": "display_data"
    }
   ],
   "source": [
    "print('Minimum')\n",
    "min(vc1)   # Return Min of Vector\n",
    "print('Maximum')\n",
    "max(vc1)   # Return Max of Vector\n",
    "print('Sorted Ascending Order')\n",
    "sort(vc1)  # Sort a Vector\n",
    "print('Sorted Descending Order')\n",
    "sort(vc1, decreasing=TRUE)  # Sort a Vector, decending\n",
    "print('Length')\n",
    "length(vc1)   # Length of a Vector\n",
    "print('Mean')\n",
    "mean(vc1)     # Mean value of a Vector\n",
    "print('Median')\n",
    "median(vc1)   # Median value of a Vector\n",
    "# If the count number of elements is even then, \n",
    "# it will calculate the mean of two middle values.\n",
    "# Two middle values are determined out of sorted vectors\n",
    "\n",
    "# Mode is not built in function (custom function is required as below)\n",
    "#mode(vc1)\n",
    "print('Range Function')\n",
    "range(vc1)   # Returns min and Max\n",
    "print('Summary Function')\n",
    "summary(vc1) # Returns Min, max, 1st, median, 3rd quartiles,\n",
    "print('Quantiles')\n",
    "quantile(vc1, probs = c(0.25, 0.5, 0.75))  # 1st, 2nd, 3rd percentile\n",
    "quantile(vc1, probs = c(0.1,0.2, 0.3, 0.4, 0.5, 0.6, 0.7, 0.8, 0.9))  # 10th to 90th percentile\n",
    "quantile(vc1)"
   ]
  },
  {
   "cell_type": "markdown",
   "id": "f0e10425",
   "metadata": {},
   "source": [
    "### 2.8 Custom Functions Related to Vectors"
   ]
  },
  {
   "cell_type": "code",
   "execution_count": 62,
   "id": "d0d1f438",
   "metadata": {
    "vscode": {
     "languageId": "r"
    }
   },
   "outputs": [
    {
     "data": {
      "text/html": [
       "10"
      ],
      "text/latex": [
       "10"
      ],
      "text/markdown": [
       "10"
      ],
      "text/plain": [
       "[1] 10"
      ]
     },
     "metadata": {},
     "output_type": "display_data"
    }
   ],
   "source": [
    "## Mode of a Vector\n",
    "\n",
    "getmode <- function(v) {\n",
    "  uniqv <- unique(v)\n",
    "  uniqv[which.max(tabulate(match(v, uniqv)))]\n",
    "}\n",
    "\n",
    "getmode(vc1)"
   ]
  },
  {
   "cell_type": "code",
   "execution_count": 63,
   "id": "98679d4e",
   "metadata": {
    "vscode": {
     "languageId": "r"
    }
   },
   "outputs": [
    {
     "data": {
      "text/html": [
       "<ol class=list-inline>\n",
       "\t<li>23</li>\n",
       "\t<li>43</li>\n",
       "\t<li>63</li>\n",
       "\t<li>83</li>\n",
       "\t<li>103</li>\n",
       "\t<li>123</li>\n",
       "\t<li>143</li>\n",
       "\t<li>163</li>\n",
       "\t<li>183</li>\n",
       "\t<li>22</li>\n",
       "\t<li>44</li>\n",
       "\t<li>66</li>\n",
       "\t<li>88</li>\n",
       "\t<li>110</li>\n",
       "\t<li>132</li>\n",
       "\t<li>154</li>\n",
       "\t<li>176</li>\n",
       "\t<li>198</li>\n",
       "</ol>\n"
      ],
      "text/latex": [
       "\\begin{enumerate*}\n",
       "\\item 23\n",
       "\\item 43\n",
       "\\item 63\n",
       "\\item 83\n",
       "\\item 103\n",
       "\\item 123\n",
       "\\item 143\n",
       "\\item 163\n",
       "\\item 183\n",
       "\\item 22\n",
       "\\item 44\n",
       "\\item 66\n",
       "\\item 88\n",
       "\\item 110\n",
       "\\item 132\n",
       "\\item 154\n",
       "\\item 176\n",
       "\\item 198\n",
       "\\end{enumerate*}\n"
      ],
      "text/markdown": [
       "1. 23\n",
       "2. 43\n",
       "3. 63\n",
       "4. 83\n",
       "5. 103\n",
       "6. 123\n",
       "7. 143\n",
       "8. 163\n",
       "9. 183\n",
       "10. 22\n",
       "11. 44\n",
       "12. 66\n",
       "13. 88\n",
       "14. 110\n",
       "15. 132\n",
       "16. 154\n",
       "17. 176\n",
       "18. 198\n",
       "\n",
       "\n"
      ],
      "text/plain": [
       " [1]  23  43  63  83 103 123 143 163 183  22  44  66  88 110 132 154 176 198"
      ]
     },
     "metadata": {},
     "output_type": "display_data"
    }
   ],
   "source": [
    "vec_add <- function(v1, v2){\n",
    " return (v1 + v2) \n",
    "}\n",
    "\n",
    "vec_add(vc1 , vc2)"
   ]
  },
  {
   "cell_type": "markdown",
   "id": "0030699b",
   "metadata": {},
   "source": [
    "### 2.9 Missing values in a Vector"
   ]
  },
  {
   "cell_type": "code",
   "execution_count": 64,
   "id": "4bd8c729",
   "metadata": {
    "vscode": {
     "languageId": "r"
    }
   },
   "outputs": [
    {
     "data": {
      "text/html": [
       "7"
      ],
      "text/latex": [
       "7"
      ],
      "text/markdown": [
       "7"
      ],
      "text/plain": [
       "[1] 7"
      ]
     },
     "metadata": {},
     "output_type": "display_data"
    },
    {
     "data": {
      "text/html": [
       "&lt;NA&gt;"
      ],
      "text/latex": [
       "<NA>"
      ],
      "text/markdown": [
       "&lt;NA&gt;"
      ],
      "text/plain": [
       "[1] NA"
      ]
     },
     "metadata": {},
     "output_type": "display_data"
    },
    {
     "data": {
      "text/html": [
       "<ol class=list-inline>\n",
       "\t<li>TRUE</li>\n",
       "\t<li>FALSE</li>\n",
       "\t<li>FALSE</li>\n",
       "\t<li>TRUE</li>\n",
       "\t<li>FALSE</li>\n",
       "\t<li>FALSE</li>\n",
       "\t<li>TRUE</li>\n",
       "</ol>\n"
      ],
      "text/latex": [
       "\\begin{enumerate*}\n",
       "\\item TRUE\n",
       "\\item FALSE\n",
       "\\item FALSE\n",
       "\\item TRUE\n",
       "\\item FALSE\n",
       "\\item FALSE\n",
       "\\item TRUE\n",
       "\\end{enumerate*}\n"
      ],
      "text/markdown": [
       "1. TRUE\n",
       "2. FALSE\n",
       "3. FALSE\n",
       "4. TRUE\n",
       "5. FALSE\n",
       "6. FALSE\n",
       "7. TRUE\n",
       "\n",
       "\n"
      ],
      "text/plain": [
       "[1]  TRUE FALSE FALSE  TRUE FALSE FALSE  TRUE"
      ]
     },
     "metadata": {},
     "output_type": "display_data"
    },
    {
     "data": {
      "text/html": [
       "3"
      ],
      "text/latex": [
       "3"
      ],
      "text/markdown": [
       "3"
      ],
      "text/plain": [
       "[1] 3"
      ]
     },
     "metadata": {},
     "output_type": "display_data"
    }
   ],
   "source": [
    "missing_vec <- c(NA, 11, 22, NA, 90, 78, NA)\n",
    "\n",
    "length(missing_vec)  # NA will be included in length\n",
    "\n",
    "missing_vec[4]\n",
    "\n",
    "is.na(missing_vec)   # Return Booleans of missing Values\n",
    "\n",
    "sum(is.na(missing_vec))  # Return count of Missing Values"
   ]
  },
  {
   "cell_type": "markdown",
   "id": "2ce6dd0a",
   "metadata": {},
   "source": [
    "### 2.10 Reassign a value to an element in Vectors"
   ]
  },
  {
   "cell_type": "code",
   "execution_count": 65,
   "id": "dfb5c85d",
   "metadata": {
    "vscode": {
     "languageId": "r"
    }
   },
   "outputs": [
    {
     "data": {
      "text/html": [
       "<ol class=list-inline>\n",
       "\t<li>'very high'</li>\n",
       "\t<li>'high'</li>\n",
       "\t<li>'low'</li>\n",
       "\t<li>'medium'</li>\n",
       "\t<li>'low'</li>\n",
       "\t<li>'medium'</li>\n",
       "</ol>\n"
      ],
      "text/latex": [
       "\\begin{enumerate*}\n",
       "\\item 'very high'\n",
       "\\item 'high'\n",
       "\\item 'low'\n",
       "\\item 'medium'\n",
       "\\item 'low'\n",
       "\\item 'medium'\n",
       "\\end{enumerate*}\n"
      ],
      "text/markdown": [
       "1. 'very high'\n",
       "2. 'high'\n",
       "3. 'low'\n",
       "4. 'medium'\n",
       "5. 'low'\n",
       "6. 'medium'\n",
       "\n",
       "\n"
      ],
      "text/plain": [
       "[1] \"very high\" \"high\"      \"low\"       \"medium\"    \"low\"       \"medium\"   "
      ]
     },
     "metadata": {},
     "output_type": "display_data"
    }
   ],
   "source": [
    "temp <- c('high','high','low','medium','low', 'medium')\n",
    "temp[1] <- 'very high'\n",
    "temp"
   ]
  },
  {
   "cell_type": "markdown",
   "id": "327fc7f3",
   "metadata": {},
   "source": [
    "### 2.11 Combine/Append multiple Vectors"
   ]
  },
  {
   "cell_type": "code",
   "execution_count": 66,
   "id": "7e5d95ac",
   "metadata": {
    "vscode": {
     "languageId": "r"
    }
   },
   "outputs": [
    {
     "data": {
      "text/html": [
       "<ol class=list-inline>\n",
       "\t<li>1</li>\n",
       "\t<li>2</li>\n",
       "\t<li>3</li>\n",
       "\t<li>4</li>\n",
       "\t<li>5</li>\n",
       "\t<li>6</li>\n",
       "</ol>\n"
      ],
      "text/latex": [
       "\\begin{enumerate*}\n",
       "\\item 1\n",
       "\\item 2\n",
       "\\item 3\n",
       "\\item 4\n",
       "\\item 5\n",
       "\\item 6\n",
       "\\end{enumerate*}\n"
      ],
      "text/markdown": [
       "1. 1\n",
       "2. 2\n",
       "3. 3\n",
       "4. 4\n",
       "5. 5\n",
       "6. 6\n",
       "\n",
       "\n"
      ],
      "text/plain": [
       "[1] 1 2 3 4 5 6"
      ]
     },
     "metadata": {},
     "output_type": "display_data"
    },
    {
     "data": {
      "text/html": [
       "<ol class=list-inline>\n",
       "\t<li>1</li>\n",
       "\t<li>2</li>\n",
       "\t<li>3</li>\n",
       "\t<li>10</li>\n",
       "</ol>\n"
      ],
      "text/latex": [
       "\\begin{enumerate*}\n",
       "\\item 1\n",
       "\\item 2\n",
       "\\item 3\n",
       "\\item 10\n",
       "\\end{enumerate*}\n"
      ],
      "text/markdown": [
       "1. 1\n",
       "2. 2\n",
       "3. 3\n",
       "4. 10\n",
       "\n",
       "\n"
      ],
      "text/plain": [
       "[1]  1  2  3 10"
      ]
     },
     "metadata": {},
     "output_type": "display_data"
    },
    {
     "data": {
      "text/html": [
       "<ol class=list-inline>\n",
       "\t<li>4</li>\n",
       "\t<li>5</li>\n",
       "\t<li>45</li>\n",
       "\t<li>6</li>\n",
       "</ol>\n"
      ],
      "text/latex": [
       "\\begin{enumerate*}\n",
       "\\item 4\n",
       "\\item 5\n",
       "\\item 45\n",
       "\\item 6\n",
       "\\end{enumerate*}\n"
      ],
      "text/markdown": [
       "1. 4\n",
       "2. 5\n",
       "3. 45\n",
       "4. 6\n",
       "\n",
       "\n"
      ],
      "text/plain": [
       "[1]  4  5 45  6"
      ]
     },
     "metadata": {},
     "output_type": "display_data"
    }
   ],
   "source": [
    "vca = c(1,2,3)\n",
    "vcb = c(4,5,6)\n",
    "\n",
    "append(vca, vcb)\n",
    "\n",
    "append(vca, 10)\n",
    "append(vcb, 45, after=2)  # add element after position 2"
   ]
  },
  {
   "cell_type": "markdown",
   "id": "869912bb",
   "metadata": {},
   "source": [
    "### 2.12 Range of Vector"
   ]
  },
  {
   "cell_type": "code",
   "execution_count": 67,
   "id": "20e4b5fb",
   "metadata": {
    "vscode": {
     "languageId": "r"
    }
   },
   "outputs": [
    {
     "data": {
      "text/html": [
       "<ol class=list-inline>\n",
       "\t<li>1</li>\n",
       "\t<li>2</li>\n",
       "\t<li>3</li>\n",
       "\t<li>4</li>\n",
       "\t<li>5</li>\n",
       "\t<li>6</li>\n",
       "\t<li>7</li>\n",
       "\t<li>8</li>\n",
       "\t<li>9</li>\n",
       "\t<li>10</li>\n",
       "</ol>\n"
      ],
      "text/latex": [
       "\\begin{enumerate*}\n",
       "\\item 1\n",
       "\\item 2\n",
       "\\item 3\n",
       "\\item 4\n",
       "\\item 5\n",
       "\\item 6\n",
       "\\item 7\n",
       "\\item 8\n",
       "\\item 9\n",
       "\\item 10\n",
       "\\end{enumerate*}\n"
      ],
      "text/markdown": [
       "1. 1\n",
       "2. 2\n",
       "3. 3\n",
       "4. 4\n",
       "5. 5\n",
       "6. 6\n",
       "7. 7\n",
       "8. 8\n",
       "9. 9\n",
       "10. 10\n",
       "\n",
       "\n"
      ],
      "text/plain": [
       " [1]  1  2  3  4  5  6  7  8  9 10"
      ]
     },
     "metadata": {},
     "output_type": "display_data"
    },
    {
     "name": "stdout",
     "output_type": "stream",
     "text": [
      "[1] 1\n",
      "[1] 2\n",
      "[1] 3\n",
      "[1] 4\n",
      "[1] 5\n",
      "[1] 6\n",
      "[1] 7\n",
      "[1] 8\n",
      "[1] 9\n",
      "[1] 10\n"
     ]
    }
   ],
   "source": [
    "#--- Vector from 1 to 10 without combine --------\n",
    "1:10\n",
    "\n",
    "for (i in 1:10){\n",
    "  print(i)\n",
    "}"
   ]
  },
  {
   "cell_type": "markdown",
   "id": "e557a496",
   "metadata": {},
   "source": [
    "# 3. Factors"
   ]
  },
  {
   "cell_type": "code",
   "execution_count": 68,
   "id": "31c3084c",
   "metadata": {
    "vscode": {
     "languageId": "r"
    }
   },
   "outputs": [
    {
     "data": {
      "text/html": [
       "<ol class=list-inline>\n",
       "\t<li>very high</li>\n",
       "\t<li>high</li>\n",
       "\t<li>low</li>\n",
       "\t<li>medium</li>\n",
       "\t<li>low</li>\n",
       "\t<li>medium</li>\n",
       "</ol>\n",
       "\n",
       "<details>\n",
       "\t<summary style=display:list-item;cursor:pointer>\n",
       "\t\t<strong>Levels</strong>:\n",
       "\t</summary>\n",
       "\t<ol class=list-inline>\n",
       "\t\t<li>'high'</li>\n",
       "\t\t<li>'low'</li>\n",
       "\t\t<li>'medium'</li>\n",
       "\t\t<li>'very high'</li>\n",
       "\t</ol>\n",
       "</details>"
      ],
      "text/latex": [
       "\\begin{enumerate*}\n",
       "\\item very high\n",
       "\\item high\n",
       "\\item low\n",
       "\\item medium\n",
       "\\item low\n",
       "\\item medium\n",
       "\\end{enumerate*}\n",
       "\n",
       "\\emph{Levels}: \\begin{enumerate*}\n",
       "\\item 'high'\n",
       "\\item 'low'\n",
       "\\item 'medium'\n",
       "\\item 'very high'\n",
       "\\end{enumerate*}\n"
      ],
      "text/markdown": [
       "1. very high\n",
       "2. high\n",
       "3. low\n",
       "4. medium\n",
       "5. low\n",
       "6. medium\n",
       "\n",
       "\n",
       "\n",
       "**Levels**: 1. 'high'\n",
       "2. 'low'\n",
       "3. 'medium'\n",
       "4. 'very high'\n",
       "\n",
       "\n"
      ],
      "text/plain": [
       "[1] very high high      low       medium    low       medium   \n",
       "Levels: high low medium very high"
      ]
     },
     "metadata": {},
     "output_type": "display_data"
    },
    {
     "data": {
      "text/html": [
       "<dl class=dl-horizontal>\n",
       "\t<dt>high</dt>\n",
       "\t\t<dd>1</dd>\n",
       "\t<dt>low</dt>\n",
       "\t\t<dd>2</dd>\n",
       "\t<dt>medium</dt>\n",
       "\t\t<dd>2</dd>\n",
       "\t<dt>very high</dt>\n",
       "\t\t<dd>1</dd>\n",
       "</dl>\n"
      ],
      "text/latex": [
       "\\begin{description*}\n",
       "\\item[high] 1\n",
       "\\item[low] 2\n",
       "\\item[medium] 2\n",
       "\\item[very high] 1\n",
       "\\end{description*}\n"
      ],
      "text/markdown": [
       "high\n",
       ":   1low\n",
       ":   2medium\n",
       ":   2very high\n",
       ":   1\n",
       "\n"
      ],
      "text/plain": [
       "     high       low    medium very high \n",
       "        1         2         2         1 "
      ]
     },
     "metadata": {},
     "output_type": "display_data"
    },
    {
     "data": {
      "text/html": [
       "'factor'"
      ],
      "text/latex": [
       "'factor'"
      ],
      "text/markdown": [
       "'factor'"
      ],
      "text/plain": [
       "[1] \"factor\""
      ]
     },
     "metadata": {},
     "output_type": "display_data"
    }
   ],
   "source": [
    "temp <- c('high','high','low','medium','low', 'medium')\n",
    "temp[1] <- 'very high'\n",
    "tem_factor <- factor(temp)\n",
    "tem_factor\n",
    "\n",
    "summary(tem_factor)\n",
    "class(tem_factor)"
   ]
  },
  {
   "cell_type": "markdown",
   "id": "44fdbe79",
   "metadata": {},
   "source": [
    "# 4. Matrix\n",
    "\n",
    "2 dimensional representation of homogeneous Data"
   ]
  },
  {
   "cell_type": "code",
   "execution_count": 69,
   "id": "63598fde",
   "metadata": {
    "vscode": {
     "languageId": "r"
    }
   },
   "outputs": [
    {
     "data": {
      "text/html": [
       "<table>\n",
       "<tbody>\n",
       "\t<tr><td>1 </td><td> 7</td><td>13</td><td>19</td></tr>\n",
       "\t<tr><td>2 </td><td> 8</td><td>14</td><td>20</td></tr>\n",
       "\t<tr><td>3 </td><td> 9</td><td>15</td><td>21</td></tr>\n",
       "\t<tr><td>4 </td><td>10</td><td>16</td><td>22</td></tr>\n",
       "\t<tr><td>5 </td><td>11</td><td>17</td><td>23</td></tr>\n",
       "\t<tr><td>6 </td><td>12</td><td>18</td><td>24</td></tr>\n",
       "</tbody>\n",
       "</table>\n"
      ],
      "text/latex": [
       "\\begin{tabular}{llll}\n",
       "\t 1  &  7 & 13 & 19\\\\\n",
       "\t 2  &  8 & 14 & 20\\\\\n",
       "\t 3  &  9 & 15 & 21\\\\\n",
       "\t 4  & 10 & 16 & 22\\\\\n",
       "\t 5  & 11 & 17 & 23\\\\\n",
       "\t 6  & 12 & 18 & 24\\\\\n",
       "\\end{tabular}\n"
      ],
      "text/markdown": [
       "\n",
       "| 1  |  7 | 13 | 19 |\n",
       "| 2  |  8 | 14 | 20 |\n",
       "| 3  |  9 | 15 | 21 |\n",
       "| 4  | 10 | 16 | 22 |\n",
       "| 5  | 11 | 17 | 23 |\n",
       "| 6  | 12 | 18 | 24 |\n",
       "\n"
      ],
      "text/plain": [
       "     [,1] [,2] [,3] [,4]\n",
       "[1,] 1     7   13   19  \n",
       "[2,] 2     8   14   20  \n",
       "[3,] 3     9   15   21  \n",
       "[4,] 4    10   16   22  \n",
       "[5,] 5    11   17   23  \n",
       "[6,] 6    12   18   24  "
      ]
     },
     "metadata": {},
     "output_type": "display_data"
    },
    {
     "data": {
      "text/plain": [
       "       V1             V2              V3              V4       \n",
       " Min.   :1.00   Min.   : 7.00   Min.   :13.00   Min.   :19.00  \n",
       " 1st Qu.:2.25   1st Qu.: 8.25   1st Qu.:14.25   1st Qu.:20.25  \n",
       " Median :3.50   Median : 9.50   Median :15.50   Median :21.50  \n",
       " Mean   :3.50   Mean   : 9.50   Mean   :15.50   Mean   :21.50  \n",
       " 3rd Qu.:4.75   3rd Qu.:10.75   3rd Qu.:16.75   3rd Qu.:22.75  \n",
       " Max.   :6.00   Max.   :12.00   Max.   :18.00   Max.   :24.00  "
      ]
     },
     "metadata": {},
     "output_type": "display_data"
    },
    {
     "data": {
      "text/html": [
       "'matrix'"
      ],
      "text/latex": [
       "'matrix'"
      ],
      "text/markdown": [
       "'matrix'"
      ],
      "text/plain": [
       "[1] \"matrix\""
      ]
     },
     "metadata": {},
     "output_type": "display_data"
    }
   ],
   "source": [
    "# Create a 6 by 4 matrix (filled column wise)\n",
    "vec <- 1:24\n",
    "mat1 <- matrix(vec, nrow = 6, ncol = 4)  \n",
    "mat1\n",
    "summary(mat1)\n",
    "class(mat1)"
   ]
  },
  {
   "cell_type": "code",
   "execution_count": 70,
   "id": "d765c064",
   "metadata": {
    "vscode": {
     "languageId": "r"
    }
   },
   "outputs": [
    {
     "data": {
      "text/html": [
       "<table>\n",
       "<tbody>\n",
       "\t<tr><td>1 </td><td> 7</td><td>13</td><td>19</td></tr>\n",
       "\t<tr><td>2 </td><td> 8</td><td>14</td><td>20</td></tr>\n",
       "\t<tr><td>3 </td><td> 9</td><td>15</td><td>21</td></tr>\n",
       "\t<tr><td>4 </td><td>10</td><td>16</td><td>22</td></tr>\n",
       "\t<tr><td>5 </td><td>11</td><td>17</td><td>23</td></tr>\n",
       "\t<tr><td>6 </td><td>12</td><td>18</td><td>24</td></tr>\n",
       "</tbody>\n",
       "</table>\n"
      ],
      "text/latex": [
       "\\begin{tabular}{llll}\n",
       "\t 1  &  7 & 13 & 19\\\\\n",
       "\t 2  &  8 & 14 & 20\\\\\n",
       "\t 3  &  9 & 15 & 21\\\\\n",
       "\t 4  & 10 & 16 & 22\\\\\n",
       "\t 5  & 11 & 17 & 23\\\\\n",
       "\t 6  & 12 & 18 & 24\\\\\n",
       "\\end{tabular}\n"
      ],
      "text/markdown": [
       "\n",
       "| 1  |  7 | 13 | 19 |\n",
       "| 2  |  8 | 14 | 20 |\n",
       "| 3  |  9 | 15 | 21 |\n",
       "| 4  | 10 | 16 | 22 |\n",
       "| 5  | 11 | 17 | 23 |\n",
       "| 6  | 12 | 18 | 24 |\n",
       "\n"
      ],
      "text/plain": [
       "     [,1] [,2] [,3] [,4]\n",
       "[1,] 1     7   13   19  \n",
       "[2,] 2     8   14   20  \n",
       "[3,] 3     9   15   21  \n",
       "[4,] 4    10   16   22  \n",
       "[5,] 5    11   17   23  \n",
       "[6,] 6    12   18   24  "
      ]
     },
     "metadata": {},
     "output_type": "display_data"
    }
   ],
   "source": [
    "# Create a 6 by 4 matrix (filled column wise)\n",
    "mat3 <- matrix(vec, nrow = 6)\n",
    "mat3"
   ]
  },
  {
   "cell_type": "code",
   "execution_count": 71,
   "id": "194adf94",
   "metadata": {
    "vscode": {
     "languageId": "r"
    }
   },
   "outputs": [
    {
     "data": {
      "text/html": [
       "<table>\n",
       "<tbody>\n",
       "\t<tr><td> 1</td><td> 2</td><td> 3</td><td> 4</td></tr>\n",
       "\t<tr><td> 5</td><td> 6</td><td> 7</td><td> 8</td></tr>\n",
       "\t<tr><td> 9</td><td>10</td><td>11</td><td>12</td></tr>\n",
       "\t<tr><td>13</td><td>14</td><td>15</td><td>16</td></tr>\n",
       "\t<tr><td>17</td><td>18</td><td>19</td><td>20</td></tr>\n",
       "\t<tr><td>21</td><td>22</td><td>23</td><td>24</td></tr>\n",
       "</tbody>\n",
       "</table>\n"
      ],
      "text/latex": [
       "\\begin{tabular}{llll}\n",
       "\t  1 &  2 &  3 &  4\\\\\n",
       "\t  5 &  6 &  7 &  8\\\\\n",
       "\t  9 & 10 & 11 & 12\\\\\n",
       "\t 13 & 14 & 15 & 16\\\\\n",
       "\t 17 & 18 & 19 & 20\\\\\n",
       "\t 21 & 22 & 23 & 24\\\\\n",
       "\\end{tabular}\n"
      ],
      "text/markdown": [
       "\n",
       "|  1 |  2 |  3 |  4 |\n",
       "|  5 |  6 |  7 |  8 |\n",
       "|  9 | 10 | 11 | 12 |\n",
       "| 13 | 14 | 15 | 16 |\n",
       "| 17 | 18 | 19 | 20 |\n",
       "| 21 | 22 | 23 | 24 |\n",
       "\n"
      ],
      "text/plain": [
       "     [,1] [,2] [,3] [,4]\n",
       "[1,]  1    2    3    4  \n",
       "[2,]  5    6    7    8  \n",
       "[3,]  9   10   11   12  \n",
       "[4,] 13   14   15   16  \n",
       "[5,] 17   18   19   20  \n",
       "[6,] 21   22   23   24  "
      ]
     },
     "metadata": {},
     "output_type": "display_data"
    }
   ],
   "source": [
    "# Create a 6 by 4 matrix (filled row wise)\n",
    "mat2 <- matrix(vec, nrow = 6, ncol = 4, byrow = TRUE)\n",
    "mat2"
   ]
  },
  {
   "cell_type": "markdown",
   "id": "86292ddf",
   "metadata": {},
   "source": [
    "### 4.1 Indexing a Matrix"
   ]
  },
  {
   "cell_type": "code",
   "execution_count": 72,
   "id": "3591a568",
   "metadata": {
    "vscode": {
     "languageId": "r"
    }
   },
   "outputs": [
    {
     "data": {
      "text/html": [
       "10"
      ],
      "text/latex": [
       "10"
      ],
      "text/markdown": [
       "10"
      ],
      "text/plain": [
       "[1] 10"
      ]
     },
     "metadata": {},
     "output_type": "display_data"
    },
    {
     "data": {
      "text/html": [
       "<ol class=list-inline>\n",
       "\t<li>3</li>\n",
       "\t<li>9</li>\n",
       "\t<li>15</li>\n",
       "\t<li>21</li>\n",
       "</ol>\n"
      ],
      "text/latex": [
       "\\begin{enumerate*}\n",
       "\\item 3\n",
       "\\item 9\n",
       "\\item 15\n",
       "\\item 21\n",
       "\\end{enumerate*}\n"
      ],
      "text/markdown": [
       "1. 3\n",
       "2. 9\n",
       "3. 15\n",
       "4. 21\n",
       "\n",
       "\n"
      ],
      "text/plain": [
       "[1]  3  9 15 21"
      ]
     },
     "metadata": {},
     "output_type": "display_data"
    },
    {
     "data": {
      "text/html": [
       "<ol class=list-inline>\n",
       "\t<li>13</li>\n",
       "\t<li>14</li>\n",
       "\t<li>15</li>\n",
       "\t<li>16</li>\n",
       "\t<li>17</li>\n",
       "\t<li>18</li>\n",
       "</ol>\n"
      ],
      "text/latex": [
       "\\begin{enumerate*}\n",
       "\\item 13\n",
       "\\item 14\n",
       "\\item 15\n",
       "\\item 16\n",
       "\\item 17\n",
       "\\item 18\n",
       "\\end{enumerate*}\n"
      ],
      "text/markdown": [
       "1. 13\n",
       "2. 14\n",
       "3. 15\n",
       "4. 16\n",
       "5. 17\n",
       "6. 18\n",
       "\n",
       "\n"
      ],
      "text/plain": [
       "[1] 13 14 15 16 17 18"
      ]
     },
     "metadata": {},
     "output_type": "display_data"
    },
    {
     "data": {
      "text/html": [
       "<table>\n",
       "<tbody>\n",
       "\t<tr><td>1 </td><td> 7</td><td>13</td><td>19</td></tr>\n",
       "\t<tr><td>2 </td><td> 8</td><td>14</td><td>20</td></tr>\n",
       "\t<tr><td>3 </td><td> 9</td><td>15</td><td>21</td></tr>\n",
       "\t<tr><td>4 </td><td>10</td><td>16</td><td>22</td></tr>\n",
       "\t<tr><td>5 </td><td>11</td><td>17</td><td>23</td></tr>\n",
       "\t<tr><td>6 </td><td>12</td><td>18</td><td>24</td></tr>\n",
       "</tbody>\n",
       "</table>\n"
      ],
      "text/latex": [
       "\\begin{tabular}{llll}\n",
       "\t 1  &  7 & 13 & 19\\\\\n",
       "\t 2  &  8 & 14 & 20\\\\\n",
       "\t 3  &  9 & 15 & 21\\\\\n",
       "\t 4  & 10 & 16 & 22\\\\\n",
       "\t 5  & 11 & 17 & 23\\\\\n",
       "\t 6  & 12 & 18 & 24\\\\\n",
       "\\end{tabular}\n"
      ],
      "text/markdown": [
       "\n",
       "| 1  |  7 | 13 | 19 |\n",
       "| 2  |  8 | 14 | 20 |\n",
       "| 3  |  9 | 15 | 21 |\n",
       "| 4  | 10 | 16 | 22 |\n",
       "| 5  | 11 | 17 | 23 |\n",
       "| 6  | 12 | 18 | 24 |\n",
       "\n"
      ],
      "text/plain": [
       "     [,1] [,2] [,3] [,4]\n",
       "[1,] 1     7   13   19  \n",
       "[2,] 2     8   14   20  \n",
       "[3,] 3     9   15   21  \n",
       "[4,] 4    10   16   22  \n",
       "[5,] 5    11   17   23  \n",
       "[6,] 6    12   18   24  "
      ]
     },
     "metadata": {},
     "output_type": "display_data"
    }
   ],
   "source": [
    "mat1[4,2]  # Specific element row, column\n",
    "mat1[3,]   # Specific Row\n",
    "mat1[,3]   # Specific Column\n",
    "mat1[,]    # All matrix"
   ]
  },
  {
   "cell_type": "code",
   "execution_count": 73,
   "id": "356f46e3",
   "metadata": {
    "vscode": {
     "languageId": "r"
    }
   },
   "outputs": [
    {
     "data": {
      "text/html": [
       "<ol class=list-inline>\n",
       "\t<li>9</li>\n",
       "\t<li>15</li>\n",
       "</ol>\n"
      ],
      "text/latex": [
       "\\begin{enumerate*}\n",
       "\\item 9\n",
       "\\item 15\n",
       "\\end{enumerate*}\n"
      ],
      "text/markdown": [
       "1. 9\n",
       "2. 15\n",
       "\n",
       "\n"
      ],
      "text/plain": [
       "[1]  9 15"
      ]
     },
     "metadata": {},
     "output_type": "display_data"
    },
    {
     "data": {
      "text/html": [
       "<ol class=list-inline>\n",
       "\t<li>9</li>\n",
       "\t<li>15</li>\n",
       "</ol>\n"
      ],
      "text/latex": [
       "\\begin{enumerate*}\n",
       "\\item 9\n",
       "\\item 15\n",
       "\\end{enumerate*}\n"
      ],
      "text/markdown": [
       "1. 9\n",
       "2. 15\n",
       "\n",
       "\n"
      ],
      "text/plain": [
       "[1]  9 15"
      ]
     },
     "metadata": {},
     "output_type": "display_data"
    }
   ],
   "source": [
    "mat1[3,c(2:3)]    # Row no 3, columns 2 & 3 (Output will be a Vector)\n",
    "# -- OR --\n",
    "mat1[3,2:3]"
   ]
  },
  {
   "cell_type": "code",
   "execution_count": 74,
   "id": "289bcc94",
   "metadata": {
    "vscode": {
     "languageId": "r"
    }
   },
   "outputs": [
    {
     "data": {
      "text/html": [
       "<table>\n",
       "<tbody>\n",
       "\t<tr><td> 9</td><td>15</td></tr>\n",
       "\t<tr><td>10</td><td>16</td></tr>\n",
       "</tbody>\n",
       "</table>\n"
      ],
      "text/latex": [
       "\\begin{tabular}{ll}\n",
       "\t  9 & 15\\\\\n",
       "\t 10 & 16\\\\\n",
       "\\end{tabular}\n"
      ],
      "text/markdown": [
       "\n",
       "|  9 | 15 |\n",
       "| 10 | 16 |\n",
       "\n"
      ],
      "text/plain": [
       "     [,1] [,2]\n",
       "[1,]  9   15  \n",
       "[2,] 10   16  "
      ]
     },
     "metadata": {},
     "output_type": "display_data"
    }
   ],
   "source": [
    "mat1[3:4,2:3]     # Row 3 & 4, columns 2 & 3 (Output will be a Matrix)"
   ]
  },
  {
   "cell_type": "code",
   "execution_count": 75,
   "id": "7ce9d5fc",
   "metadata": {
    "vscode": {
     "languageId": "r"
    }
   },
   "outputs": [
    {
     "data": {
      "text/html": [
       "<ol class=list-inline>\n",
       "\t<li>3</li>\n",
       "\t<li>23</li>\n",
       "</ol>\n"
      ],
      "text/latex": [
       "\\begin{enumerate*}\n",
       "\\item 3\n",
       "\\item 23\n",
       "\\end{enumerate*}\n"
      ],
      "text/markdown": [
       "1. 3\n",
       "2. 23\n",
       "\n",
       "\n"
      ],
      "text/plain": [
       "[1]  3 23"
      ]
     },
     "metadata": {},
     "output_type": "display_data"
    }
   ],
   "source": [
    "# Get elements from diff Row and Columns and then combine\n",
    "\n",
    "append(mat1[3,1] ,mat1[5,4])"
   ]
  },
  {
   "cell_type": "markdown",
   "id": "488c3d77",
   "metadata": {},
   "source": [
    "### 4.2 Rows, Columns and Dimensions of Matrix"
   ]
  },
  {
   "cell_type": "code",
   "execution_count": 76,
   "id": "4d133001",
   "metadata": {
    "vscode": {
     "languageId": "r"
    }
   },
   "outputs": [
    {
     "data": {
      "text/html": [
       "6"
      ],
      "text/latex": [
       "6"
      ],
      "text/markdown": [
       "6"
      ],
      "text/plain": [
       "[1] 6"
      ]
     },
     "metadata": {},
     "output_type": "display_data"
    },
    {
     "data": {
      "text/html": [
       "4"
      ],
      "text/latex": [
       "4"
      ],
      "text/markdown": [
       "4"
      ],
      "text/plain": [
       "[1] 4"
      ]
     },
     "metadata": {},
     "output_type": "display_data"
    },
    {
     "data": {
      "text/html": [
       "<ol class=list-inline>\n",
       "\t<li>6</li>\n",
       "\t<li>4</li>\n",
       "</ol>\n"
      ],
      "text/latex": [
       "\\begin{enumerate*}\n",
       "\\item 6\n",
       "\\item 4\n",
       "\\end{enumerate*}\n"
      ],
      "text/markdown": [
       "1. 6\n",
       "2. 4\n",
       "\n",
       "\n"
      ],
      "text/plain": [
       "[1] 6 4"
      ]
     },
     "metadata": {},
     "output_type": "display_data"
    }
   ],
   "source": [
    "nrow(mat1)   # Return rows\n",
    "ncol(mat1)   # Return columns\n",
    "dim(mat1)    # Returns rows and columns"
   ]
  },
  {
   "cell_type": "markdown",
   "id": "277b7cbf",
   "metadata": {},
   "source": [
    "### 4.3 Create Matrix with less elements in Vector"
   ]
  },
  {
   "cell_type": "code",
   "execution_count": 77,
   "id": "8727cc01",
   "metadata": {
    "vscode": {
     "languageId": "r"
    }
   },
   "outputs": [
    {
     "name": "stderr",
     "output_type": "stream",
     "text": [
      "Warning message in matrix(vc_1, nrow = 6):\n",
      "\"data length [23] is not a sub-multiple or multiple of the number of rows [6]\""
     ]
    },
    {
     "data": {
      "text/html": [
       "<table>\n",
       "<tbody>\n",
       "\t<tr><td>1 </td><td> 7</td><td>13</td><td>19</td></tr>\n",
       "\t<tr><td>2 </td><td> 8</td><td>14</td><td>20</td></tr>\n",
       "\t<tr><td>3 </td><td> 9</td><td>15</td><td>21</td></tr>\n",
       "\t<tr><td>4 </td><td>10</td><td>16</td><td>22</td></tr>\n",
       "\t<tr><td>5 </td><td>11</td><td>17</td><td>23</td></tr>\n",
       "\t<tr><td>6 </td><td>12</td><td>18</td><td> 1</td></tr>\n",
       "</tbody>\n",
       "</table>\n"
      ],
      "text/latex": [
       "\\begin{tabular}{llll}\n",
       "\t 1  &  7 & 13 & 19\\\\\n",
       "\t 2  &  8 & 14 & 20\\\\\n",
       "\t 3  &  9 & 15 & 21\\\\\n",
       "\t 4  & 10 & 16 & 22\\\\\n",
       "\t 5  & 11 & 17 & 23\\\\\n",
       "\t 6  & 12 & 18 &  1\\\\\n",
       "\\end{tabular}\n"
      ],
      "text/markdown": [
       "\n",
       "| 1  |  7 | 13 | 19 |\n",
       "| 2  |  8 | 14 | 20 |\n",
       "| 3  |  9 | 15 | 21 |\n",
       "| 4  | 10 | 16 | 22 |\n",
       "| 5  | 11 | 17 | 23 |\n",
       "| 6  | 12 | 18 |  1 |\n",
       "\n"
      ],
      "text/plain": [
       "     [,1] [,2] [,3] [,4]\n",
       "[1,] 1     7   13   19  \n",
       "[2,] 2     8   14   20  \n",
       "[3,] 3     9   15   21  \n",
       "[4,] 4    10   16   22  \n",
       "[5,] 5    11   17   23  \n",
       "[6,] 6    12   18    1  "
      ]
     },
     "metadata": {},
     "output_type": "display_data"
    }
   ],
   "source": [
    "# Will give a warning message and assign first element of vector\n",
    "# in the missing matrix\n",
    "\n",
    "vc_1 = 1:23\n",
    "mat4 = matrix(vc_1, nrow=6)\n",
    "mat4"
   ]
  },
  {
   "cell_type": "markdown",
   "id": "c75d36ca",
   "metadata": {},
   "source": [
    "# 5. Arrays"
   ]
  },
  {
   "cell_type": "code",
   "execution_count": 78,
   "id": "d5db5cbe",
   "metadata": {
    "vscode": {
     "languageId": "r"
    }
   },
   "outputs": [
    {
     "name": "stdout",
     "output_type": "stream",
     "text": [
      ", , 1\n",
      "\n",
      "     [,1] [,2] [,3]\n",
      "[1,]    1    5    9\n",
      "[2,]    2    6   10\n",
      "[3,]    3    7   11\n",
      "[4,]    4    8   12\n",
      "\n",
      ", , 2\n",
      "\n",
      "     [,1] [,2] [,3]\n",
      "[1,]   13   17   21\n",
      "[2,]   14   18   22\n",
      "[3,]   15   19   23\n",
      "[4,]   16   20   24\n",
      "\n"
     ]
    },
    {
     "data": {
      "text/html": [
       "<ol class=list-inline>\n",
       "\t<li>4</li>\n",
       "\t<li>3</li>\n",
       "\t<li>2</li>\n",
       "</ol>\n"
      ],
      "text/latex": [
       "\\begin{enumerate*}\n",
       "\\item 4\n",
       "\\item 3\n",
       "\\item 2\n",
       "\\end{enumerate*}\n"
      ],
      "text/markdown": [
       "1. 4\n",
       "2. 3\n",
       "3. 2\n",
       "\n",
       "\n"
      ],
      "text/plain": [
       "[1] 4 3 2"
      ]
     },
     "metadata": {},
     "output_type": "display_data"
    }
   ],
   "source": [
    "vc <- 1:24\n",
    "arr <- array(vc, dim = c(4,3,2))   # Create TWO 4x3 Matrices\n",
    "print(arr)\n",
    "dim(arr)"
   ]
  },
  {
   "cell_type": "markdown",
   "id": "2e8aa5b1",
   "metadata": {},
   "source": [
    "### 5.1 Indexing Array"
   ]
  },
  {
   "cell_type": "code",
   "execution_count": 79,
   "id": "34329e2c",
   "metadata": {
    "vscode": {
     "languageId": "r"
    }
   },
   "outputs": [
    {
     "data": {
      "text/html": [
       "24"
      ],
      "text/latex": [
       "24"
      ],
      "text/markdown": [
       "24"
      ],
      "text/plain": [
       "[1] 24"
      ]
     },
     "metadata": {},
     "output_type": "display_data"
    },
    {
     "data": {
      "text/html": [
       "<table>\n",
       "<tbody>\n",
       "\t<tr><td>13</td><td>17</td><td>21</td></tr>\n",
       "\t<tr><td>14</td><td>18</td><td>22</td></tr>\n",
       "\t<tr><td>15</td><td>19</td><td>23</td></tr>\n",
       "\t<tr><td>16</td><td>20</td><td>24</td></tr>\n",
       "</tbody>\n",
       "</table>\n"
      ],
      "text/latex": [
       "\\begin{tabular}{lll}\n",
       "\t 13 & 17 & 21\\\\\n",
       "\t 14 & 18 & 22\\\\\n",
       "\t 15 & 19 & 23\\\\\n",
       "\t 16 & 20 & 24\\\\\n",
       "\\end{tabular}\n"
      ],
      "text/markdown": [
       "\n",
       "| 13 | 17 | 21 |\n",
       "| 14 | 18 | 22 |\n",
       "| 15 | 19 | 23 |\n",
       "| 16 | 20 | 24 |\n",
       "\n"
      ],
      "text/plain": [
       "     [,1] [,2] [,3]\n",
       "[1,] 13   17   21  \n",
       "[2,] 14   18   22  \n",
       "[3,] 15   19   23  \n",
       "[4,] 16   20   24  "
      ]
     },
     "metadata": {},
     "output_type": "display_data"
    }
   ],
   "source": [
    "arr[4,3,2]   # Get 4th Row, 3rd Column in 2nd Matrix\n",
    "arr[,,2]     # Get 2nd Matrix"
   ]
  },
  {
   "cell_type": "markdown",
   "id": "05ca41bb",
   "metadata": {},
   "source": [
    "# 6. Lists\n",
    "\n",
    "- Lists are one dimensional representation of Heterogeneous Data\n",
    "- Every element is represented as a single item vector\n",
    "- Due to this list can hold any data type"
   ]
  },
  {
   "cell_type": "code",
   "execution_count": 80,
   "id": "c6eb9589",
   "metadata": {
    "scrolled": false,
    "vscode": {
     "languageId": "r"
    }
   },
   "outputs": [
    {
     "name": "stdout",
     "output_type": "stream",
     "text": [
      "[[1]]\n",
      "[1] 1\n",
      "\n",
      "[[2]]\n",
      "[1] 3\n",
      "\n",
      "[[3]]\n",
      "[1] 7\n",
      "\n",
      "[[4]]\n",
      "[1] \"char\"\n",
      "\n",
      "[[5]]\n",
      "[1] TRUE\n",
      "\n",
      "[[6]]\n",
      "[1] \"chart\"\n",
      "\n",
      "[[7]]\n",
      "[1] FALSE\n",
      "\n",
      "[[8]]\n",
      "[1] \"test\"\n",
      "\n"
     ]
    },
    {
     "data": {
      "text/html": [
       "'list'"
      ],
      "text/latex": [
       "'list'"
      ],
      "text/markdown": [
       "'list'"
      ],
      "text/plain": [
       "[1] \"list\""
      ]
     },
     "metadata": {},
     "output_type": "display_data"
    }
   ],
   "source": [
    "ls1 <- list(1,3,7, 'char', TRUE, 'chart', FALSE, 'test')\n",
    "print(ls1)\n",
    "class(ls1)"
   ]
  },
  {
   "cell_type": "code",
   "execution_count": 81,
   "id": "7cf7508b",
   "metadata": {
    "vscode": {
     "languageId": "r"
    }
   },
   "outputs": [
    {
     "data": {
      "text/html": [
       "<ol>\n",
       "\t<li>1</li>\n",
       "\t<li>2</li>\n",
       "\t<li>3</li>\n",
       "\t<li>45</li>\n",
       "</ol>\n"
      ],
      "text/latex": [
       "\\begin{enumerate}\n",
       "\\item 1\n",
       "\\item 2\n",
       "\\item 3\n",
       "\\item 45\n",
       "\\end{enumerate}\n"
      ],
      "text/markdown": [
       "1. 1\n",
       "2. 2\n",
       "3. 3\n",
       "4. 45\n",
       "\n",
       "\n"
      ],
      "text/plain": [
       "[[1]]\n",
       "[1] 1\n",
       "\n",
       "[[2]]\n",
       "[1] 2\n",
       "\n",
       "[[3]]\n",
       "[1] 3\n",
       "\n",
       "[[4]]\n",
       "[1] 45\n"
      ]
     },
     "metadata": {},
     "output_type": "display_data"
    },
    {
     "data": {
      "text/html": [
       "<ol>\n",
       "\t<li>34</li>\n",
       "\t<li>'char'</li>\n",
       "\t<li><ol class=list-inline>\n",
       "\t<li>1</li>\n",
       "\t<li>2</li>\n",
       "\t<li>3</li>\n",
       "\t<li>4</li>\n",
       "\t<li>5</li>\n",
       "\t<li>6</li>\n",
       "\t<li>7</li>\n",
       "\t<li>8</li>\n",
       "\t<li>9</li>\n",
       "\t<li>10</li>\n",
       "\t<li>11</li>\n",
       "\t<li>12</li>\n",
       "\t<li>13</li>\n",
       "\t<li>14</li>\n",
       "\t<li>15</li>\n",
       "\t<li>16</li>\n",
       "\t<li>17</li>\n",
       "\t<li>18</li>\n",
       "\t<li>19</li>\n",
       "\t<li>20</li>\n",
       "\t<li>21</li>\n",
       "\t<li>22</li>\n",
       "\t<li>23</li>\n",
       "</ol>\n",
       "</li>\n",
       "\t<li><table>\n",
       "<tbody>\n",
       "\t<tr><td>1 </td><td> 7</td><td>13</td><td>19</td></tr>\n",
       "\t<tr><td>2 </td><td> 8</td><td>14</td><td>20</td></tr>\n",
       "\t<tr><td>3 </td><td> 9</td><td>15</td><td>21</td></tr>\n",
       "\t<tr><td>4 </td><td>10</td><td>16</td><td>22</td></tr>\n",
       "\t<tr><td>5 </td><td>11</td><td>17</td><td>23</td></tr>\n",
       "\t<tr><td>6 </td><td>12</td><td>18</td><td>24</td></tr>\n",
       "</tbody>\n",
       "</table>\n",
       "</li>\n",
       "</ol>\n"
      ],
      "text/latex": [
       "\\begin{enumerate}\n",
       "\\item 34\n",
       "\\item 'char'\n",
       "\\item \\begin{enumerate*}\n",
       "\\item 1\n",
       "\\item 2\n",
       "\\item 3\n",
       "\\item 4\n",
       "\\item 5\n",
       "\\item 6\n",
       "\\item 7\n",
       "\\item 8\n",
       "\\item 9\n",
       "\\item 10\n",
       "\\item 11\n",
       "\\item 12\n",
       "\\item 13\n",
       "\\item 14\n",
       "\\item 15\n",
       "\\item 16\n",
       "\\item 17\n",
       "\\item 18\n",
       "\\item 19\n",
       "\\item 20\n",
       "\\item 21\n",
       "\\item 22\n",
       "\\item 23\n",
       "\\end{enumerate*}\n",
       "\n",
       "\\item \\begin{tabular}{llll}\n",
       "\t 1  &  7 & 13 & 19\\\\\n",
       "\t 2  &  8 & 14 & 20\\\\\n",
       "\t 3  &  9 & 15 & 21\\\\\n",
       "\t 4  & 10 & 16 & 22\\\\\n",
       "\t 5  & 11 & 17 & 23\\\\\n",
       "\t 6  & 12 & 18 & 24\\\\\n",
       "\\end{tabular}\n",
       "\n",
       "\\end{enumerate}\n"
      ],
      "text/markdown": [
       "1. 34\n",
       "2. 'char'\n",
       "3. 1. 1\n",
       "2. 2\n",
       "3. 3\n",
       "4. 4\n",
       "5. 5\n",
       "6. 6\n",
       "7. 7\n",
       "8. 8\n",
       "9. 9\n",
       "10. 10\n",
       "11. 11\n",
       "12. 12\n",
       "13. 13\n",
       "14. 14\n",
       "15. 15\n",
       "16. 16\n",
       "17. 17\n",
       "18. 18\n",
       "19. 19\n",
       "20. 20\n",
       "21. 21\n",
       "22. 22\n",
       "23. 23\n",
       "\n",
       "\n",
       "\n",
       "4. \n",
       "| 1  |  7 | 13 | 19 |\n",
       "| 2  |  8 | 14 | 20 |\n",
       "| 3  |  9 | 15 | 21 |\n",
       "| 4  | 10 | 16 | 22 |\n",
       "| 5  | 11 | 17 | 23 |\n",
       "| 6  | 12 | 18 | 24 |\n",
       "\n",
       "\n",
       "\n",
       "\n"
      ],
      "text/plain": [
       "[[1]]\n",
       "[1] 34\n",
       "\n",
       "[[2]]\n",
       "[1] \"char\"\n",
       "\n",
       "[[3]]\n",
       " [1]  1  2  3  4  5  6  7  8  9 10 11 12 13 14 15 16 17 18 19 20 21 22 23\n",
       "\n",
       "[[4]]\n",
       "     [,1] [,2] [,3] [,4]\n",
       "[1,]    1    7   13   19\n",
       "[2,]    2    8   14   20\n",
       "[3,]    3    9   15   21\n",
       "[4,]    4   10   16   22\n",
       "[5,]    5   11   17   23\n",
       "[6,]    6   12   18   24\n"
      ]
     },
     "metadata": {},
     "output_type": "display_data"
    },
    {
     "data": {
      "text/html": [
       "'list'"
      ],
      "text/latex": [
       "'list'"
      ],
      "text/markdown": [
       "'list'"
      ],
      "text/plain": [
       "[1] \"list\""
      ]
     },
     "metadata": {},
     "output_type": "display_data"
    },
    {
     "data": {
      "text/html": [
       "'integer'"
      ],
      "text/latex": [
       "'integer'"
      ],
      "text/markdown": [
       "'integer'"
      ],
      "text/plain": [
       "[1] \"integer\""
      ]
     },
     "metadata": {},
     "output_type": "display_data"
    },
    {
     "data": {
      "text/html": [
       "<ol class=list-inline>\n",
       "\t<li>1</li>\n",
       "\t<li>2</li>\n",
       "\t<li>3</li>\n",
       "\t<li>4</li>\n",
       "\t<li>5</li>\n",
       "\t<li>6</li>\n",
       "\t<li>7</li>\n",
       "\t<li>8</li>\n",
       "\t<li>9</li>\n",
       "\t<li>10</li>\n",
       "\t<li>11</li>\n",
       "\t<li>12</li>\n",
       "\t<li>13</li>\n",
       "\t<li>14</li>\n",
       "\t<li>15</li>\n",
       "\t<li>16</li>\n",
       "\t<li>17</li>\n",
       "\t<li>18</li>\n",
       "\t<li>19</li>\n",
       "\t<li>20</li>\n",
       "\t<li>21</li>\n",
       "\t<li>22</li>\n",
       "\t<li>23</li>\n",
       "</ol>\n"
      ],
      "text/latex": [
       "\\begin{enumerate*}\n",
       "\\item 1\n",
       "\\item 2\n",
       "\\item 3\n",
       "\\item 4\n",
       "\\item 5\n",
       "\\item 6\n",
       "\\item 7\n",
       "\\item 8\n",
       "\\item 9\n",
       "\\item 10\n",
       "\\item 11\n",
       "\\item 12\n",
       "\\item 13\n",
       "\\item 14\n",
       "\\item 15\n",
       "\\item 16\n",
       "\\item 17\n",
       "\\item 18\n",
       "\\item 19\n",
       "\\item 20\n",
       "\\item 21\n",
       "\\item 22\n",
       "\\item 23\n",
       "\\end{enumerate*}\n"
      ],
      "text/markdown": [
       "1. 1\n",
       "2. 2\n",
       "3. 3\n",
       "4. 4\n",
       "5. 5\n",
       "6. 6\n",
       "7. 7\n",
       "8. 8\n",
       "9. 9\n",
       "10. 10\n",
       "11. 11\n",
       "12. 12\n",
       "13. 13\n",
       "14. 14\n",
       "15. 15\n",
       "16. 16\n",
       "17. 17\n",
       "18. 18\n",
       "19. 19\n",
       "20. 20\n",
       "21. 21\n",
       "22. 22\n",
       "23. 23\n",
       "\n",
       "\n"
      ],
      "text/plain": [
       " [1]  1  2  3  4  5  6  7  8  9 10 11 12 13 14 15 16 17 18 19 20 21 22 23"
      ]
     },
     "metadata": {},
     "output_type": "display_data"
    },
    {
     "data": {
      "text/html": [
       "<table>\n",
       "<tbody>\n",
       "\t<tr><td>1 </td><td> 7</td><td>13</td><td>19</td></tr>\n",
       "\t<tr><td>2 </td><td> 8</td><td>14</td><td>20</td></tr>\n",
       "\t<tr><td>3 </td><td> 9</td><td>15</td><td>21</td></tr>\n",
       "\t<tr><td>4 </td><td>10</td><td>16</td><td>22</td></tr>\n",
       "\t<tr><td>5 </td><td>11</td><td>17</td><td>23</td></tr>\n",
       "\t<tr><td>6 </td><td>12</td><td>18</td><td>24</td></tr>\n",
       "</tbody>\n",
       "</table>\n"
      ],
      "text/latex": [
       "\\begin{tabular}{llll}\n",
       "\t 1  &  7 & 13 & 19\\\\\n",
       "\t 2  &  8 & 14 & 20\\\\\n",
       "\t 3  &  9 & 15 & 21\\\\\n",
       "\t 4  & 10 & 16 & 22\\\\\n",
       "\t 5  & 11 & 17 & 23\\\\\n",
       "\t 6  & 12 & 18 & 24\\\\\n",
       "\\end{tabular}\n"
      ],
      "text/markdown": [
       "\n",
       "| 1  |  7 | 13 | 19 |\n",
       "| 2  |  8 | 14 | 20 |\n",
       "| 3  |  9 | 15 | 21 |\n",
       "| 4  | 10 | 16 | 22 |\n",
       "| 5  | 11 | 17 | 23 |\n",
       "| 6  | 12 | 18 | 24 |\n",
       "\n"
      ],
      "text/plain": [
       "     [,1] [,2] [,3] [,4]\n",
       "[1,] 1     7   13   19  \n",
       "[2,] 2     8   14   20  \n",
       "[3,] 3     9   15   21  \n",
       "[4,] 4    10   16   22  \n",
       "[5,] 5    11   17   23  \n",
       "[6,] 6    12   18   24  "
      ]
     },
     "metadata": {},
     "output_type": "display_data"
    }
   ],
   "source": [
    "ls2 <- list(1,2,3,45)\n",
    "ls2\n",
    "\n",
    "ls3 <- list(34, 'char', vc_1, mat1)\n",
    "ls3\n",
    "\n",
    "class(ls3[3])\n",
    "class(ls3[[3]])\n",
    "ls3[[3]]\n",
    "\n",
    "ls3[[4]]"
   ]
  },
  {
   "cell_type": "markdown",
   "id": "4e31820d",
   "metadata": {},
   "source": [
    "### 6.1 Nested / Recursive Lists\n",
    "- List within a list"
   ]
  },
  {
   "cell_type": "code",
   "execution_count": 82,
   "id": "0337e94f",
   "metadata": {
    "vscode": {
     "languageId": "r"
    }
   },
   "outputs": [
    {
     "data": {
      "text/html": [
       "<ol>\n",
       "\t<li>34</li>\n",
       "\t<li>TRUE</li>\n",
       "\t<li><ol>\n",
       "\t<li>1</li>\n",
       "\t<li>3</li>\n",
       "\t<li>7</li>\n",
       "\t<li>'char'</li>\n",
       "\t<li>TRUE</li>\n",
       "\t<li>'chart'</li>\n",
       "\t<li>FALSE</li>\n",
       "\t<li>'test'</li>\n",
       "</ol>\n",
       "</li>\n",
       "</ol>\n"
      ],
      "text/latex": [
       "\\begin{enumerate}\n",
       "\\item 34\n",
       "\\item TRUE\n",
       "\\item \\begin{enumerate}\n",
       "\\item 1\n",
       "\\item 3\n",
       "\\item 7\n",
       "\\item 'char'\n",
       "\\item TRUE\n",
       "\\item 'chart'\n",
       "\\item FALSE\n",
       "\\item 'test'\n",
       "\\end{enumerate}\n",
       "\n",
       "\\end{enumerate}\n"
      ],
      "text/markdown": [
       "1. 34\n",
       "2. TRUE\n",
       "3. 1. 1\n",
       "2. 3\n",
       "3. 7\n",
       "4. 'char'\n",
       "5. TRUE\n",
       "6. 'chart'\n",
       "7. FALSE\n",
       "8. 'test'\n",
       "\n",
       "\n",
       "\n",
       "\n",
       "\n"
      ],
      "text/plain": [
       "[[1]]\n",
       "[1] 34\n",
       "\n",
       "[[2]]\n",
       "[1] TRUE\n",
       "\n",
       "[[3]]\n",
       "[[3]][[1]]\n",
       "[1] 1\n",
       "\n",
       "[[3]][[2]]\n",
       "[1] 3\n",
       "\n",
       "[[3]][[3]]\n",
       "[1] 7\n",
       "\n",
       "[[3]][[4]]\n",
       "[1] \"char\"\n",
       "\n",
       "[[3]][[5]]\n",
       "[1] TRUE\n",
       "\n",
       "[[3]][[6]]\n",
       "[1] \"chart\"\n",
       "\n",
       "[[3]][[7]]\n",
       "[1] FALSE\n",
       "\n",
       "[[3]][[8]]\n",
       "[1] \"test\"\n",
       "\n"
      ]
     },
     "metadata": {},
     "output_type": "display_data"
    }
   ],
   "source": [
    "ls4 = list(34, TRUE, ls1)\n",
    "ls4"
   ]
  },
  {
   "cell_type": "markdown",
   "id": "d99d999e",
   "metadata": {},
   "source": [
    "# 7. Apply Functions"
   ]
  },
  {
   "cell_type": "code",
   "execution_count": 86,
   "id": "504beb1b",
   "metadata": {
    "vscode": {
     "languageId": "r"
    }
   },
   "outputs": [
    {
     "data": {
      "text/html": [
       "<table>\n",
       "<tbody>\n",
       "\t<tr><td>1 </td><td>4 </td><td>7 </td><td>10</td></tr>\n",
       "\t<tr><td>2 </td><td>5 </td><td>8 </td><td>11</td></tr>\n",
       "\t<tr><td>3 </td><td>6 </td><td>9 </td><td>12</td></tr>\n",
       "</tbody>\n",
       "</table>\n"
      ],
      "text/latex": [
       "\\begin{tabular}{llll}\n",
       "\t 1  & 4  & 7  & 10\\\\\n",
       "\t 2  & 5  & 8  & 11\\\\\n",
       "\t 3  & 6  & 9  & 12\\\\\n",
       "\\end{tabular}\n"
      ],
      "text/markdown": [
       "\n",
       "| 1  | 4  | 7  | 10 |\n",
       "| 2  | 5  | 8  | 11 |\n",
       "| 3  | 6  | 9  | 12 |\n",
       "\n"
      ],
      "text/plain": [
       "     [,1] [,2] [,3] [,4]\n",
       "[1,] 1    4    7    10  \n",
       "[2,] 2    5    8    11  \n",
       "[3,] 3    6    9    12  "
      ]
     },
     "metadata": {},
     "output_type": "display_data"
    }
   ],
   "source": [
    "m <- matrix(1:12, 3, 4)\n",
    "m"
   ]
  },
  {
   "cell_type": "markdown",
   "id": "d475b650",
   "metadata": {},
   "source": [
    "### 7.1 Apply"
   ]
  },
  {
   "cell_type": "code",
   "execution_count": 48,
   "id": "33538b30",
   "metadata": {
    "scrolled": true,
    "vscode": {
     "languageId": "r"
    }
   },
   "outputs": [
    {
     "data": {
      "text/html": [
       "<ol class=list-inline>\n",
       "\t<li>22</li>\n",
       "\t<li>26</li>\n",
       "\t<li>30</li>\n",
       "</ol>\n"
      ],
      "text/latex": [
       "\\begin{enumerate*}\n",
       "\\item 22\n",
       "\\item 26\n",
       "\\item 30\n",
       "\\end{enumerate*}\n"
      ],
      "text/markdown": [
       "1. 22\n",
       "2. 26\n",
       "3. 30\n",
       "\n",
       "\n"
      ],
      "text/plain": [
       "[1] 22 26 30"
      ]
     },
     "metadata": {},
     "output_type": "display_data"
    },
    {
     "data": {
      "text/html": [
       "<ol class=list-inline>\n",
       "\t<li>6</li>\n",
       "\t<li>15</li>\n",
       "\t<li>24</li>\n",
       "\t<li>33</li>\n",
       "</ol>\n"
      ],
      "text/latex": [
       "\\begin{enumerate*}\n",
       "\\item 6\n",
       "\\item 15\n",
       "\\item 24\n",
       "\\item 33\n",
       "\\end{enumerate*}\n"
      ],
      "text/markdown": [
       "1. 6\n",
       "2. 15\n",
       "3. 24\n",
       "4. 33\n",
       "\n",
       "\n"
      ],
      "text/plain": [
       "[1]  6 15 24 33"
      ]
     },
     "metadata": {},
     "output_type": "display_data"
    },
    {
     "data": {
      "text/html": [
       "78"
      ],
      "text/latex": [
       "78"
      ],
      "text/markdown": [
       "78"
      ],
      "text/plain": [
       "[1] 78"
      ]
     },
     "metadata": {},
     "output_type": "display_data"
    }
   ],
   "source": [
    "apply(m, 1, sum)  # Row wise sum\n",
    "apply(m, 2, sum)  # Column wise sum\n",
    "sum(m)  # sum of all elements in matrix"
   ]
  },
  {
   "cell_type": "markdown",
   "id": "3d406fe5",
   "metadata": {},
   "source": [
    "### 7.2 L Apply"
   ]
  },
  {
   "cell_type": "code",
   "execution_count": 49,
   "id": "e4401625",
   "metadata": {
    "vscode": {
     "languageId": "r"
    }
   },
   "outputs": [
    {
     "data": {
      "text/html": [
       "<ol>\n",
       "\t<li><ol class=list-inline>\n",
       "\t<li>1</li>\n",
       "\t<li>2</li>\n",
       "\t<li>3</li>\n",
       "</ol>\n",
       "</li>\n",
       "\t<li><ol class=list-inline>\n",
       "\t<li>4</li>\n",
       "\t<li>5</li>\n",
       "\t<li>6</li>\n",
       "</ol>\n",
       "</li>\n",
       "\t<li><ol class=list-inline>\n",
       "\t<li>7</li>\n",
       "\t<li>8</li>\n",
       "\t<li>9</li>\n",
       "</ol>\n",
       "</li>\n",
       "</ol>\n"
      ],
      "text/latex": [
       "\\begin{enumerate}\n",
       "\\item \\begin{enumerate*}\n",
       "\\item 1\n",
       "\\item 2\n",
       "\\item 3\n",
       "\\end{enumerate*}\n",
       "\n",
       "\\item \\begin{enumerate*}\n",
       "\\item 4\n",
       "\\item 5\n",
       "\\item 6\n",
       "\\end{enumerate*}\n",
       "\n",
       "\\item \\begin{enumerate*}\n",
       "\\item 7\n",
       "\\item 8\n",
       "\\item 9\n",
       "\\end{enumerate*}\n",
       "\n",
       "\\end{enumerate}\n"
      ],
      "text/markdown": [
       "1. 1. 1\n",
       "2. 2\n",
       "3. 3\n",
       "\n",
       "\n",
       "\n",
       "2. 1. 4\n",
       "2. 5\n",
       "3. 6\n",
       "\n",
       "\n",
       "\n",
       "3. 1. 7\n",
       "2. 8\n",
       "3. 9\n",
       "\n",
       "\n",
       "\n",
       "\n",
       "\n"
      ],
      "text/plain": [
       "[[1]]\n",
       "[1] 1 2 3\n",
       "\n",
       "[[2]]\n",
       "[1] 4 5 6\n",
       "\n",
       "[[3]]\n",
       "[1] 7 8 9\n"
      ]
     },
     "metadata": {},
     "output_type": "display_data"
    },
    {
     "data": {
      "text/html": [
       "<ol>\n",
       "\t<li>6</li>\n",
       "\t<li>15</li>\n",
       "\t<li>24</li>\n",
       "</ol>\n"
      ],
      "text/latex": [
       "\\begin{enumerate}\n",
       "\\item 6\n",
       "\\item 15\n",
       "\\item 24\n",
       "\\end{enumerate}\n"
      ],
      "text/markdown": [
       "1. 6\n",
       "2. 15\n",
       "3. 24\n",
       "\n",
       "\n"
      ],
      "text/plain": [
       "[[1]]\n",
       "[1] 6\n",
       "\n",
       "[[2]]\n",
       "[1] 15\n",
       "\n",
       "[[3]]\n",
       "[1] 24\n"
      ]
     },
     "metadata": {},
     "output_type": "display_data"
    },
    {
     "data": {
      "text/html": [
       "'list'"
      ],
      "text/latex": [
       "'list'"
      ],
      "text/markdown": [
       "'list'"
      ],
      "text/plain": [
       "[1] \"list\""
      ]
     },
     "metadata": {},
     "output_type": "display_data"
    },
    {
     "data": {
      "text/html": [
       "<ol>\n",
       "\t<li><ol class=list-inline>\n",
       "\t<li>1</li>\n",
       "\t<li>3</li>\n",
       "</ol>\n",
       "</li>\n",
       "\t<li><ol class=list-inline>\n",
       "\t<li>4</li>\n",
       "\t<li>6</li>\n",
       "</ol>\n",
       "</li>\n",
       "\t<li><ol class=list-inline>\n",
       "\t<li>7</li>\n",
       "\t<li>9</li>\n",
       "</ol>\n",
       "</li>\n",
       "</ol>\n"
      ],
      "text/latex": [
       "\\begin{enumerate}\n",
       "\\item \\begin{enumerate*}\n",
       "\\item 1\n",
       "\\item 3\n",
       "\\end{enumerate*}\n",
       "\n",
       "\\item \\begin{enumerate*}\n",
       "\\item 4\n",
       "\\item 6\n",
       "\\end{enumerate*}\n",
       "\n",
       "\\item \\begin{enumerate*}\n",
       "\\item 7\n",
       "\\item 9\n",
       "\\end{enumerate*}\n",
       "\n",
       "\\end{enumerate}\n"
      ],
      "text/markdown": [
       "1. 1. 1\n",
       "2. 3\n",
       "\n",
       "\n",
       "\n",
       "2. 1. 4\n",
       "2. 6\n",
       "\n",
       "\n",
       "\n",
       "3. 1. 7\n",
       "2. 9\n",
       "\n",
       "\n",
       "\n",
       "\n",
       "\n"
      ],
      "text/plain": [
       "[[1]]\n",
       "[1] 1 3\n",
       "\n",
       "[[2]]\n",
       "[1] 4 6\n",
       "\n",
       "[[3]]\n",
       "[1] 7 9\n"
      ]
     },
     "metadata": {},
     "output_type": "display_data"
    }
   ],
   "source": [
    "## Lapply--returns a list\n",
    "a <- 1:3 \n",
    "b <- 4:6\n",
    "c <- 7:9\n",
    "ls <- list(a,b,c)\n",
    "ls\n",
    "\n",
    "lapply(ls, sum)\n",
    "class(lapply(ls, sum))\n",
    "\n",
    "lapply(ls, range)"
   ]
  },
  {
   "cell_type": "markdown",
   "id": "20e9a69b",
   "metadata": {},
   "source": [
    "### 7.3 S Apply"
   ]
  },
  {
   "cell_type": "code",
   "execution_count": 50,
   "id": "ebfc647f",
   "metadata": {
    "scrolled": false,
    "vscode": {
     "languageId": "r"
    }
   },
   "outputs": [
    {
     "data": {
      "text/html": [
       "<ol class=list-inline>\n",
       "\t<li>6</li>\n",
       "\t<li>15</li>\n",
       "\t<li>24</li>\n",
       "</ol>\n"
      ],
      "text/latex": [
       "\\begin{enumerate*}\n",
       "\\item 6\n",
       "\\item 15\n",
       "\\item 24\n",
       "\\end{enumerate*}\n"
      ],
      "text/markdown": [
       "1. 6\n",
       "2. 15\n",
       "3. 24\n",
       "\n",
       "\n"
      ],
      "text/plain": [
       "[1]  6 15 24"
      ]
     },
     "metadata": {},
     "output_type": "display_data"
    },
    {
     "data": {
      "text/html": [
       "'integer'"
      ],
      "text/latex": [
       "'integer'"
      ],
      "text/markdown": [
       "'integer'"
      ],
      "text/plain": [
       "[1] \"integer\""
      ]
     },
     "metadata": {},
     "output_type": "display_data"
    },
    {
     "data": {
      "text/html": [
       "<table>\n",
       "<tbody>\n",
       "\t<tr><td>1</td><td>4</td><td>7</td></tr>\n",
       "\t<tr><td>3</td><td>6</td><td>9</td></tr>\n",
       "</tbody>\n",
       "</table>\n"
      ],
      "text/latex": [
       "\\begin{tabular}{lll}\n",
       "\t 1 & 4 & 7\\\\\n",
       "\t 3 & 6 & 9\\\\\n",
       "\\end{tabular}\n"
      ],
      "text/markdown": [
       "\n",
       "| 1 | 4 | 7 |\n",
       "| 3 | 6 | 9 |\n",
       "\n"
      ],
      "text/plain": [
       "     [,1] [,2] [,3]\n",
       "[1,] 1    4    7   \n",
       "[2,] 3    6    9   "
      ]
     },
     "metadata": {},
     "output_type": "display_data"
    },
    {
     "data": {
      "text/html": [
       "'matrix'"
      ],
      "text/latex": [
       "'matrix'"
      ],
      "text/markdown": [
       "'matrix'"
      ],
      "text/plain": [
       "[1] \"matrix\""
      ]
     },
     "metadata": {},
     "output_type": "display_data"
    }
   ],
   "source": [
    "## Sapply--returns a vector or a Matrix\n",
    "\n",
    "sapply(ls, sum)\n",
    "class(sapply(ls, sum))\n",
    "\n",
    "sapply(ls, range)\n",
    "class(sapply(ls, range))"
   ]
  },
  {
   "cell_type": "markdown",
   "id": "b9b44faa",
   "metadata": {},
   "source": [
    "# 8. Assignment"
   ]
  },
  {
   "cell_type": "markdown",
   "id": "b7c1bb4b",
   "metadata": {},
   "source": [
    "###  8.1 Create a Matrix and Assign Column and Row Names instead of 1,2,3 ... etc"
   ]
  },
  {
   "cell_type": "code",
   "execution_count": 87,
   "id": "4a178eea",
   "metadata": {
    "scrolled": true,
    "vscode": {
     "languageId": "r"
    }
   },
   "outputs": [
    {
     "data": {
      "text/html": [
       "<table>\n",
       "<tbody>\n",
       "\t<tr><td>1 </td><td>4 </td><td>7 </td><td>10</td></tr>\n",
       "\t<tr><td>2 </td><td>5 </td><td>8 </td><td>11</td></tr>\n",
       "\t<tr><td>3 </td><td>6 </td><td>9 </td><td>12</td></tr>\n",
       "</tbody>\n",
       "</table>\n"
      ],
      "text/latex": [
       "\\begin{tabular}{llll}\n",
       "\t 1  & 4  & 7  & 10\\\\\n",
       "\t 2  & 5  & 8  & 11\\\\\n",
       "\t 3  & 6  & 9  & 12\\\\\n",
       "\\end{tabular}\n"
      ],
      "text/markdown": [
       "\n",
       "| 1  | 4  | 7  | 10 |\n",
       "| 2  | 5  | 8  | 11 |\n",
       "| 3  | 6  | 9  | 12 |\n",
       "\n"
      ],
      "text/plain": [
       "     [,1] [,2] [,3] [,4]\n",
       "[1,] 1    4    7    10  \n",
       "[2,] 2    5    8    11  \n",
       "[3,] 3    6    9    12  "
      ]
     },
     "metadata": {},
     "output_type": "display_data"
    },
    {
     "data": {
      "text/html": [
       "<table>\n",
       "<thead><tr><th></th><th scope=col>col1</th><th scope=col>col2</th><th scope=col>col3</th><th scope=col>col4</th></tr></thead>\n",
       "<tbody>\n",
       "\t<tr><th scope=row>row1</th><td>1 </td><td>4 </td><td>7 </td><td>10</td></tr>\n",
       "\t<tr><th scope=row>row2</th><td>2 </td><td>5 </td><td>8 </td><td>11</td></tr>\n",
       "\t<tr><th scope=row>row3</th><td>3 </td><td>6 </td><td>9 </td><td>12</td></tr>\n",
       "</tbody>\n",
       "</table>\n"
      ],
      "text/latex": [
       "\\begin{tabular}{r|llll}\n",
       "  & col1 & col2 & col3 & col4\\\\\n",
       "\\hline\n",
       "\trow1 & 1  & 4  & 7  & 10\\\\\n",
       "\trow2 & 2  & 5  & 8  & 11\\\\\n",
       "\trow3 & 3  & 6  & 9  & 12\\\\\n",
       "\\end{tabular}\n"
      ],
      "text/markdown": [
       "\n",
       "| <!--/--> | col1 | col2 | col3 | col4 |\n",
       "|---|---|---|---|---|\n",
       "| row1 | 1  | 4  | 7  | 10 |\n",
       "| row2 | 2  | 5  | 8  | 11 |\n",
       "| row3 | 3  | 6  | 9  | 12 |\n",
       "\n"
      ],
      "text/plain": [
       "     col1 col2 col3 col4\n",
       "row1 1    4    7    10  \n",
       "row2 2    5    8    11  \n",
       "row3 3    6    9    12  "
      ]
     },
     "metadata": {},
     "output_type": "display_data"
    },
    {
     "data": {
      "text/html": [
       "<table>\n",
       "<thead><tr><th></th><th scope=col>Apr</th><th scope=col>May</th><th scope=col>Jun</th><th scope=col>Jul</th></tr></thead>\n",
       "<tbody>\n",
       "\t<tr><th scope=row>Jan</th><td>1 </td><td>4 </td><td>7 </td><td>10</td></tr>\n",
       "\t<tr><th scope=row>Feb</th><td>2 </td><td>5 </td><td>8 </td><td>11</td></tr>\n",
       "\t<tr><th scope=row>Mar</th><td>3 </td><td>6 </td><td>9 </td><td>12</td></tr>\n",
       "</tbody>\n",
       "</table>\n"
      ],
      "text/latex": [
       "\\begin{tabular}{r|llll}\n",
       "  & Apr & May & Jun & Jul\\\\\n",
       "\\hline\n",
       "\tJan & 1  & 4  & 7  & 10\\\\\n",
       "\tFeb & 2  & 5  & 8  & 11\\\\\n",
       "\tMar & 3  & 6  & 9  & 12\\\\\n",
       "\\end{tabular}\n"
      ],
      "text/markdown": [
       "\n",
       "| <!--/--> | Apr | May | Jun | Jul |\n",
       "|---|---|---|---|---|\n",
       "| Jan | 1  | 4  | 7  | 10 |\n",
       "| Feb | 2  | 5  | 8  | 11 |\n",
       "| Mar | 3  | 6  | 9  | 12 |\n",
       "\n"
      ],
      "text/plain": [
       "    Apr May Jun Jul\n",
       "Jan 1   4   7   10 \n",
       "Feb 2   5   8   11 \n",
       "Mar 3   6   9   12 "
      ]
     },
     "metadata": {},
     "output_type": "display_data"
    }
   ],
   "source": [
    "m <- matrix(1:12, 3, 4)\n",
    "m\n",
    "dimnames(m) <- list(c('row1','row2','row3'), c('col1', 'col2', 'col3', 'col4'))\n",
    "m\n",
    "dimnames(m) <- list(month.abb[1:3], month.abb[4:7])\n",
    "m"
   ]
  },
  {
   "cell_type": "markdown",
   "id": "610e7378",
   "metadata": {},
   "source": [
    "### 8.2 Check if a vector is recursive in Nature (nested vector)\n",
    "\n",
    "- No"
   ]
  },
  {
   "cell_type": "code",
   "execution_count": 52,
   "id": "5f4e737a",
   "metadata": {
    "vscode": {
     "languageId": "r"
    }
   },
   "outputs": [
    {
     "data": {
      "text/html": [
       "<ol class=list-inline>\n",
       "\t<li>10</li>\n",
       "\t<li>20</li>\n",
       "\t<li>30</li>\n",
       "\t<li>40</li>\n",
       "\t<li>50</li>\n",
       "\t<li>60</li>\n",
       "\t<li>70</li>\n",
       "\t<li>80</li>\n",
       "\t<li>90</li>\n",
       "\t<li>11</li>\n",
       "\t<li>22</li>\n",
       "\t<li>33</li>\n",
       "\t<li>44</li>\n",
       "\t<li>55</li>\n",
       "\t<li>66</li>\n",
       "\t<li>77</li>\n",
       "\t<li>88</li>\n",
       "\t<li>99</li>\n",
       "</ol>\n"
      ],
      "text/latex": [
       "\\begin{enumerate*}\n",
       "\\item 10\n",
       "\\item 20\n",
       "\\item 30\n",
       "\\item 40\n",
       "\\item 50\n",
       "\\item 60\n",
       "\\item 70\n",
       "\\item 80\n",
       "\\item 90\n",
       "\\item 11\n",
       "\\item 22\n",
       "\\item 33\n",
       "\\item 44\n",
       "\\item 55\n",
       "\\item 66\n",
       "\\item 77\n",
       "\\item 88\n",
       "\\item 99\n",
       "\\end{enumerate*}\n"
      ],
      "text/markdown": [
       "1. 10\n",
       "2. 20\n",
       "3. 30\n",
       "4. 40\n",
       "5. 50\n",
       "6. 60\n",
       "7. 70\n",
       "8. 80\n",
       "9. 90\n",
       "10. 11\n",
       "11. 22\n",
       "12. 33\n",
       "13. 44\n",
       "14. 55\n",
       "15. 66\n",
       "16. 77\n",
       "17. 88\n",
       "18. 99\n",
       "\n",
       "\n"
      ],
      "text/plain": [
       " [1] 10 20 30 40 50 60 70 80 90 11 22 33 44 55 66 77 88 99"
      ]
     },
     "metadata": {},
     "output_type": "display_data"
    },
    {
     "data": {
      "text/html": [
       "<ol class=list-inline>\n",
       "\t<li>13</li>\n",
       "\t<li>23</li>\n",
       "\t<li>33</li>\n",
       "\t<li>43</li>\n",
       "\t<li>53</li>\n",
       "\t<li>63</li>\n",
       "\t<li>73</li>\n",
       "\t<li>83</li>\n",
       "\t<li>93</li>\n",
       "\t<li>11</li>\n",
       "\t<li>22</li>\n",
       "\t<li>33</li>\n",
       "\t<li>44</li>\n",
       "\t<li>55</li>\n",
       "\t<li>66</li>\n",
       "\t<li>77</li>\n",
       "\t<li>88</li>\n",
       "\t<li>99</li>\n",
       "</ol>\n"
      ],
      "text/latex": [
       "\\begin{enumerate*}\n",
       "\\item 13\n",
       "\\item 23\n",
       "\\item 33\n",
       "\\item 43\n",
       "\\item 53\n",
       "\\item 63\n",
       "\\item 73\n",
       "\\item 83\n",
       "\\item 93\n",
       "\\item 11\n",
       "\\item 22\n",
       "\\item 33\n",
       "\\item 44\n",
       "\\item 55\n",
       "\\item 66\n",
       "\\item 77\n",
       "\\item 88\n",
       "\\item 99\n",
       "\\end{enumerate*}\n"
      ],
      "text/markdown": [
       "1. 13\n",
       "2. 23\n",
       "3. 33\n",
       "4. 43\n",
       "5. 53\n",
       "6. 63\n",
       "7. 73\n",
       "8. 83\n",
       "9. 93\n",
       "10. 11\n",
       "11. 22\n",
       "12. 33\n",
       "13. 44\n",
       "14. 55\n",
       "15. 66\n",
       "16. 77\n",
       "17. 88\n",
       "18. 99\n",
       "\n",
       "\n"
      ],
      "text/plain": [
       " [1] 13 23 33 43 53 63 73 83 93 11 22 33 44 55 66 77 88 99"
      ]
     },
     "metadata": {},
     "output_type": "display_data"
    },
    {
     "data": {
      "text/html": [
       "<ol class=list-inline>\n",
       "\t<li>10</li>\n",
       "\t<li>20</li>\n",
       "\t<li>30</li>\n",
       "\t<li>40</li>\n",
       "\t<li>50</li>\n",
       "\t<li>60</li>\n",
       "\t<li>70</li>\n",
       "\t<li>80</li>\n",
       "\t<li>90</li>\n",
       "\t<li>11</li>\n",
       "\t<li>22</li>\n",
       "\t<li>33</li>\n",
       "\t<li>44</li>\n",
       "\t<li>55</li>\n",
       "\t<li>66</li>\n",
       "\t<li>77</li>\n",
       "\t<li>88</li>\n",
       "\t<li>99</li>\n",
       "\t<li>13</li>\n",
       "\t<li>23</li>\n",
       "\t<li>33</li>\n",
       "\t<li>43</li>\n",
       "\t<li>53</li>\n",
       "\t<li>63</li>\n",
       "\t<li>73</li>\n",
       "\t<li>83</li>\n",
       "\t<li>93</li>\n",
       "\t<li>11</li>\n",
       "\t<li>22</li>\n",
       "\t<li>33</li>\n",
       "\t<li>44</li>\n",
       "\t<li>55</li>\n",
       "\t<li>66</li>\n",
       "\t<li>77</li>\n",
       "\t<li>88</li>\n",
       "\t<li>99</li>\n",
       "</ol>\n"
      ],
      "text/latex": [
       "\\begin{enumerate*}\n",
       "\\item 10\n",
       "\\item 20\n",
       "\\item 30\n",
       "\\item 40\n",
       "\\item 50\n",
       "\\item 60\n",
       "\\item 70\n",
       "\\item 80\n",
       "\\item 90\n",
       "\\item 11\n",
       "\\item 22\n",
       "\\item 33\n",
       "\\item 44\n",
       "\\item 55\n",
       "\\item 66\n",
       "\\item 77\n",
       "\\item 88\n",
       "\\item 99\n",
       "\\item 13\n",
       "\\item 23\n",
       "\\item 33\n",
       "\\item 43\n",
       "\\item 53\n",
       "\\item 63\n",
       "\\item 73\n",
       "\\item 83\n",
       "\\item 93\n",
       "\\item 11\n",
       "\\item 22\n",
       "\\item 33\n",
       "\\item 44\n",
       "\\item 55\n",
       "\\item 66\n",
       "\\item 77\n",
       "\\item 88\n",
       "\\item 99\n",
       "\\end{enumerate*}\n"
      ],
      "text/markdown": [
       "1. 10\n",
       "2. 20\n",
       "3. 30\n",
       "4. 40\n",
       "5. 50\n",
       "6. 60\n",
       "7. 70\n",
       "8. 80\n",
       "9. 90\n",
       "10. 11\n",
       "11. 22\n",
       "12. 33\n",
       "13. 44\n",
       "14. 55\n",
       "15. 66\n",
       "16. 77\n",
       "17. 88\n",
       "18. 99\n",
       "19. 13\n",
       "20. 23\n",
       "21. 33\n",
       "22. 43\n",
       "23. 53\n",
       "24. 63\n",
       "25. 73\n",
       "26. 83\n",
       "27. 93\n",
       "28. 11\n",
       "29. 22\n",
       "30. 33\n",
       "31. 44\n",
       "32. 55\n",
       "33. 66\n",
       "34. 77\n",
       "35. 88\n",
       "36. 99\n",
       "\n",
       "\n"
      ],
      "text/plain": [
       " [1] 10 20 30 40 50 60 70 80 90 11 22 33 44 55 66 77 88 99 13 23 33 43 53 63 73\n",
       "[26] 83 93 11 22 33 44 55 66 77 88 99"
      ]
     },
     "metadata": {},
     "output_type": "display_data"
    }
   ],
   "source": [
    "vc1\n",
    "vc2\n",
    "vc_r = c(vc1, vc2)\n",
    "vc_r"
   ]
  },
  {
   "cell_type": "code",
   "execution_count": null,
   "id": "f6dd7c3e",
   "metadata": {
    "vscode": {
     "languageId": "r"
    }
   },
   "outputs": [],
   "source": []
  }
 ],
 "metadata": {
  "kernelspec": {
   "display_name": "R",
   "language": "R",
   "name": "ir"
  },
  "language_info": {
   "codemirror_mode": "r",
   "file_extension": ".r",
   "mimetype": "text/x-r-source",
   "name": "R",
   "pygments_lexer": "r",
   "version": "3.6.1"
  }
 },
 "nbformat": 4,
 "nbformat_minor": 5
}
